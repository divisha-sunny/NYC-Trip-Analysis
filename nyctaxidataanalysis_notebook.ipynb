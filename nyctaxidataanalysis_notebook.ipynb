{
 "cells": [
  {
   "cell_type": "code",
   "execution_count": 0,
   "metadata": {
    "application/vnd.databricks.v1+cell": {
     "cellMetadata": {
      "byteLimit": 2048000,
      "rowLimit": 10000
     },
     "inputWidgets": {},
     "nuid": "16d7bc9b-336c-4185-ad4c-e94d409694ea",
     "showTitle": false,
     "title": ""
    }
   },
   "outputs": [],
   "source": [
    "gcs_bucket_path = \"gs://nyc_trip_data_analysis/\"\n",
    "# List all files in the bucket\n",
    "file_list = dbutils.fs.ls(gcs_bucket_path)"
   ]
  },
  {
   "cell_type": "code",
   "execution_count": 0,
   "metadata": {
    "application/vnd.databricks.v1+cell": {
     "cellMetadata": {
      "byteLimit": 2048000,
      "rowLimit": 10000
     },
     "inputWidgets": {},
     "nuid": "62757729-a283-4d1f-82b3-8e3486658146",
     "showTitle": false,
     "title": ""
    }
   },
   "outputs": [
    {
     "output_type": "stream",
     "name": "stdout",
     "output_type": "stream",
     "text": [
      "Out[3]: [FileInfo(path='gs://nyc_trip_data_analysis/shape_file.csv', name='shape_file.csv', size=3773723, modificationTime=1696445518184),\n FileInfo(path='gs://nyc_trip_data_analysis/taxi_zones.dbf', name='taxi_zones.dbf', size=147506, modificationTime=1695526324943),\n FileInfo(path='gs://nyc_trip_data_analysis/taxi_zones.prj', name='taxi_zones.prj', size=562, modificationTime=1695526335376),\n FileInfo(path='gs://nyc_trip_data_analysis/taxi_zones.sbn', name='taxi_zones.sbn', size=2908, modificationTime=1695526347177),\n FileInfo(path='gs://nyc_trip_data_analysis/taxi_zones.sbx', name='taxi_zones.sbx', size=348, modificationTime=1695526358668),\n FileInfo(path='gs://nyc_trip_data_analysis/taxi_zones.shp', name='taxi_zones.shp', size=1586264, modificationTime=1695526371288),\n FileInfo(path='gs://nyc_trip_data_analysis/taxi_zones.shx', name='taxi_zones.shx', size=2204, modificationTime=1695526382433),\n FileInfo(path='gs://nyc_trip_data_analysis/shape_file.xlsx', name='shape_file.xlsx', size=1109079, modificationTime=1696446528397),\n FileInfo(path='gs://nyc_trip_data_analysis/taxi_zones.shp.xml', name='taxi_zones.shp.xml', size=907, modificationTime=1695526393465),\n FileInfo(path='gs://nyc_trip_data_analysis/taxi_zone_lookup.csv', name='taxi_zone_lookup.csv', size=12322, modificationTime=1695525406026),\n FileInfo(path='gs://nyc_trip_data_analysis/Copy of shape_file.csv', name='Copy of shape_file.csv', size=3773723, modificationTime=1696445561909),\n FileInfo(path='gs://nyc_trip_data_analysis/fhv_tripdata_2015-01.parquet', name='fhv_tripdata_2015-01.parquet', size=12111775, modificationTime=1695409656281),\n FileInfo(path='gs://nyc_trip_data_analysis/fhv_tripdata_2015-02.parquet', name='fhv_tripdata_2015-02.parquet', size=13671243, modificationTime=1695409671100),\n FileInfo(path='gs://nyc_trip_data_analysis/fhv_tripdata_2015-03.parquet', name='fhv_tripdata_2015-03.parquet', size=9047823, modificationTime=1695409730357),\n FileInfo(path='gs://nyc_trip_data_analysis/fhv_tripdata_2015-04.parquet', name='fhv_tripdata_2015-04.parquet', size=10762303, modificationTime=1695409742471),\n FileInfo(path='gs://nyc_trip_data_analysis/fhv_tripdata_2015-05.parquet', name='fhv_tripdata_2015-05.parquet', size=12009241, modificationTime=1695409754638),\n FileInfo(path='gs://nyc_trip_data_analysis/fhv_tripdata_2015-06.parquet', name='fhv_tripdata_2015-06.parquet', size=12011625, modificationTime=1695409767123),\n FileInfo(path='gs://nyc_trip_data_analysis/fhv_tripdata_2015-07.parquet', name='fhv_tripdata_2015-07.parquet', size=19571143, modificationTime=1695414071277),\n FileInfo(path='gs://nyc_trip_data_analysis/fhv_tripdata_2015-08.parquet', name='fhv_tripdata_2015-08.parquet', size=22623655, modificationTime=1695414086127),\n FileInfo(path='gs://nyc_trip_data_analysis/fhv_tripdata_2015-09.parquet', name='fhv_tripdata_2015-09.parquet', size=25998858, modificationTime=1695414117639),\n FileInfo(path='gs://nyc_trip_data_analysis/fhv_tripdata_2015-10.parquet', name='fhv_tripdata_2015-10.parquet', size=33084986, modificationTime=1695414130644),\n FileInfo(path='gs://nyc_trip_data_analysis/fhv_tripdata_2015-11.parquet', name='fhv_tripdata_2015-11.parquet', size=32194935, modificationTime=1695414213403),\n FileInfo(path='gs://nyc_trip_data_analysis/fhv_tripdata_2015-12.parquet', name='fhv_tripdata_2015-12.parquet', size=35365052, modificationTime=1695414225078),\n FileInfo(path='gs://nyc_trip_data_analysis/fhv_tripdata_2016-01.parquet', name='fhv_tripdata_2016-01.parquet', size=34388277, modificationTime=1695414269594),\n FileInfo(path='gs://nyc_trip_data_analysis/fhv_tripdata_2016-02.parquet', name='fhv_tripdata_2016-02.parquet', size=37920087, modificationTime=1695414152181),\n FileInfo(path='gs://nyc_trip_data_analysis/fhv_tripdata_2016-03.parquet', name='fhv_tripdata_2016-03.parquet', size=38465791, modificationTime=1695414141006),\n FileInfo(path='gs://nyc_trip_data_analysis/fhv_tripdata_2016-04.parquet', name='fhv_tripdata_2016-04.parquet', size=40845830, modificationTime=1695414302315),\n FileInfo(path='gs://nyc_trip_data_analysis/fhv_tripdata_2016-05.parquet', name='fhv_tripdata_2016-05.parquet', size=43777276, modificationTime=1695414372340),\n FileInfo(path='gs://nyc_trip_data_analysis/fhv_tripdata_2016-06.parquet', name='fhv_tripdata_2016-06.parquet', size=44016304, modificationTime=1695414392722),\n FileInfo(path='gs://nyc_trip_data_analysis/fhv_tripdata_2016-07.parquet', name='fhv_tripdata_2016-07.parquet', size=45241214, modificationTime=1695414452876),\n FileInfo(path='gs://nyc_trip_data_analysis/fhv_tripdata_2016-08.parquet', name='fhv_tripdata_2016-08.parquet', size=45826583, modificationTime=1695414504689),\n FileInfo(path='gs://nyc_trip_data_analysis/fhv_tripdata_2016-09.parquet', name='fhv_tripdata_2016-09.parquet', size=49081958, modificationTime=1695414537565),\n FileInfo(path='gs://nyc_trip_data_analysis/fhv_tripdata_2016-10.parquet', name='fhv_tripdata_2016-10.parquet', size=52452093, modificationTime=1695414559610),\n FileInfo(path='gs://nyc_trip_data_analysis/fhv_tripdata_2016-11.parquet', name='fhv_tripdata_2016-11.parquet', size=51186052, modificationTime=1695414549165),\n FileInfo(path='gs://nyc_trip_data_analysis/fhv_tripdata_2016-12.parquet', name='fhv_tripdata_2016-12.parquet', size=56953884, modificationTime=1695414526167),\n FileInfo(path='gs://nyc_trip_data_analysis/fhv_tripdata_2017-01.parquet', name='fhv_tripdata_2017-01.parquet', size=57547963, modificationTime=1695414515374),\n FileInfo(path='gs://nyc_trip_data_analysis/fhv_tripdata_2017-02.parquet', name='fhv_tripdata_2017-02.parquet', size=56404072, modificationTime=1695414464493),\n FileInfo(path='gs://nyc_trip_data_analysis/fhv_tripdata_2017-03.parquet', name='fhv_tripdata_2017-03.parquet', size=66749406, modificationTime=1695414414382),\n FileInfo(path='gs://nyc_trip_data_analysis/fhv_tripdata_2017-04.parquet', name='fhv_tripdata_2017-04.parquet', size=62883425, modificationTime=1695414403109),\n FileInfo(path='gs://nyc_trip_data_analysis/fhv_tripdata_2017-05.parquet', name='fhv_tripdata_2017-05.parquet', size=67217663, modificationTime=1695414382505),\n FileInfo(path='gs://nyc_trip_data_analysis/fhv_tripdata_2017-06.parquet', name='fhv_tripdata_2017-06.parquet', size=140101048, modificationTime=1695414285223),\n FileInfo(path='gs://nyc_trip_data_analysis/fhv_tripdata_2017-07.parquet', name='fhv_tripdata_2017-07.parquet', size=143619565, modificationTime=1695414609401),\n FileInfo(path='gs://nyc_trip_data_analysis/fhv_tripdata_2017-08.parquet', name='fhv_tripdata_2017-08.parquet', size=145294907, modificationTime=1695414666376),\n FileInfo(path='gs://nyc_trip_data_analysis/fhv_tripdata_2017-09.parquet', name='fhv_tripdata_2017-09.parquet', size=151016071, modificationTime=1695414677655),\n FileInfo(path='gs://nyc_trip_data_analysis/fhv_tripdata_2017-10.parquet', name='fhv_tripdata_2017-10.parquet', size=162177443, modificationTime=1695414702051),\n FileInfo(path='gs://nyc_trip_data_analysis/fhv_tripdata_2017-11.parquet', name='fhv_tripdata_2017-11.parquet', size=163803697, modificationTime=1695414732631),\n FileInfo(path='gs://nyc_trip_data_analysis/fhv_tripdata_2017-12.parquet', name='fhv_tripdata_2017-12.parquet', size=181409875, modificationTime=1695414773153),\n FileInfo(path='gs://nyc_trip_data_analysis/fhv_tripdata_2018-01.parquet', name='fhv_tripdata_2018-01.parquet', size=180474969, modificationTime=1695414689339),\n FileInfo(path='gs://nyc_trip_data_analysis/fhv_tripdata_2018-02.parquet', name='fhv_tripdata_2018-02.parquet', size=174616810, modificationTime=1695414788544),\n FileInfo(path='gs://nyc_trip_data_analysis/fhv_tripdata_2018-03.parquet', name='fhv_tripdata_2018-03.parquet', size=198108798, modificationTime=1695414799950),\n FileInfo(path='gs://nyc_trip_data_analysis/fhv_tripdata_2018-04.parquet', name='fhv_tripdata_2018-04.parquet', size=191446020, modificationTime=1695414712975),\n FileInfo(path='gs://nyc_trip_data_analysis/fhv_tripdata_2018-05.parquet', name='fhv_tripdata_2018-05.parquet', size=196318339, modificationTime=1695414655902),\n FileInfo(path='gs://nyc_trip_data_analysis/fhv_tripdata_2018-06.parquet', name='fhv_tripdata_2018-06.parquet', size=191936464, modificationTime=1695414645199),\n FileInfo(path='gs://nyc_trip_data_analysis/fhv_tripdata_2018-07.parquet', name='fhv_tripdata_2018-07.parquet', size=197385623, modificationTime=1695414634565),\n FileInfo(path='gs://nyc_trip_data_analysis/fhv_tripdata_2018-08.parquet', name='fhv_tripdata_2018-08.parquet', size=201780696, modificationTime=1695414622498),\n FileInfo(path='gs://nyc_trip_data_analysis/fhv_tripdata_2018-09.parquet', name='fhv_tripdata_2018-09.parquet', size=201448220, modificationTime=1695415014681),\n FileInfo(path='gs://nyc_trip_data_analysis/fhv_tripdata_2018-10.parquet', name='fhv_tripdata_2018-10.parquet', size=212541078, modificationTime=1695415038770),\n FileInfo(path='gs://nyc_trip_data_analysis/fhv_tripdata_2018-11.parquet', name='fhv_tripdata_2018-11.parquet', size=208557336, modificationTime=1695415049936),\n FileInfo(path='gs://nyc_trip_data_analysis/fhv_tripdata_2018-12.parquet', name='fhv_tripdata_2018-12.parquet', size=216961802, modificationTime=1695415061336),\n FileInfo(path='gs://nyc_trip_data_analysis/fhv_tripdata_2019-01.parquet', name='fhv_tripdata_2019-01.parquet', size=210707424, modificationTime=1695415082877),\n FileInfo(path='gs://nyc_trip_data_analysis/fhv_tripdata_2019-02.parquet', name='fhv_tripdata_2019-02.parquet', size=15282636, modificationTime=1695415072427),\n FileInfo(path='gs://nyc_trip_data_analysis/fhv_tripdata_2019-03.parquet', name='fhv_tripdata_2019-03.parquet', size=13576299, modificationTime=1695415025491),\n FileInfo(path='gs://nyc_trip_data_analysis/fhv_tripdata_2019-04.parquet', name='fhv_tripdata_2019-04.parquet', size=17074503, modificationTime=1695414816644),\n FileInfo(path='gs://nyc_trip_data_analysis/fhv_tripdata_2019-05.parquet', name='fhv_tripdata_2019-05.parquet', size=18204679, modificationTime=1695414840409),\n FileInfo(path='gs://nyc_trip_data_analysis/fhv_tripdata_2019-06.parquet', name='fhv_tripdata_2019-06.parquet', size=17769396, modificationTime=1695414852522),\n FileInfo(path='gs://nyc_trip_data_analysis/fhv_tripdata_2019-07.parquet', name='fhv_tripdata_2019-07.parquet', size=17313821, modificationTime=1695414908296),\n FileInfo(path='gs://nyc_trip_data_analysis/fhv_tripdata_2019-08.parquet', name='fhv_tripdata_2019-08.parquet', size=17309069, modificationTime=1695414864268),\n FileInfo(path='gs://nyc_trip_data_analysis/fhv_tripdata_2019-09.parquet', name='fhv_tripdata_2019-09.parquet', size=12256014, modificationTime=1695414950722),\n FileInfo(path='gs://nyc_trip_data_analysis/fhv_tripdata_2019-10.parquet', name='fhv_tripdata_2019-10.parquet', size=18344035, modificationTime=1695414984667),\n FileInfo(path='gs://nyc_trip_data_analysis/fhv_tripdata_2019-11.parquet', name='fhv_tripdata_2019-11.parquet', size=18162486, modificationTime=1695414995950),\n FileInfo(path='gs://nyc_trip_data_analysis/fhv_tripdata_2019-12.parquet', name='fhv_tripdata_2019-12.parquet', size=19638634, modificationTime=1695414971231),\n FileInfo(path='gs://nyc_trip_data_analysis/fhv_tripdata_2020-01.parquet', name='fhv_tripdata_2020-01.parquet', size=19492091, modificationTime=1695414828599),\n FileInfo(path='gs://nyc_trip_data_analysis/fhv_tripdata_2020-02.parquet', name='fhv_tripdata_2020-02.parquet', size=18463458, modificationTime=1695414594028),\n FileInfo(path='gs://nyc_trip_data_analysis/fhv_tripdata_2020-03.parquet', name='fhv_tripdata_2020-03.parquet', size=14325187, modificationTime=1695413901911),\n FileInfo(path='gs://nyc_trip_data_analysis/fhv_tripdata_2020-04.parquet', name='fhv_tripdata_2020-04.parquet', size=6487973, modificationTime=1695413926267),\n FileInfo(path='gs://nyc_trip_data_analysis/fhv_tripdata_2020-05.parquet', name='fhv_tripdata_2020-05.parquet', size=8462643, modificationTime=1695413938242),\n FileInfo(path='gs://nyc_trip_data_analysis/fhv_tripdata_2020-06.parquet', name='fhv_tripdata_2020-06.parquet', size=10657161, modificationTime=1695413951313),\n FileInfo(path='gs://nyc_trip_data_analysis/fhv_tripdata_2020-07.parquet', name='fhv_tripdata_2020-07.parquet', size=11741599, modificationTime=1695413974565),\n FileInfo(path='gs://nyc_trip_data_analysis/fhv_tripdata_2020-08.parquet', name='fhv_tripdata_2020-08.parquet', size=12333513, modificationTime=1695413963460),\n FileInfo(path='gs://nyc_trip_data_analysis/fhv_tripdata_2020-09.parquet', name='fhv_tripdata_2020-09.parquet', size=12994527, modificationTime=1695413914646),\n FileInfo(path='gs://nyc_trip_data_analysis/fhv_tripdata_2020-10.parquet', name='fhv_tripdata_2020-10.parquet', size=12814343, modificationTime=1695413998145),\n FileInfo(path='gs://nyc_trip_data_analysis/fhv_tripdata_2020-11.parquet', name='fhv_tripdata_2020-11.parquet', size=12335235, modificationTime=1695414055853),\n FileInfo(path='gs://nyc_trip_data_analysis/fhv_tripdata_2020-12.parquet', name='fhv_tripdata_2020-12.parquet', size=12027645, modificationTime=1695414009085),\n FileInfo(path='gs://nyc_trip_data_analysis/fhv_tripdata_2021-01.parquet', name='fhv_tripdata_2021-01.parquet', size=11886281, modificationTime=1695414034271),\n FileInfo(path='gs://nyc_trip_data_analysis/fhv_tripdata_2021-02.parquet', name='fhv_tripdata_2021-02.parquet', size=10645466, modificationTime=1695414045521),\n FileInfo(path='gs://nyc_trip_data_analysis/fhv_tripdata_2021-03.parquet', name='fhv_tripdata_2021-03.parquet', size=13167110, modificationTime=1695414021200),\n FileInfo(path='gs://nyc_trip_data_analysis/fhv_tripdata_2021-04.parquet', name='fhv_tripdata_2021-04.parquet', size=12857489, modificationTime=1695413986250),\n FileInfo(path='gs://nyc_trip_data_analysis/fhv_tripdata_2021-05.parquet', name='fhv_tripdata_2021-05.parquet', size=12830270, modificationTime=1695413734880),\n FileInfo(path='gs://nyc_trip_data_analysis/fhv_tripdata_2021-06.parquet', name='fhv_tripdata_2021-06.parquet', size=13208079, modificationTime=1695413746907),\n FileInfo(path='gs://nyc_trip_data_analysis/fhv_tripdata_2021-07.parquet', name='fhv_tripdata_2021-07.parquet', size=12650862, modificationTime=1695413799088),\n FileInfo(path='gs://nyc_trip_data_analysis/fhv_tripdata_2021-08.parquet', name='fhv_tripdata_2021-08.parquet', size=12249792, modificationTime=1695413822754),\n FileInfo(path='gs://nyc_trip_data_analysis/fhv_tripdata_2021-09.parquet', name='fhv_tripdata_2021-09.parquet', size=12019173, modificationTime=1695413833215),\n FileInfo(path='gs://nyc_trip_data_analysis/fhv_tripdata_2021-10.parquet', name='fhv_tripdata_2021-10.parquet', size=12875974, modificationTime=1695413809655),\n FileInfo(path='gs://nyc_trip_data_analysis/fhv_tripdata_2021-11.parquet', name='fhv_tripdata_2021-11.parquet', size=12368097, modificationTime=1695413844305),\n FileInfo(path='gs://nyc_trip_data_analysis/fhv_tripdata_2021-12.parquet', name='fhv_tripdata_2021-12.parquet', size=13590300, modificationTime=1695413866538),\n FileInfo(path='gs://nyc_trip_data_analysis/fhv_tripdata_2022-01.parquet', name='fhv_tripdata_2022-01.parquet', size=11663225, modificationTime=1695413855309),\n FileInfo(path='gs://nyc_trip_data_analysis/fhv_tripdata_2022-02.parquet', name='fhv_tripdata_2022-02.parquet', size=12497217, modificationTime=1695413877864),\n FileInfo(path='gs://nyc_trip_data_analysis/fhv_tripdata_2022-03.parquet', name='fhv_tripdata_2022-03.parquet', size=13748459, modificationTime=1695413589187),\n FileInfo(path='gs://nyc_trip_data_analysis/fhv_tripdata_2022-04.parquet', name='fhv_tripdata_2022-04.parquet', size=12766827, modificationTime=1695413601212),\n FileInfo(path='gs://nyc_trip_data_analysis/fhv_tripdata_2022-05.parquet', name='fhv_tripdata_2022-05.parquet', size=12667396, modificationTime=1695413622923),\n FileInfo(path='gs://nyc_trip_data_analysis/fhv_tripdata_2022-06.parquet', name='fhv_tripdata_2022-06.parquet', size=12241461, modificationTime=1695413634921),\n FileInfo(path='gs://nyc_trip_data_analysis/fhv_tripdata_2022-07.parquet', name='fhv_tripdata_2022-07.parquet', size=11851834, modificationTime=1695413612244),\n FileInfo(path='gs://nyc_trip_data_analysis/fhv_tripdata_2022-08.parquet', name='fhv_tripdata_2022-08.parquet', size=11826775, modificationTime=1695413701396),\n FileInfo(path='gs://nyc_trip_data_analysis/fhv_tripdata_2022-09.parquet', name='fhv_tripdata_2022-09.parquet', size=11771857, modificationTime=1695413711874),\n FileInfo(path='gs://nyc_trip_data_analysis/fhv_tripdata_2022-10.parquet', name='fhv_tripdata_2022-10.parquet', size=12051434, modificationTime=1695413647161),\n FileInfo(path='gs://nyc_trip_data_analysis/fhv_tripdata_2022-11.parquet', name='fhv_tripdata_2022-11.parquet', size=11298968, modificationTime=1695413670779),\n FileInfo(path='gs://nyc_trip_data_analysis/fhv_tripdata_2022-12.parquet', name='fhv_tripdata_2022-12.parquet', size=12863273, modificationTime=1695413681101),\n FileInfo(path='gs://nyc_trip_data_analysis/fhv_tripdata_2023-01.parquet', name='fhv_tripdata_2023-01.parquet', size=11308978, modificationTime=1695413690841),\n FileInfo(path='gs://nyc_trip_data_analysis/fhv_tripdata_2023-02.parquet', name='fhv_tripdata_2023-02.parquet', size=12771769, modificationTime=1695413659109),\n FileInfo(path='gs://nyc_trip_data_analysis/fhv_tripdata_2023-03.parquet', name='fhv_tripdata_2023-03.parquet', size=15030025, modificationTime=1695409800143),\n FileInfo(path='gs://nyc_trip_data_analysis/fhv_tripdata_2023-04.parquet', name='fhv_tripdata_2023-04.parquet', size=14237314, modificationTime=1695409789998),\n FileInfo(path='gs://nyc_trip_data_analysis/fhv_tripdata_2023-05.parquet', name='fhv_tripdata_2023-05.parquet', size=15628971, modificationTime=1695416246949),\n FileInfo(path='gs://nyc_trip_data_analysis/fhv_tripdata_2023-06.parquet', name='fhv_tripdata_2023-06.parquet', size=14034231, modificationTime=1695416279225),\n FileInfo(path='gs://nyc_trip_data_analysis/fhvhv_tripdata_2019-02.parquet', name='fhvhv_tripdata_2019-02.parquet', size=513054623, modificationTime=1695416310412),\n FileInfo(path='gs://nyc_trip_data_analysis/fhvhv_tripdata_2019-03.parquet', name='fhvhv_tripdata_2019-03.parquet', size=610854382, modificationTime=1695416344169),\n FileInfo(path='gs://nyc_trip_data_analysis/fhvhv_tripdata_2019-04.parquet', name='fhvhv_tripdata_2019-04.parquet', size=559656651, modificationTime=1695416376663),\n FileInfo(path='gs://nyc_trip_data_analysis/fhvhv_tripdata_2019-05.parquet', name='fhvhv_tripdata_2019-05.parquet', size=570821186, modificationTime=1695416400168),\n FileInfo(path='gs://nyc_trip_data_analysis/fhvhv_tripdata_2019-06.parquet', name='fhvhv_tripdata_2019-06.parquet', size=536191926, modificationTime=1695416412399),\n FileInfo(path='gs://nyc_trip_data_analysis/fhvhv_tripdata_2019-07.parquet', name='fhvhv_tripdata_2019-07.parquet', size=516008365, modificationTime=1695416389314),\n FileInfo(path='gs://nyc_trip_data_analysis/fhvhv_tripdata_2019-08.parquet', name='fhvhv_tripdata_2019-08.parquet', size=501435971, modificationTime=1695416364335),\n FileInfo(path='gs://nyc_trip_data_analysis/fhvhv_tripdata_2019-09.parquet', name='fhvhv_tripdata_2019-09.parquet', size=515944585, modificationTime=1695416354531),\n FileInfo(path='gs://nyc_trip_data_analysis/fhvhv_tripdata_2019-10.parquet', name='fhvhv_tripdata_2019-10.parquet', size=549370339, modificationTime=1695416320505),\n FileInfo(path='gs://nyc_trip_data_analysis/fhvhv_tripdata_2019-11.parquet', name='fhvhv_tripdata_2019-11.parquet', size=561011664, modificationTime=1695416300248),\n FileInfo(path='gs://nyc_trip_data_analysis/fhvhv_tripdata_2019-12.parquet', name='fhvhv_tripdata_2019-12.parquet', size=576648876, modificationTime=1695416289465),\n FileInfo(path='gs://nyc_trip_data_analysis/fhvhv_tripdata_2020-01.parquet', name='fhvhv_tripdata_2020-01.parquet', size=531275933, modificationTime=1695416446046),\n FileInfo(path='gs://nyc_trip_data_analysis/fhvhv_tripdata_2020-02.parquet', name='fhvhv_tripdata_2020-02.parquet', size=558874878, modificationTime=1695416502327),\n FileInfo(path='gs://nyc_trip_data_analysis/fhvhv_tripdata_2020-03.parquet', name='fhvhv_tripdata_2020-03.parquet', size=346478514, modificationTime=1695416560444),\n FileInfo(path='gs://nyc_trip_data_analysis/fhvhv_tripdata_2020-04.parquet', name='fhvhv_tripdata_2020-04.parquet', size=114835005, modificationTime=1695416597184),\n FileInfo(path='gs://nyc_trip_data_analysis/fhvhv_tripdata_2020-05.parquet', name='fhvhv_tripdata_2020-05.parquet', size=160544713, modificationTime=1695416624583),\n FileInfo(path='gs://nyc_trip_data_analysis/fhvhv_tripdata_2020-06.parquet', name='fhvhv_tripdata_2020-06.parquet', size=197972781, modificationTime=1695416652223),\n FileInfo(path='gs://nyc_trip_data_analysis/fhvhv_tripdata_2020-07.parquet', name='fhvhv_tripdata_2020-07.parquet', size=260252547, modificationTime=1695416721723),\n FileInfo(path='gs://nyc_trip_data_analysis/fhvhv_tripdata_2020-08.parquet', name='fhvhv_tripdata_2020-08.parquet', size=290447928, modificationTime=1695416732947),\n FileInfo(path='gs://nyc_trip_data_analysis/fhvhv_tripdata_2020-09.parquet', name='fhvhv_tripdata_2020-09.parquet', size=314689382, modificationTime=1695416641824),\n FileInfo(path='gs://nyc_trip_data_analysis/fhvhv_tripdata_2020-10.parquet', name='fhvhv_tripdata_2020-10.parquet', size=345178105, modificationTime=1695416608618),\n FileInfo(path='gs://nyc_trip_data_analysis/fhvhv_tripdata_2020-11.parquet', name='fhvhv_tripdata_2020-11.parquet', size=301856152, modificationTime=1695416584404),\n FileInfo(path='gs://nyc_trip_data_analysis/fhvhv_tripdata_2020-12.parquet', name='fhvhv_tripdata_2020-12.parquet', size=303264028, modificationTime=1695416571083),\n FileInfo(path='gs://nyc_trip_data_analysis/fhvhv_tripdata_2021-01.parquet', name='fhvhv_tripdata_2021-01.parquet', size=308924937, modificationTime=1695416530934),\n FileInfo(path='gs://nyc_trip_data_analysis/fhvhv_tripdata_2021-02.parquet', name='fhvhv_tripdata_2021-02.parquet', size=302633211, modificationTime=1695416460550),\n FileInfo(path='gs://nyc_trip_data_analysis/fhvhv_tripdata_2021-03.parquet', name='fhvhv_tripdata_2021-03.parquet', size=368370915, modificationTime=1695416432084),\n FileInfo(path='gs://nyc_trip_data_analysis/fhvhv_tripdata_2021-04.parquet', name='fhvhv_tripdata_2021-04.parquet', size=368416040, modificationTime=1695417434969),\n FileInfo(path='gs://nyc_trip_data_analysis/fhvhv_tripdata_2021-05.parquet', name='fhvhv_tripdata_2021-05.parquet', size=387251422, modificationTime=1695417488021),\n FileInfo(path='gs://nyc_trip_data_analysis/fhvhv_tripdata_2021-06.parquet', name='fhvhv_tripdata_2021-06.parquet', size=394114750, modificationTime=1695417499183),\n FileInfo(path='gs://nyc_trip_data_analysis/fhvhv_tripdata_2021-07.parquet', name='fhvhv_tripdata_2021-07.parquet', size=395966912, modificationTime=1695417522201),\n FileInfo(path='gs://nyc_trip_data_analysis/fhvhv_tripdata_2021-08.parquet', name='fhvhv_tripdata_2021-08.parquet', size=382326987, modificationTime=1695417573861),\n FileInfo(path='gs://nyc_trip_data_analysis/fhvhv_tripdata_2021-09.parquet', name='fhvhv_tripdata_2021-09.parquet', size=393687782, modificationTime=1695417611898),\n FileInfo(path='gs://nyc_trip_data_analysis/fhvhv_tripdata_2021-10.parquet', name='fhvhv_tripdata_2021-10.parquet', size=430115885, modificationTime=1695417623899),\n FileInfo(path='gs://nyc_trip_data_analysis/fhvhv_tripdata_2021-11.parquet', name='fhvhv_tripdata_2021-11.parquet', size=411061458, modificationTime=1695417585964),\n FileInfo(path='gs://nyc_trip_data_analysis/fhvhv_tripdata_2021-12.parquet', name='fhvhv_tripdata_2021-12.parquet', size=410934116, modificationTime=1695417556093),\n FileInfo(path='gs://nyc_trip_data_analysis/fhvhv_tripdata_2022-01.parquet', name='fhvhv_tripdata_2022-01.parquet', size=374619188, modificationTime=1695417543853),\n FileInfo(path='gs://nyc_trip_data_analysis/fhvhv_tripdata_2022-02.parquet', name='fhvhv_tripdata_2022-02.parquet', size=407154284, modificationTime=1695417532233),\n FileInfo(path='gs://nyc_trip_data_analysis/fhvhv_tripdata_2022-03.parquet', name='fhvhv_tripdata_2022-03.parquet', size=471233716, modificationTime=1695417508493),\n FileInfo(path='gs://nyc_trip_data_analysis/fhvhv_tripdata_2022-04.parquet', name='fhvhv_tripdata_2022-04.parquet', size=455549033, modificationTime=1695417469489),\n FileInfo(path='gs://nyc_trip_data_analysis/fhvhv_tripdata_2022-05.parquet', name='fhvhv_tripdata_2022-05.parquet', size=468565693, modificationTime=1695417457767),\n FileInfo(path='gs://nyc_trip_data_analysis/fhvhv_tripdata_2022-06.parquet', name='fhvhv_tripdata_2022-06.parquet', size=458193119, modificationTime=1695417446680),\n FileInfo(path='gs://nyc_trip_data_analysis/fhvhv_tripdata_2022-07.parquet', name='fhvhv_tripdata_2022-07.parquet', size=443730405, modificationTime=1695417847711),\n FileInfo(path='gs://nyc_trip_data_analysis/fhvhv_tripdata_2022-08.parquet', name='fhvhv_tripdata_2022-08.parquet', size=436536084, modificationTime=1695417940000),\n FileInfo(path='gs://nyc_trip_data_analysis/fhvhv_tripdata_2022-09.parquet', name='fhvhv_tripdata_2022\n\n*** WARNING: max output size exceeded, skipping output. ***\n\nFileInfo(path='gs://nyc_trip_data_analysis/yellow_tripdata_2011-01.parquet', name='yellow_tripdata_2011-01.parquet', size=167179830, modificationTime=1694986552505),\n FileInfo(path='gs://nyc_trip_data_analysis/yellow_tripdata_2011-02.parquet', name='yellow_tripdata_2011-02.parquet', size=175980833, modificationTime=1694986570571),\n FileInfo(path='gs://nyc_trip_data_analysis/yellow_tripdata_2011-03.parquet', name='yellow_tripdata_2011-03.parquet', size=199932870, modificationTime=1694986582634),\n FileInfo(path='gs://nyc_trip_data_analysis/yellow_tripdata_2011-04.parquet', name='yellow_tripdata_2011-04.parquet', size=184195235, modificationTime=1694986620101),\n FileInfo(path='gs://nyc_trip_data_analysis/yellow_tripdata_2011-05.parquet', name='yellow_tripdata_2011-05.parquet', size=193432650, modificationTime=1694986605930),\n FileInfo(path='gs://nyc_trip_data_analysis/yellow_tripdata_2011-06.parquet', name='yellow_tripdata_2011-06.parquet', size=189119923, modificationTime=1694986594322),\n FileInfo(path='gs://nyc_trip_data_analysis/yellow_tripdata_2011-07.parquet', name='yellow_tripdata_2011-07.parquet', size=184027650, modificationTime=1694986636244),\n FileInfo(path='gs://nyc_trip_data_analysis/yellow_tripdata_2011-08.parquet', name='yellow_tripdata_2011-08.parquet', size=166214848, modificationTime=1694986649335),\n FileInfo(path='gs://nyc_trip_data_analysis/yellow_tripdata_2011-09.parquet', name='yellow_tripdata_2011-09.parquet', size=183493192, modificationTime=1694986662625),\n FileInfo(path='gs://nyc_trip_data_analysis/yellow_tripdata_2011-10.parquet', name='yellow_tripdata_2011-10.parquet', size=196273077, modificationTime=1694986763197),\n FileInfo(path='gs://nyc_trip_data_analysis/yellow_tripdata_2011-11.parquet', name='yellow_tripdata_2011-11.parquet', size=181862379, modificationTime=1694986790775),\n FileInfo(path='gs://nyc_trip_data_analysis/yellow_tripdata_2011-12.parquet', name='yellow_tripdata_2011-12.parquet', size=186508736, modificationTime=1694986805595),\n FileInfo(path='gs://nyc_trip_data_analysis/yellow_tripdata_2012-01.parquet', name='yellow_tripdata_2012-01.parquet', size=166778702, modificationTime=1694985856377),\n FileInfo(path='gs://nyc_trip_data_analysis/yellow_tripdata_2012-02.parquet', name='yellow_tripdata_2012-02.parquet', size=170999814, modificationTime=1694985869817),\n FileInfo(path='gs://nyc_trip_data_analysis/yellow_tripdata_2012-03.parquet', name='yellow_tripdata_2012-03.parquet', size=204978557, modificationTime=1694985883812),\n FileInfo(path='gs://nyc_trip_data_analysis/yellow_tripdata_2012-04.parquet', name='yellow_tripdata_2012-04.parquet', size=174197742, modificationTime=1694985898641),\n FileInfo(path='gs://nyc_trip_data_analysis/yellow_tripdata_2012-05.parquet', name='yellow_tripdata_2012-05.parquet', size=181030635, modificationTime=1694985911317),\n FileInfo(path='gs://nyc_trip_data_analysis/yellow_tripdata_2012-06.parquet', name='yellow_tripdata_2012-06.parquet', size=193509508, modificationTime=1694985925036),\n FileInfo(path='gs://nyc_trip_data_analysis/yellow_tripdata_2012-07.parquet', name='yellow_tripdata_2012-07.parquet', size=183935553, modificationTime=1694985940558),\n FileInfo(path='gs://nyc_trip_data_analysis/yellow_tripdata_2012-08.parquet', name='yellow_tripdata_2012-08.parquet', size=184507061, modificationTime=1694985957254),\n FileInfo(path='gs://nyc_trip_data_analysis/yellow_tripdata_2012-09.parquet', name='yellow_tripdata_2012-09.parquet', size=187245283, modificationTime=1694985972199),\n FileInfo(path='gs://nyc_trip_data_analysis/yellow_tripdata_2012-10.parquet', name='yellow_tripdata_2012-10.parquet', size=181506517, modificationTime=1694985988079),\n FileInfo(path='gs://nyc_trip_data_analysis/yellow_tripdata_2012-11.parquet', name='yellow_tripdata_2012-11.parquet', size=172489795, modificationTime=1694986001458),\n FileInfo(path='gs://nyc_trip_data_analysis/yellow_tripdata_2012-12.parquet', name='yellow_tripdata_2012-12.parquet', size=182600871, modificationTime=1694986015969),\n FileInfo(path='gs://nyc_trip_data_analysis/yellow_tripdata_2013-01.parquet', name='yellow_tripdata_2013-01.parquet', size=184736650, modificationTime=1694986182095),\n FileInfo(path='gs://nyc_trip_data_analysis/yellow_tripdata_2013-02.parquet', name='yellow_tripdata_2013-02.parquet', size=172505462, modificationTime=1694986194648),\n FileInfo(path='gs://nyc_trip_data_analysis/yellow_tripdata_2013-03.parquet', name='yellow_tripdata_2013-03.parquet', size=195313202, modificationTime=1694986208136),\n FileInfo(path='gs://nyc_trip_data_analysis/yellow_tripdata_2013-04.parquet', name='yellow_tripdata_2013-04.parquet', size=180221055, modificationTime=1694986222210),\n FileInfo(path='gs://nyc_trip_data_analysis/yellow_tripdata_2013-05.parquet', name='yellow_tripdata_2013-05.parquet', size=190682031, modificationTime=1694986236631),\n FileInfo(path='gs://nyc_trip_data_analysis/yellow_tripdata_2013-06.parquet', name='yellow_tripdata_2013-06.parquet', size=179544093, modificationTime=1694986251856),\n FileInfo(path='gs://nyc_trip_data_analysis/yellow_tripdata_2013-07.parquet', name='yellow_tripdata_2013-07.parquet', size=173531868, modificationTime=1694986280275),\n FileInfo(path='gs://nyc_trip_data_analysis/yellow_tripdata_2013-08.parquet', name='yellow_tripdata_2013-08.parquet', size=148172545, modificationTime=1694986296228),\n FileInfo(path='gs://nyc_trip_data_analysis/yellow_tripdata_2013-09.parquet', name='yellow_tripdata_2013-09.parquet', size=176839524, modificationTime=1694986309654),\n FileInfo(path='gs://nyc_trip_data_analysis/yellow_tripdata_2013-10.parquet', name='yellow_tripdata_2013-10.parquet', size=188241576, modificationTime=1694986373494),\n FileInfo(path='gs://nyc_trip_data_analysis/yellow_tripdata_2013-11.parquet', name='yellow_tripdata_2013-11.parquet', size=179235590, modificationTime=1694986387129),\n FileInfo(path='gs://nyc_trip_data_analysis/yellow_tripdata_2013-12.parquet', name='yellow_tripdata_2013-12.parquet', size=174890659, modificationTime=1694986397799),\n FileInfo(path='gs://nyc_trip_data_analysis/yellow_tripdata_2014-01.parquet', name='yellow_tripdata_2014-01.parquet', size=171982098, modificationTime=1694986413281),\n FileInfo(path='gs://nyc_trip_data_analysis/yellow_tripdata_2014-02.parquet', name='yellow_tripdata_2014-02.parquet', size=162202347, modificationTime=1694986426229),\n FileInfo(path='gs://nyc_trip_data_analysis/yellow_tripdata_2014-03.parquet', name='yellow_tripdata_2014-03.parquet', size=192434692, modificationTime=1694986438299),\n FileInfo(path='gs://nyc_trip_data_analysis/yellow_tripdata_2014-04.parquet', name='yellow_tripdata_2014-04.parquet', size=183195017, modificationTime=1694986163292),\n FileInfo(path='gs://nyc_trip_data_analysis/yellow_tripdata_2014-05.parquet', name='yellow_tripdata_2014-05.parquet', size=186694423, modificationTime=1694986149374),\n FileInfo(path='gs://nyc_trip_data_analysis/yellow_tripdata_2014-06.parquet', name='yellow_tripdata_2014-06.parquet', size=173833877, modificationTime=1694986137372),\n FileInfo(path='gs://nyc_trip_data_analysis/yellow_tripdata_2014-07.parquet', name='yellow_tripdata_2014-07.parquet', size=165108601, modificationTime=1694986120464),\n FileInfo(path='gs://nyc_trip_data_analysis/yellow_tripdata_2014-08.parquet', name='yellow_tripdata_2014-08.parquet', size=173192581, modificationTime=1694986106462),\n FileInfo(path='gs://nyc_trip_data_analysis/yellow_tripdata_2014-09.parquet', name='yellow_tripdata_2014-09.parquet', size=183853413, modificationTime=1694986093188),\n FileInfo(path='gs://nyc_trip_data_analysis/yellow_tripdata_2014-10.parquet', name='yellow_tripdata_2014-10.parquet', size=195654699, modificationTime=1694986081491),\n FileInfo(path='gs://nyc_trip_data_analysis/yellow_tripdata_2014-11.parquet', name='yellow_tripdata_2014-11.parquet', size=181091341, modificationTime=1694986067649),\n FileInfo(path='gs://nyc_trip_data_analysis/yellow_tripdata_2014-12.parquet', name='yellow_tripdata_2014-12.parquet', size=179003886, modificationTime=1694986055157),\n FileInfo(path='gs://nyc_trip_data_analysis/yellow_tripdata_2015-01.parquet', name='yellow_tripdata_2015-01.parquet', size=175325767, modificationTime=1694986042388),\n FileInfo(path='gs://nyc_trip_data_analysis/yellow_tripdata_2015-02.parquet', name='yellow_tripdata_2015-02.parquet', size=171639741, modificationTime=1694986029718),\n FileInfo(path='gs://nyc_trip_data_analysis/yellow_tripdata_2015-03.parquet', name='yellow_tripdata_2015-03.parquet', size=185355459, modificationTime=1694985691082),\n FileInfo(path='gs://nyc_trip_data_analysis/yellow_tripdata_2015-04.parquet', name='yellow_tripdata_2015-04.parquet', size=180491380, modificationTime=1694985704385),\n FileInfo(path='gs://nyc_trip_data_analysis/yellow_tripdata_2015-05.parquet', name='yellow_tripdata_2015-05.parquet', size=182487456, modificationTime=1694985723996),\n FileInfo(path='gs://nyc_trip_data_analysis/yellow_tripdata_2015-06.parquet', name='yellow_tripdata_2015-06.parquet', size=171760764, modificationTime=1694985735976),\n FileInfo(path='gs://nyc_trip_data_analysis/yellow_tripdata_2015-07.parquet', name='yellow_tripdata_2015-07.parquet', size=160689531, modificationTime=1694985749650),\n FileInfo(path='gs://nyc_trip_data_analysis/yellow_tripdata_2015-08.parquet', name='yellow_tripdata_2015-08.parquet', size=154240802, modificationTime=1694985772415),\n FileInfo(path='gs://nyc_trip_data_analysis/yellow_tripdata_2015-09.parquet', name='yellow_tripdata_2015-09.parquet', size=156401569, modificationTime=1694985786413),\n FileInfo(path='gs://nyc_trip_data_analysis/yellow_tripdata_2015-10.parquet', name='yellow_tripdata_2015-10.parquet', size=171091467, modificationTime=1694985799787),\n FileInfo(path='gs://nyc_trip_data_analysis/yellow_tripdata_2015-11.parquet', name='yellow_tripdata_2015-11.parquet', size=157669006, modificationTime=1694985812592),\n FileInfo(path='gs://nyc_trip_data_analysis/yellow_tripdata_2015-12.parquet', name='yellow_tripdata_2015-12.parquet', size=159905170, modificationTime=1694985827934),\n FileInfo(path='gs://nyc_trip_data_analysis/yellow_tripdata_2016-01.parquet', name='yellow_tripdata_2016-01.parquet', size=151251087, modificationTime=1694985603128),\n FileInfo(path='gs://nyc_trip_data_analysis/yellow_tripdata_2016-02.parquet', name='yellow_tripdata_2016-02.parquet', size=158113739, modificationTime=1694985617496),\n FileInfo(path='gs://nyc_trip_data_analysis/yellow_tripdata_2016-03.parquet', name='yellow_tripdata_2016-03.parquet', size=170019864, modificationTime=1694985630216),\n FileInfo(path='gs://nyc_trip_data_analysis/yellow_tripdata_2016-04.parquet', name='yellow_tripdata_2016-04.parquet', size=165552992, modificationTime=1694985646246),\n FileInfo(path='gs://nyc_trip_data_analysis/yellow_tripdata_2016-05.parquet', name='yellow_tripdata_2016-05.parquet', size=165807271, modificationTime=1694985662130),\n FileInfo(path='gs://nyc_trip_data_analysis/yellow_tripdata_2016-06.parquet', name='yellow_tripdata_2016-06.parquet', size=156288749, modificationTime=1694985676190),\n FileInfo(path='gs://nyc_trip_data_analysis/yellow_tripdata_2016-07.parquet', name='yellow_tripdata_2016-07.parquet', size=144621113, modificationTime=1694985575056),\n FileInfo(path='gs://nyc_trip_data_analysis/yellow_tripdata_2016-08.parquet', name='yellow_tripdata_2016-08.parquet', size=139875738, modificationTime=1694985588840),\n FileInfo(path='gs://nyc_trip_data_analysis/yellow_tripdata_2016-09.parquet', name='yellow_tripdata_2016-09.parquet', size=141848574, modificationTime=1694985559843),\n FileInfo(path='gs://nyc_trip_data_analysis/yellow_tripdata_2016-10.parquet', name='yellow_tripdata_2016-10.parquet', size=152579388, modificationTime=1694985541664),\n FileInfo(path='gs://nyc_trip_data_analysis/yellow_tripdata_2016-11.parquet', name='yellow_tripdata_2016-11.parquet', size=141148933, modificationTime=1694985401503),\n FileInfo(path='gs://nyc_trip_data_analysis/yellow_tripdata_2016-12.parquet', name='yellow_tripdata_2016-12.parquet', size=145957196, modificationTime=1694985387629),\n FileInfo(path='gs://nyc_trip_data_analysis/yellow_tripdata_2017-01.parquet', name='yellow_tripdata_2017-01.parquet', size=134830009, modificationTime=1694985373662),\n FileInfo(path='gs://nyc_trip_data_analysis/yellow_tripdata_2017-02.parquet', name='yellow_tripdata_2017-02.parquet', size=127643793, modificationTime=1694985312714),\n FileInfo(path='gs://nyc_trip_data_analysis/yellow_tripdata_2017-03.parquet', name='yellow_tripdata_2017-03.parquet', size=144578214, modificationTime=1694985294529),\n FileInfo(path='gs://nyc_trip_data_analysis/yellow_tripdata_2017-04.parquet', name='yellow_tripdata_2017-04.parquet', size=141349194, modificationTime=1694985280242),\n FileInfo(path='gs://nyc_trip_data_analysis/yellow_tripdata_2017-05.parquet', name='yellow_tripdata_2017-05.parquet', size=142379076, modificationTime=1694985222742),\n FileInfo(path='gs://nyc_trip_data_analysis/yellow_tripdata_2017-06.parquet', name='yellow_tripdata_2017-06.parquet', size=135482101, modificationTime=1694985189307),\n FileInfo(path='gs://nyc_trip_data_analysis/yellow_tripdata_2017-07.parquet', name='yellow_tripdata_2017-07.parquet', size=120841535, modificationTime=1694985206602),\n FileInfo(path='gs://nyc_trip_data_analysis/yellow_tripdata_2017-08.parquet', name='yellow_tripdata_2017-08.parquet', size=118622365, modificationTime=1694985173875),\n FileInfo(path='gs://nyc_trip_data_analysis/yellow_tripdata_2017-09.parquet', name='yellow_tripdata_2017-09.parquet', size=126899296, modificationTime=1694985156543),\n FileInfo(path='gs://nyc_trip_data_analysis/yellow_tripdata_2017-10.parquet', name='yellow_tripdata_2017-10.parquet', size=136742510, modificationTime=1694985137095),\n FileInfo(path='gs://nyc_trip_data_analysis/yellow_tripdata_2017-11.parquet', name='yellow_tripdata_2017-11.parquet', size=131062706, modificationTime=1694985124793),\n FileInfo(path='gs://nyc_trip_data_analysis/yellow_tripdata_2017-12.parquet', name='yellow_tripdata_2017-12.parquet', size=134255377, modificationTime=1694985113464),\n FileInfo(path='gs://nyc_trip_data_analysis/yellow_tripdata_2018-01.parquet', name='yellow_tripdata_2018-01.parquet', size=123668517, modificationTime=1694898578231),\n FileInfo(path='gs://nyc_trip_data_analysis/yellow_tripdata_2018-02.parquet', name='yellow_tripdata_2018-02.parquet', size=119455285, modificationTime=1694898717967),\n FileInfo(path='gs://nyc_trip_data_analysis/yellow_tripdata_2018-03.parquet', name='yellow_tripdata_2018-03.parquet', size=133552006, modificationTime=1694898728667),\n FileInfo(path='gs://nyc_trip_data_analysis/yellow_tripdata_2018-04.parquet', name='yellow_tripdata_2018-04.parquet', size=131609714, modificationTime=1694902260000),\n FileInfo(path='gs://nyc_trip_data_analysis/yellow_tripdata_2018-05.parquet', name='yellow_tripdata_2018-05.parquet', size=130850283, modificationTime=1694902271609),\n FileInfo(path='gs://nyc_trip_data_analysis/yellow_tripdata_2018-06.parquet', name='yellow_tripdata_2018-06.parquet', size=124189362, modificationTime=1694960378642),\n FileInfo(path='gs://nyc_trip_data_analysis/yellow_tripdata_2018-07.parquet', name='yellow_tripdata_2018-07.parquet', size=112244445, modificationTime=1694960389642),\n FileInfo(path='gs://nyc_trip_data_analysis/yellow_tripdata_2018-08.parquet', name='yellow_tripdata_2018-08.parquet', size=111426538, modificationTime=1694960400539),\n FileInfo(path='gs://nyc_trip_data_analysis/yellow_tripdata_2018-09.parquet', name='yellow_tripdata_2018-09.parquet', size=115505387, modificationTime=1694960413061),\n FileInfo(path='gs://nyc_trip_data_analysis/yellow_tripdata_2018-10.parquet', name='yellow_tripdata_2018-10.parquet', size=126899602, modificationTime=1694960423501),\n FileInfo(path='gs://nyc_trip_data_analysis/yellow_tripdata_2018-11.parquet', name='yellow_tripdata_2018-11.parquet', size=117170616, modificationTime=1694960434214),\n FileInfo(path='gs://nyc_trip_data_analysis/yellow_tripdata_2018-12.parquet', name='yellow_tripdata_2018-12.parquet', size=117845011, modificationTime=1694960447797),\n FileInfo(path='gs://nyc_trip_data_analysis/yellow_tripdata_2019-01.parquet', name='yellow_tripdata_2019-01.parquet', size=110439634, modificationTime=1694897975586),\n FileInfo(path='gs://nyc_trip_data_analysis/yellow_tripdata_2019-02.parquet', name='yellow_tripdata_2019-02.parquet', size=103356025, modificationTime=1694898205956),\n FileInfo(path='gs://nyc_trip_data_analysis/yellow_tripdata_2019-03.parquet', name='yellow_tripdata_2019-03.parquet', size=116017372, modificationTime=1694898216862),\n FileInfo(path='gs://nyc_trip_data_analysis/yellow_tripdata_2019-04.parquet', name='yellow_tripdata_2019-04.parquet', size=110139137, modificationTime=1694897812761),\n FileInfo(path='gs://nyc_trip_data_analysis/yellow_tripdata_2019-05.parquet', name='yellow_tripdata_2019-05.parquet', size=111478943, modificationTime=1694897802430),\n FileInfo(path='gs://nyc_trip_data_analysis/yellow_tripdata_2019-06.parquet', name='yellow_tripdata_2019-06.parquet', size=102903344, modificationTime=1694897787051),\n FileInfo(path='gs://nyc_trip_data_analysis/yellow_tripdata_2019-07.parquet', name='yellow_tripdata_2019-07.parquet', size=93877343, modificationTime=1694900993682),\n FileInfo(path='gs://nyc_trip_data_analysis/yellow_tripdata_2019-08.parquet', name='yellow_tripdata_2019-08.parquet', size=89999675, modificationTime=1694901006618),\n FileInfo(path='gs://nyc_trip_data_analysis/yellow_tripdata_2019-09.parquet', name='yellow_tripdata_2019-09.parquet', size=97110325, modificationTime=1694901019542),\n FileInfo(path='gs://nyc_trip_data_analysis/yellow_tripdata_2019-10.parquet', name='yellow_tripdata_2019-10.parquet', size=106293373, modificationTime=1694901030771),\n FileInfo(path='gs://nyc_trip_data_analysis/yellow_tripdata_2019-11.parquet', name='yellow_tripdata_2019-11.parquet', size=100872983, modificationTime=1694901043602),\n FileInfo(path='gs://nyc_trip_data_analysis/yellow_tripdata_2019-12.parquet', name='yellow_tripdata_2019-12.parquet', size=101044777, modificationTime=1694901055051),\n FileInfo(path='gs://nyc_trip_data_analysis/yellow_tripdata_2020-01.parquet', name='yellow_tripdata_2020-01.parquet', size=93562858, modificationTime=1694895901718),\n FileInfo(path='gs://nyc_trip_data_analysis/yellow_tripdata_2020-02.parquet', name='yellow_tripdata_2020-02.parquet', size=92134881, modificationTime=1694895919782),\n FileInfo(path='gs://nyc_trip_data_analysis/yellow_tripdata_2020-03.parquet', name='yellow_tripdata_2020-03.parquet', size=44442590, modificationTime=1694895933991),\n FileInfo(path='gs://nyc_trip_data_analysis/yellow_tripdata_2020-04.parquet', name='yellow_tripdata_2020-04.parquet', size=4442620, modificationTime=1694895953126),\n FileInfo(path='gs://nyc_trip_data_analysis/yellow_tripdata_2020-05.parquet', name='yellow_tripdata_2020-05.parquet', size=6229864, modificationTime=1694895963516),\n FileInfo(path='gs://nyc_trip_data_analysis/yellow_tripdata_2020-06.parquet', name='yellow_tripdata_2020-06.parquet', size=9505358, modificationTime=1694895974068),\n FileInfo(path='gs://nyc_trip_data_analysis/yellow_tripdata_2020-07.parquet', name='yellow_tripdata_2020-07.parquet', size=13387778, modificationTime=1694895985932),\n FileInfo(path='gs://nyc_trip_data_analysis/yellow_tripdata_2020-08.parquet', name='yellow_tripdata_2020-08.parquet', size=16601463, modificationTime=1694895996359),\n FileInfo(path='gs://nyc_trip_data_analysis/yellow_tripdata_2020-09.parquet', name='yellow_tripdata_2020-09.parquet', size=21381938, modificationTime=1694896006437),\n FileInfo(path='gs://nyc_trip_data_analysis/yellow_tripdata_2020-10.parquet', name='yellow_tripdata_2020-10.parquet', size=26306876, modificationTime=1694896018029),\n FileInfo(path='gs://nyc_trip_data_analysis/yellow_tripdata_2020-11.parquet', name='yellow_tripdata_2020-11.parquet', size=23583368, modificationTime=1694896027105),\n FileInfo(path='gs://nyc_trip_data_analysis/yellow_tripdata_2020-12.parquet', name='yellow_tripdata_2020-12.parquet', size=23020036, modificationTime=1694896036638),\n FileInfo(path='gs://nyc_trip_data_analysis/yellow_tripdata_2021-01.parquet', name='yellow_tripdata_2021-01.parquet', size=21686067, modificationTime=1694896046833),\n FileInfo(path='gs://nyc_trip_data_analysis/yellow_tripdata_2021-02.parquet', name='yellow_tripdata_2021-02.parquet', size=21777258, modificationTime=1694896059077),\n FileInfo(path='gs://nyc_trip_data_analysis/yellow_tripdata_2021-03.parquet', name='yellow_tripdata_2021-03.parquet', size=30007852, modificationTime=1694896070375),\n FileInfo(path='gs://nyc_trip_data_analysis/yellow_tripdata_2021-04.parquet', name='yellow_tripdata_2021-04.parquet', size=34018560, modificationTime=1694896081370),\n FileInfo(path='gs://nyc_trip_data_analysis/yellow_tripdata_2021-05.parquet', name='yellow_tripdata_2021-05.parquet', size=38743682, modificationTime=1694896090816),\n FileInfo(path='gs://nyc_trip_data_analysis/yellow_tripdata_2021-06.parquet', name='yellow_tripdata_2021-06.parquet', size=44071592, modificationTime=1695418181741),\n FileInfo(path='gs://nyc_trip_data_analysis/yellow_tripdata_2021-07.parquet', name='yellow_tripdata_2021-07.parquet', size=43697690, modificationTime=1695418348600),\n FileInfo(path='gs://nyc_trip_data_analysis/yellow_tripdata_2021-08.parquet', name='yellow_tripdata_2021-08.parquet', size=43425907, modificationTime=1695418369417),\n FileInfo(path='gs://nyc_trip_data_analysis/yellow_tripdata_2021-09.parquet', name='yellow_tripdata_2021-09.parquet', size=46125883, modificationTime=1695418380656),\n FileInfo(path='gs://nyc_trip_data_analysis/yellow_tripdata_2021-10.parquet', name='yellow_tripdata_2021-10.parquet', size=53286464, modificationTime=1695418391415),\n FileInfo(path='gs://nyc_trip_data_analysis/yellow_tripdata_2021-11.parquet', name='yellow_tripdata_2021-11.parquet', size=53100722, modificationTime=1695418402693),\n FileInfo(path='gs://nyc_trip_data_analysis/yellow_tripdata_2021-12.parquet', name='yellow_tripdata_2021-12.parquet', size=49639052, modificationTime=1695418413100),\n FileInfo(path='gs://nyc_trip_data_analysis/yellow_tripdata_2022-01.parquet', name='yellow_tripdata_2022-01.parquet', size=38139949, modificationTime=1695418423056),\n FileInfo(path='gs://nyc_trip_data_analysis/yellow_tripdata_2022-02.parquet', name='yellow_tripdata_2022-02.parquet', size=45616512, modificationTime=1695418432248),\n FileInfo(path='gs://nyc_trip_data_analysis/yellow_tripdata_2022-03.parquet', name='yellow_tripdata_2022-03.parquet', size=55682369, modificationTime=1695418446848),\n FileInfo(path='gs://nyc_trip_data_analysis/yellow_tripdata_2022-04.parquet', name='yellow_tripdata_2022-04.parquet', size=55222692, modificationTime=1695418360868),\n FileInfo(path='gs://nyc_trip_data_analysis/yellow_tripdata_2022-05.parquet', name='yellow_tripdata_2022-05.parquet', size=55558821, modificationTime=1695418247754),\n FileInfo(path='gs://nyc_trip_data_analysis/yellow_tripdata_2022-06.parquet', name='yellow_tripdata_2022-06.parquet', size=55365184, modificationTime=1695418257760),\n FileInfo(path='gs://nyc_trip_data_analysis/yellow_tripdata_2022-07.parquet', name='yellow_tripdata_2022-07.parquet', size=49367712, modificationTime=1695418268543),\n FileInfo(path='gs://nyc_trip_data_analysis/yellow_tripdata_2022-08.parquet', name='yellow_tripdata_2022-08.parquet', size=49717159, modificationTime=1695418291906),\n FileInfo(path='gs://nyc_trip_data_analysis/yellow_tripdata_2022-09.parquet', name='yellow_tripdata_2022-09.parquet', size=49619957, modificationTime=1695418302073),\n FileInfo(path='gs://nyc_trip_data_analysis/yellow_tripdata_2022-10.parquet', name='yellow_tripdata_2022-10.parquet', size=57061938, modificationTime=1695418314175),\n FileInfo(path='gs://nyc_trip_data_analysis/yellow_tripdata_2022-11.parquet', name='yellow_tripdata_2022-11.parquet', size=50106631, modificationTime=1695418325448),\n FileInfo(path='gs://nyc_trip_data_analysis/yellow_tripdata_2022-12.parquet', name='yellow_tripdata_2022-12.parquet', size=53640739, modificationTime=1695418335358),\n FileInfo(path='gs://nyc_trip_data_analysis/yellow_tripdata_2023-01.parquet', name='yellow_tripdata_2023-01.parquet', size=47673370, modificationTime=1695418279126),\n FileInfo(path='gs://nyc_trip_data_analysis/yellow_tripdata_2023-02.parquet', name='yellow_tripdata_2023-02.parquet', size=47748012, modificationTime=1695418236995),\n FileInfo(path='gs://nyc_trip_data_analysis/yellow_tripdata_2023-03.parquet', name='yellow_tripdata_2023-03.parquet', size=56127762, modificationTime=1695418226820),\n FileInfo(path='gs://nyc_trip_data_analysis/yellow_tripdata_2023-04.parquet', name='yellow_tripdata_2023-04.parquet', size=54222699, modificationTime=1695418217016),\n FileInfo(path='gs://nyc_trip_data_analysis/yellow_tripdata_2023-05.parquet', name='yellow_tripdata_2023-05.parquet', size=58654627, modificationTime=1695418205569),\n FileInfo(path='gs://nyc_trip_data_analysis/yellow_tripdata_2023-06.parquet', name='yellow_tripdata_2023-06.parquet', size=54999465, modificationTime=1695418194020)]"
     ]
    }
   ],
   "source": [
    "file_list"
   ]
  },
  {
   "cell_type": "code",
   "execution_count": 0,
   "metadata": {
    "application/vnd.databricks.v1+cell": {
     "cellMetadata": {
      "byteLimit": 2048000,
      "rowLimit": 10000
     },
     "inputWidgets": {},
     "nuid": "21797237-98fd-4fa5-b264-3a5c738fd522",
     "showTitle": false,
     "title": ""
    }
   },
   "outputs": [],
   "source": [
    "fhvhv_data = None\n",
    "green_data = None\n",
    "yellow_data = None\n",
    "# Loop through the files and read them into the corresponding DataFrames\n",
    "for file_info in file_list:\n",
    "    file_path = file_info.path\n",
    "    # Check if the file is in Parquet format and has \"2022\" in its name\n",
    "    if file_path.endswith(\".parquet\") and (int(file_path.split('-')[0][-4:])) > 2015:\n",
    "    # if file_path.endswith(\".parquet\") and \"2022\" in file_path:\n",
    "        if \"fhvhv_tripdata\" in file_path:\n",
    "            if fhvhv_data is None:\n",
    "                fhvhv_data = spark.read.parquet(file_path)\n",
    "            else:\n",
    "                fhv_data = fhvhv_data.unionAll(spark.read.parquet(file_path))\n",
    "        elif \"green_tripdata\" in file_path:\n",
    "            if green_data is None:\n",
    "                green_data = spark.read.parquet(file_path)\n",
    "            else:\n",
    "                green_data = green_data.unionAll(spark.read.parquet(file_path))\n",
    "        elif \"yellow_tripdata\" in file_path:\n",
    "            if yellow_data is None:\n",
    "                yellow_data = spark.read.parquet(file_path)\n",
    "            else:\n",
    "                yellow_data = yellow_data.unionAll(spark.read.parquet(file_path))\n",
    "\n",
    "# Now you have separate DataFrames for fhv, green, and yellow data from the year 2022\n"
   ]
  },
  {
   "cell_type": "code",
   "execution_count": 0,
   "metadata": {
    "application/vnd.databricks.v1+cell": {
     "cellMetadata": {
      "byteLimit": 2048000,
      "rowLimit": 10000
     },
     "inputWidgets": {},
     "nuid": "3c0e5936-f410-47ed-af48-dff77b51d858",
     "showTitle": false,
     "title": ""
    }
   },
   "outputs": [
    {
     "output_type": "stream",
     "name": "stdout",
     "output_type": "stream",
     "text": [
      "+-----------------+--------------------+--------------------+-------------------+-------------------+-------------------+-------------------+------------+------------+----------+---------+-------------------+-----+----+---------+--------------------+-----------+----+----------+-------------------+-----------------+------------------+----------------+--------------+\n|hvfhs_license_num|dispatching_base_num|originating_base_num|   request_datetime|  on_scene_datetime|    pickup_datetime|   dropoff_datetime|PULocationID|DOLocationID|trip_miles|trip_time|base_passenger_fare|tolls| bcf|sales_tax|congestion_surcharge|airport_fee|tips|driver_pay|shared_request_flag|shared_match_flag|access_a_ride_flag|wav_request_flag|wav_match_flag|\n+-----------------+--------------------+--------------------+-------------------+-------------------+-------------------+-------------------+------------+------------+----------+---------+-------------------+-----+----+---------+--------------------+-----------+----+----------+-------------------+-----------------+------------------+----------------+--------------+\n|           HV0003|              B02867|              B02867|2019-02-01 00:01:26|2019-02-01 00:02:55|2019-02-01 00:05:18|2019-02-01 00:14:57|         245|         251|      2.45|      579|               9.35|  0.0|0.23|     0.83|                 0.0|       null| 0.0|      7.48|                  Y|                N|                 N|               N|          null|\n|           HV0003|              B02879|              B02879|2019-02-01 00:26:08|2019-02-01 00:41:29|2019-02-01 00:41:29|2019-02-01 00:49:39|         216|         197|      1.71|      490|               7.91|  0.0| 0.2|      0.7|                 0.0|       null| 2.0|      7.93|                  N|                N|                 N|               N|          null|\n|           HV0005|              B02510|                null|2019-02-01 00:48:58|               null|2019-02-01 00:51:34|2019-02-01 01:28:29|         261|         234|      5.01|     2159|              44.96|  0.0|1.12|     3.99|                 0.0|       null| 0.0|     35.97|                  N|                Y|                 N|               N|          null|\n|           HV0005|              B02510|                null|2019-02-01 00:02:15|               null|2019-02-01 00:03:51|2019-02-01 00:07:16|          87|          87|      0.34|      179|               7.19|  0.0|0.18|     0.64|                 0.0|       null| 3.0|      5.39|                  N|                Y|                 N|               N|          null|\n|           HV0005|              B02510|                null|2019-02-01 00:06:17|               null|2019-02-01 00:09:44|2019-02-01 00:39:56|          87|         198|      6.84|     1799|              24.25| 0.11|0.61|     2.16|                 0.0|       null| 4.0|     17.07|                  N|                Y|                 N|               N|          null|\n+-----------------+--------------------+--------------------+-------------------+-------------------+-------------------+-------------------+------------+------------+----------+---------+-------------------+-----+----+---------+--------------------+-----------+----+----------+-------------------+-----------------+------------------+----------------+--------------+\nonly showing top 5 rows\n\n"
     ]
    }
   ],
   "source": [
    "fhvhv_data.show(5)"
   ]
  },
  {
   "cell_type": "code",
   "execution_count": 0,
   "metadata": {
    "application/vnd.databricks.v1+cell": {
     "cellMetadata": {
      "byteLimit": 2048000,
      "rowLimit": 10000
     },
     "inputWidgets": {},
     "nuid": "3e2c07ae-e031-4d1f-9ec1-9ef6d1f2cc5e",
     "showTitle": false,
     "title": ""
    }
   },
   "outputs": [
    {
     "output_type": "stream",
     "name": "stdout",
     "output_type": "stream",
     "text": [
      "+--------+--------------------+---------------------+------------------+----------+------------+------------+---------------+-------------+-----------+-----+-------+----------+------------+---------+---------------------+------------+------------+---------+--------------------+\n|VendorID|lpep_pickup_datetime|lpep_dropoff_datetime|store_and_fwd_flag|RatecodeID|PULocationID|DOLocationID|passenger_count|trip_distance|fare_amount|extra|mta_tax|tip_amount|tolls_amount|ehail_fee|improvement_surcharge|total_amount|payment_type|trip_type|congestion_surcharge|\n+--------+--------------------+---------------------+------------------+----------+------------+------------+---------------+-------------+-----------+-----+-------+----------+------------+---------+---------------------+------------+------------+---------+--------------------+\n|       2| 2016-01-01 00:17:40|  2016-01-01 00:36:15|                 N|       1.0|         255|         228|            1.0|         8.46|       25.5|  0.5|    0.5|      30.0|         0.0|     null|                  0.3|        56.8|         1.0|      1.0|                null|\n|       2| 2016-01-01 00:47:37|  2016-01-01 01:18:37|                 N|       1.0|         106|          36|            1.0|         5.84|       23.0|  0.5|    0.5|      4.86|         0.0|     null|                  0.3|       29.16|         1.0|      1.0|                null|\n|       2| 2016-01-01 00:15:19|  2016-01-01 00:24:27|                 N|       2.0|         226|         260|            1.0|         1.55|       52.0|  0.0|    0.5|       0.0|         0.0|     null|                  0.3|        52.8|         2.0|      1.0|                null|\n|       2| 2016-01-01 00:40:30|  2016-01-01 00:45:42|                 N|       1.0|         226|         260|            1.0|         0.88|        5.5|  0.5|    0.5|       0.0|         0.0|     null|                  0.3|         6.8|         2.0|      1.0|                null|\n|       2| 2016-01-01 00:53:43|  2016-01-01 01:43:47|                 N|       1.0|         226|          79|            2.0|         9.06|       37.0|  0.5|    0.5|       0.0|         0.0|     null|                  0.3|        38.3|         2.0|      1.0|                null|\n|       2| 2016-01-01 00:52:33|  2016-01-01 01:08:12|                 N|       1.0|          61|          72|            1.0|         1.68|        8.5|  0.5|    0.5|       0.0|         0.0|     null|                  0.3|         9.8|         2.0|      1.0|                null|\n|       2| 2016-01-01 00:21:49|  2016-01-01 00:43:16|                 N|       1.0|          76|         225|            1.0|         4.43|       18.0|  0.5|    0.5|       0.0|         0.0|     null|                  0.3|        19.3|         2.0|      1.0|                null|\n|       2| 2016-01-01 00:13:45|  2016-01-01 00:19:28|                 N|       1.0|         226|          83|            2.0|         3.29|       11.0|  0.5|    0.5|       0.0|         0.0|     null|                  0.3|        12.3|         1.0|      1.0|                null|\n|       2| 2016-01-01 00:22:23|  2016-01-01 00:23:55|                 N|       1.0|          83|          82|            1.0|         0.13|        3.0|  0.5|    0.5|       0.0|         0.0|     null|                  0.3|         4.3|         2.0|      1.0|                null|\n|       2| 2016-01-01 00:44:23|  2016-01-01 00:50:00|                 N|       1.0|         223|           7|            1.0|         1.36|        7.0|  0.5|    0.5|      1.66|         0.0|     null|                  0.3|        9.96|         1.0|      1.0|                null|\n|       2| 2016-01-01 00:52:15|  2016-01-01 00:56:16|                 N|       1.0|           7|           7|            1.0|         0.82|        4.5|  0.5|    0.5|       0.0|         0.0|     null|                  0.3|         5.8|         2.0|      1.0|                null|\n|       2| 2016-01-01 00:57:44|  2016-01-01 01:02:42|                 N|       1.0|           7|           7|            1.0|         0.58|        4.5|  0.5|    0.5|       0.0|         0.0|     null|                  0.3|         5.8|         2.0|      1.0|                null|\n|       2| 2016-01-01 00:02:32|  2016-01-01 00:23:53|                 N|       1.0|         223|         225|            1.0|         9.64|       28.5|  0.5|    0.5|      8.94|         0.0|     null|                  0.3|       38.74|         1.0|      1.0|                null|\n|       2| 2016-01-01 00:13:32|  2016-01-01 00:26:12|                 N|       1.0|         181|          71|            1.0|         3.43|       12.5|  0.5|    0.5|       0.0|         0.0|     null|                  0.3|        13.8|         2.0|      1.0|                null|\n|       2| 2016-01-01 00:29:50|  2016-01-01 00:38:14|                 N|       1.0|          89|         188|            1.0|         1.75|        8.0|  0.5|    0.5|       0.0|         0.0|     null|                  0.3|         9.3|         1.0|      1.0|                null|\n|       2| 2016-01-01 00:49:49|  2016-01-01 01:08:08|                 N|       1.0|         189|          37|            1.0|          3.5|       15.0|  0.5|    0.5|      3.26|         0.0|     null|                  0.3|       19.56|         1.0|      1.0|                null|\n|       2| 2016-01-01 00:00:07|  2016-01-01 00:01:40|                 N|       1.0|           7|           7|            1.0|         0.44|        3.5|  0.5|    0.5|       0.0|         0.0|     null|                  0.3|         4.8|         2.0|      1.0|                null|\n|       2| 2016-01-01 00:07:48|  2016-01-01 00:13:19|                 N|       1.0|           7|           7|            1.0|         1.11|        6.0|  0.5|    0.5|       1.0|         0.0|     null|                  0.3|         8.3|         1.0|      1.0|                null|\n|       2| 2016-01-01 00:17:31|  2016-01-01 00:26:23|                 N|       1.0|           7|         226|            1.0|         2.37|        9.5|  0.5|    0.5|       0.0|         0.0|     null|                  0.3|        10.8|         2.0|      1.0|                null|\n|       2| 2016-01-01 00:43:24|  2016-01-01 00:46:15|                 N|       1.0|         223|         223|            1.0|         0.63|        4.5|  0.5|    0.5|       0.0|         0.0|     null|                  0.3|         5.8|         2.0|      1.0|                null|\n+--------+--------------------+---------------------+------------------+----------+------------+------------+---------------+-------------+-----------+-----+-------+----------+------------+---------+---------------------+------------+------------+---------+--------------------+\nonly showing top 20 rows\n\n"
     ]
    }
   ],
   "source": [
    "green_data.show()"
   ]
  },
  {
   "cell_type": "code",
   "execution_count": 0,
   "metadata": {
    "application/vnd.databricks.v1+cell": {
     "cellMetadata": {
      "byteLimit": 2048000,
      "rowLimit": 10000
     },
     "inputWidgets": {},
     "nuid": "da3078c1-c1ae-459f-82f2-c74b7466a597",
     "showTitle": false,
     "title": ""
    }
   },
   "outputs": [
    {
     "output_type": "stream",
     "name": "stdout",
     "output_type": "stream",
     "text": [
      "+--------+--------------------+---------------------+---------------+-------------+----------+------------------+------------+------------+------------+-----------+-----+-------+----------+------------+---------------------+------------+--------------------+-----------+\n|VendorID|tpep_pickup_datetime|tpep_dropoff_datetime|passenger_count|trip_distance|RatecodeID|store_and_fwd_flag|PULocationID|DOLocationID|payment_type|fare_amount|extra|mta_tax|tip_amount|tolls_amount|improvement_surcharge|total_amount|congestion_surcharge|airport_fee|\n+--------+--------------------+---------------------+---------------+-------------+----------+------------------+------------+------------+------------+-----------+-----+-------+----------+------------+---------------------+------------+--------------------+-----------+\n|       1| 2016-01-01 00:12:22|  2016-01-01 00:29:14|            1.0|          3.2|       1.0|                 N|          48|         262|           1|       14.0|  0.5|    0.5|      3.06|         0.0|                  0.3|       18.36|                null|       null|\n|       1| 2016-01-01 00:41:31|  2016-01-01 00:55:10|            2.0|          1.0|       1.0|                 N|         162|          48|           2|        9.5|  0.5|    0.5|       0.0|         0.0|                  0.3|        10.8|                null|       null|\n|       1| 2016-01-01 00:53:37|  2016-01-01 00:59:57|            1.0|          0.9|       1.0|                 N|         246|          90|           2|        6.0|  0.5|    0.5|       0.0|         0.0|                  0.3|         7.3|                null|       null|\n|       1| 2016-01-01 00:13:28|  2016-01-01 00:18:07|            1.0|          0.8|       1.0|                 N|         170|         162|           2|        5.0|  0.5|    0.5|       0.0|         0.0|                  0.3|         6.3|                null|       null|\n|       1| 2016-01-01 00:33:04|  2016-01-01 00:47:14|            1.0|          1.8|       1.0|                 N|         161|         140|           2|       11.0|  0.5|    0.5|       0.0|         0.0|                  0.3|        12.3|                null|       null|\n|       1| 2016-01-01 00:49:47|  2016-01-01 01:04:44|            1.0|          2.3|       1.0|                 N|         141|         137|           1|       11.0|  0.5|    0.5|      2.45|         0.0|                  0.3|       14.75|                null|       null|\n|       1| 2016-01-01 00:41:58|  2016-01-01 01:22:06|            1.0|         13.8|       1.0|                 N|         100|          53|           2|       43.0|  0.5|    0.5|       0.0|         0.0|                  0.3|        44.3|                null|       null|\n|       2| 2016-01-01 00:25:28|  2016-01-01 00:55:46|            5.0|         3.46|       1.0|                 N|          48|          79|           2|       20.0|  0.5|    0.5|       0.0|         0.0|                  0.3|        21.3|                null|       null|\n|       2| 2016-01-01 00:56:57|  2016-01-01 01:02:24|            4.0|         0.83|       1.0|                 N|          79|         107|           2|        5.5|  0.5|    0.5|       0.0|         0.0|                  0.3|         6.8|                null|       null|\n|       2| 2016-01-01 00:10:08|  2016-01-01 00:23:05|            1.0|         0.87|       1.0|                 N|         164|         164|           2|        7.0|  0.5|    0.5|       0.0|         0.0|                  0.3|         8.3|                null|       null|\n|       2| 2016-01-01 00:44:33|  2016-01-01 00:53:37|            1.0|         1.25|       1.0|                 N|          68|         234|           1|        7.5|  0.5|    0.5|       2.2|         0.0|                  0.3|        11.0|                null|       null|\n|       2| 2016-01-01 00:56:47|  2016-01-01 01:07:48|            1.0|         1.66|       1.0|                 N|         234|         233|           1|        9.0|  0.5|    0.5|       0.0|         0.0|                  0.3|        10.3|                null|       null|\n|       1| 2016-01-01 00:12:44|  2016-01-01 00:24:53|            2.0|          2.6|       1.0|                 N|         229|         239|           2|       11.0|  0.5|    0.5|       0.0|         0.0|                  0.3|        12.3|                null|       null|\n|       1| 2016-01-01 00:27:11|  2016-01-01 00:37:00|            2.0|          2.3|       1.0|                 N|         239|         236|           1|        9.5|  0.5|    0.5|      1.75|         0.0|                  0.3|       12.55|                null|       null|\n|       1| 2016-01-01 00:47:28|  2016-01-01 00:56:50|            2.0|          1.7|       1.0|                 N|         236|         141|           2|        8.5|  0.5|    0.5|       0.0|         0.0|                  0.3|         9.8|                null|       null|\n|       1| 2016-01-01 00:02:54|  2016-01-01 00:14:04|            1.0|          2.6|       1.0|                 N|          43|         238|           2|       10.5|  0.5|    0.5|       0.0|         0.0|                  0.3|        11.8|                null|       null|\n|       1| 2016-01-01 00:19:09|  2016-01-01 00:25:20|            1.0|          1.0|       1.0|                 N|         239|         143|           1|        6.5|  0.5|    0.5|      1.95|         0.0|                  0.3|        9.75|                null|       null|\n|       1| 2016-01-01 00:26:54|  2016-01-01 00:55:27|            1.0|          8.8|       1.0|                 N|         143|         232|           1|       28.5|  0.5|    0.5|       7.0|         0.0|                  0.3|        36.8|                null|       null|\n|       1| 2016-01-01 00:19:36|  2016-01-01 00:26:16|            1.0|          1.0|       1.0|                 N|         164|         107|           1|        6.5|  0.5|    0.5|       1.0|         0.0|                  0.3|         8.8|                null|       null|\n|       1| 2016-01-01 00:27:55|  2016-01-01 00:36:39|            1.0|          1.2|       1.0|                 N|         107|          90|           2|        7.5|  0.5|    0.5|       0.0|         0.0|                  0.3|         8.8|                null|       null|\n+--------+--------------------+---------------------+---------------+-------------+----------+------------------+------------+------------+------------+-----------+-----+-------+----------+------------+---------------------+------------+--------------------+-----------+\nonly showing top 20 rows\n\n"
     ]
    }
   ],
   "source": [
    "yellow_data.show()"
   ]
  },
  {
   "cell_type": "code",
   "execution_count": 0,
   "metadata": {
    "application/vnd.databricks.v1+cell": {
     "cellMetadata": {
      "byteLimit": 2048000,
      "rowLimit": 10000
     },
     "inputWidgets": {},
     "nuid": "ff3f2e89-dbf1-41d9-9f88-840e88fc5fd2",
     "showTitle": false,
     "title": ""
    }
   },
   "outputs": [],
   "source": [
    "from pyspark.sql.functions import to_timestamp\n",
    "\n",
    "# Assuming 'yellow_2023Jan_trips' is your DataFrame\n",
    "yellow_data = yellow_data.withColumn(\"tpep_pickup_datetime\", to_timestamp(\"tpep_pickup_datetime\"))\n",
    "yellow_data = yellow_data.withColumn(\"tpep_dropoff_datetime\", to_timestamp(\"tpep_dropoff_datetime\"))\n",
    "green_data = green_data.withColumn(\"lpep_pickup_datetime\", to_timestamp(\"lpep_pickup_datetime\"))\n",
    "green_data = green_data.withColumn(\"lpep_dropoff_datetime\", to_timestamp(\"lpep_dropoff_datetime\"))\n",
    "fhvhv_data = fhvhv_data.withColumn(\"pickup_datetime\", to_timestamp(\"pickup_datetime\"))\n",
    "fhvhv_data = fhvhv_data.withColumn(\"pickup_datetime\", to_timestamp(\"pickup_datetime\"))\n"
   ]
  },
  {
   "cell_type": "code",
   "execution_count": 0,
   "metadata": {
    "application/vnd.databricks.v1+cell": {
     "cellMetadata": {
      "byteLimit": 2048000,
      "rowLimit": 10000
     },
     "inputWidgets": {},
     "nuid": "58000041-b8e9-4cdb-8c9b-4dcd2d786aaa",
     "showTitle": false,
     "title": ""
    }
   },
   "outputs": [],
   "source": [
    "from pyspark.sql.functions import lit\n",
    "yellow_data = yellow_data.withColumn(\"Taxi_Type\", lit(\"Yellow\"))\n",
    "green_data = green_data.withColumn(\"Taxi_Type\", lit(\"Green\"))"
   ]
  },
  {
   "cell_type": "code",
   "execution_count": 0,
   "metadata": {
    "application/vnd.databricks.v1+cell": {
     "cellMetadata": {
      "byteLimit": 2048000,
      "rowLimit": 10000
     },
     "inputWidgets": {},
     "nuid": "6cf5c099-6b10-4a73-ac52-7d3ce0fccd5a",
     "showTitle": false,
     "title": ""
    }
   },
   "outputs": [],
   "source": [
    "from pyspark.sql.functions import udf\n",
    "from pyspark.sql.types import StringType\n",
    "\n",
    "# Define the mapping function\n",
    "def map_license_to_taxi_type(license_num):\n",
    "    if license_num == 'HV0002':\n",
    "        return 'Juno'\n",
    "    elif license_num == 'HV0003':\n",
    "        return 'Uber'\n",
    "    elif license_num == 'HV0004':\n",
    "        return 'Via'\n",
    "    elif license_num == 'HV0005':\n",
    "        return 'Lyft'\n",
    "    else:\n",
    "        return 'Other'\n",
    "\n",
    "# Register the mapping function as a UDF (User-Defined Function)\n",
    "map_license_udf = udf(map_license_to_taxi_type, StringType())\n",
    "\n",
    "# Create a new 'Taxi_Type' column based on 'hvfhs_license_num'\n",
    "fhvhv_data = fhvhv_data.withColumn(\"Taxi_Type\", map_license_udf(fhvhv_data['hvfhs_license_num']))\n"
   ]
  },
  {
   "cell_type": "code",
   "execution_count": 0,
   "metadata": {
    "application/vnd.databricks.v1+cell": {
     "cellMetadata": {
      "byteLimit": 2048000,
      "rowLimit": 10000
     },
     "inputWidgets": {},
     "nuid": "0e79633b-1471-4cf7-8489-5885b17e1140",
     "showTitle": false,
     "title": ""
    }
   },
   "outputs": [],
   "source": [
    "# Rename 'tpep_pickup_datetime' to 'pickup_datetime' in yellow_2023Jan_trips\n",
    "yellow_data = yellow_data.withColumnRenamed('tpep_pickup_datetime', 'pickup_datetime')\n",
    "yellow_data = yellow_data.withColumnRenamed('tpep_dropoff_datetime', 'dropoff_datetime')\n",
    "\n",
    "# Rename 'lpep_pickup_datetime' to 'pickup_datetime' in green_2023Jan_trips\n",
    "green_data = green_data.withColumnRenamed('lpep_pickup_datetime', 'pickup_datetime')\n",
    "green_data = green_data.withColumnRenamed('lpep_dropoff_datetime', 'dropoff_datetime')\n",
    "\n",
    "# Rename 'trip_miles' to 'trip_distance' in fhvhv_tripdata_2023Jan\n",
    "fhvhv_data = fhvhv_data.withColumnRenamed('trip_miles', 'trip_distance')\n"
   ]
  },
  {
   "cell_type": "code",
   "execution_count": 0,
   "metadata": {
    "application/vnd.databricks.v1+cell": {
     "cellMetadata": {
      "byteLimit": 2048000,
      "rowLimit": 10000
     },
     "inputWidgets": {},
     "nuid": "3d9b60eb-34a5-45d7-8bac-03d5ef29b4fc",
     "showTitle": false,
     "title": ""
    }
   },
   "outputs": [],
   "source": [
    "# Read the CSV file with header\n",
    "shape_file = spark.read.option(\"header\", \"true\").csv(\"gs://nyc_trip_data_analysis/taxi_zone_lookup.csv\")"
   ]
  },
  {
   "cell_type": "code",
   "execution_count": 0,
   "metadata": {
    "application/vnd.databricks.v1+cell": {
     "cellMetadata": {
      "byteLimit": 2048000,
      "rowLimit": 10000
     },
     "inputWidgets": {},
     "nuid": "96d13156-8c3c-4b91-8af3-7cdb5f5f7443",
     "showTitle": false,
     "title": ""
    }
   },
   "outputs": [
    {
     "output_type": "stream",
     "name": "stdout",
     "output_type": "stream",
     "text": [
      "+----------+-------------+--------------------+------------+\n|LocationID|      Borough|                Zone|service_zone|\n+----------+-------------+--------------------+------------+\n|         1|          EWR|      Newark Airport|         EWR|\n|         2|       Queens|         Jamaica Bay|   Boro Zone|\n|         3|        Bronx|Allerton/Pelham G...|   Boro Zone|\n|         4|    Manhattan|       Alphabet City| Yellow Zone|\n|         5|Staten Island|       Arden Heights|   Boro Zone|\n+----------+-------------+--------------------+------------+\nonly showing top 5 rows\n\n"
     ]
    }
   ],
   "source": [
    "shape_file.show(5)"
   ]
  },
  {
   "cell_type": "code",
   "execution_count": 0,
   "metadata": {
    "application/vnd.databricks.v1+cell": {
     "cellMetadata": {
      "byteLimit": 2048000,
      "rowLimit": 10000
     },
     "inputWidgets": {},
     "nuid": "100562ad-e8ae-499e-b1f9-45aa1a0844f5",
     "showTitle": false,
     "title": ""
    }
   },
   "outputs": [],
   "source": [
    "from pyspark.sql.functions import col\n",
    "\n",
    "# Merge DataFrames based on 'PULocationID' and 'LocationID' columns\n",
    "yellow_data = yellow_data.join(shape_file.select('LocationID', 'Borough', 'Zone', 'service_zone'), yellow_data['PULocationID'] == shape_file['LocationID'], how='left')\n",
    "\n",
    "# Drop the 'LocationID' column\n",
    "yellow_data = yellow_data.drop('LocationID')\n",
    "\n",
    "# Rename the columns\n",
    "yellow_data = yellow_data.withColumnRenamed('Borough', 'PUBorough')\n",
    "yellow_data = yellow_data.withColumnRenamed('Zone', 'PUZone')\n",
    "yellow_data = yellow_data.withColumnRenamed('service_zone', 'PUservice_zone')\n"
   ]
  },
  {
   "cell_type": "code",
   "execution_count": 0,
   "metadata": {
    "application/vnd.databricks.v1+cell": {
     "cellMetadata": {
      "byteLimit": 2048000,
      "rowLimit": 10000
     },
     "inputWidgets": {},
     "nuid": "25183ee0-5317-414d-972f-4cd92c708f9a",
     "showTitle": false,
     "title": ""
    }
   },
   "outputs": [],
   "source": [
    "from pyspark.sql.functions import col\n",
    "\n",
    "# Merge DataFrames based on 'DOLocationID' and 'LocationID' columns\n",
    "yellow_data = yellow_data.join(shape_file.select('LocationID', 'Borough', 'Zone', 'service_zone'), yellow_data['DOLocationID'] == shape_file['LocationID'], how='left')\n",
    "\n",
    "# Drop the 'LocationID' column\n",
    "yellow_data = yellow_data.drop('LocationID')\n",
    "\n",
    "# Rename the columns\n",
    "yellow_data = yellow_data.withColumnRenamed('Borough', 'DOBorough')\n",
    "yellow_data = yellow_data.withColumnRenamed('Zone', 'DOZone')\n",
    "yellow_data = yellow_data.withColumnRenamed('service_zone', 'DOservice_zone')\n"
   ]
  },
  {
   "cell_type": "code",
   "execution_count": 0,
   "metadata": {
    "application/vnd.databricks.v1+cell": {
     "cellMetadata": {
      "byteLimit": 2048000,
      "rowLimit": 10000
     },
     "inputWidgets": {},
     "nuid": "f230fb07-6427-4116-bf71-a32a1f20038b",
     "showTitle": false,
     "title": ""
    }
   },
   "outputs": [],
   "source": [
    "from pyspark.sql.functions import col\n",
    "\n",
    "# Merge DataFrames based on 'PULocationID' and 'LocationID' columns\n",
    "green_data = green_data.join(shape_file.select('LocationID', 'Borough', 'Zone', 'service_zone'), green_data['PULocationID'] == shape_file['LocationID'], how='left')\n",
    "\n",
    "# Drop the 'LocationID' column\n",
    "green_data = green_data.drop('LocationID')\n",
    "\n",
    "# Rename the columns\n",
    "green_data = green_data.withColumnRenamed('Borough', 'PUBorough')\n",
    "green_data = green_data.withColumnRenamed('Zone', 'PUZone')\n",
    "green_data = green_data.withColumnRenamed('service_zone', 'PUservice_zone')\n"
   ]
  },
  {
   "cell_type": "code",
   "execution_count": 0,
   "metadata": {
    "application/vnd.databricks.v1+cell": {
     "cellMetadata": {
      "byteLimit": 2048000,
      "rowLimit": 10000
     },
     "inputWidgets": {},
     "nuid": "1a9db76f-8de8-4583-8df5-895c0c69beab",
     "showTitle": false,
     "title": ""
    }
   },
   "outputs": [],
   "source": [
    "from pyspark.sql.functions import col\n",
    "\n",
    "# Merge DataFrames based on 'DOLocationID' and 'LocationID' columns\n",
    "green_data = green_data.join(shape_file.select('LocationID', 'Borough', 'Zone', 'service_zone'), green_data['DOLocationID'] == shape_file['LocationID'], how='left')\n",
    "\n",
    "# Drop the 'LocationID' column\n",
    "green_data = green_data.drop('LocationID')\n",
    "\n",
    "# Rename the columns\n",
    "green_data = green_data.withColumnRenamed('Borough', 'DOBorough')\n",
    "green_data = green_data.withColumnRenamed('Zone', 'DOZone')\n",
    "green_data = green_data.withColumnRenamed('service_zone', 'DOservice_zone')\n"
   ]
  },
  {
   "cell_type": "code",
   "execution_count": 0,
   "metadata": {
    "application/vnd.databricks.v1+cell": {
     "cellMetadata": {
      "byteLimit": 2048000,
      "rowLimit": 10000
     },
     "inputWidgets": {},
     "nuid": "7e112d0c-93b5-47af-a7a5-da54aa89a853",
     "showTitle": false,
     "title": ""
    }
   },
   "outputs": [],
   "source": [
    "from pyspark.sql.functions import col\n",
    "\n",
    "# Merge DataFrames based on 'PULocationID' and 'LocationID' columns\n",
    "fhvhv_data = fhvhv_data.join(shape_file.select('LocationID', 'Borough', 'Zone', 'service_zone'), fhvhv_data['PULocationID'] == shape_file['LocationID'], how='left')\n",
    "\n",
    "# Drop the 'LocationID' column\n",
    "fhvhv_data = fhvhv_data.drop('LocationID')\n",
    "\n",
    "# Rename the columns\n",
    "fhvhv_data = fhvhv_data.withColumnRenamed('Borough', 'PUBorough')\n",
    "fhvhv_data = fhvhv_data.withColumnRenamed('Zone', 'PUZone')\n",
    "fhvhv_data = fhvhv_data.withColumnRenamed('service_zone', 'PUservice_zone')\n"
   ]
  },
  {
   "cell_type": "code",
   "execution_count": 0,
   "metadata": {
    "application/vnd.databricks.v1+cell": {
     "cellMetadata": {
      "byteLimit": 2048000,
      "rowLimit": 10000
     },
     "inputWidgets": {},
     "nuid": "3d1343f5-b020-4847-8273-dc94d25f7a47",
     "showTitle": false,
     "title": ""
    }
   },
   "outputs": [],
   "source": [
    "from pyspark.sql.functions import col\n",
    "\n",
    "# Merge DataFrames based on 'DOLocationID' and 'LocationID' columns\n",
    "fhvhv_data = fhvhv_data.join(shape_file.select('LocationID', 'Borough', 'Zone', 'service_zone'), fhvhv_data['DOLocationID'] == shape_file['LocationID'], how='left')\n",
    "\n",
    "# Drop the 'LocationID' column\n",
    "fhvhv_data = fhvhv_data.drop('LocationID')\n",
    "\n",
    "# Rename the columns\n",
    "fhvhv_data = fhvhv_data.withColumnRenamed('Borough', 'DOBorough')\n",
    "fhvhv_data = fhvhv_data.withColumnRenamed('Zone', 'DOZone')\n",
    "fhvhv_data = fhvhv_data.withColumnRenamed('service_zone', 'DOservice_zone')\n"
   ]
  },
  {
   "cell_type": "code",
   "execution_count": 0,
   "metadata": {
    "application/vnd.databricks.v1+cell": {
     "cellMetadata": {
      "byteLimit": 2048000,
      "rowLimit": 10000
     },
     "inputWidgets": {},
     "nuid": "9e0292e4-a3b1-496e-81dd-15cebfe2005d",
     "showTitle": false,
     "title": ""
    }
   },
   "outputs": [
    {
     "output_type": "stream",
     "name": "stdout",
     "output_type": "stream",
     "text": [
      "Collecting geopandas\r\n  Downloading geopandas-0.14.0-py3-none-any.whl (1.1 MB)\r\n\u001B[?25l\r\u001B[K     |▎                               | 10 kB 25.0 MB/s eta 0:00:01\r\u001B[K     |▋                               | 20 kB 6.3 MB/s eta 0:00:01\r\u001B[K     |█                               | 30 kB 8.9 MB/s eta 0:00:01\r\u001B[K     |█▏                              | 40 kB 3.3 MB/s eta 0:00:01\r\u001B[K     |█▌                              | 51 kB 3.7 MB/s eta 0:00:01\r\u001B[K     |█▉                              | 61 kB 4.4 MB/s eta 0:00:01\r\u001B[K     |██                              | 71 kB 4.4 MB/s eta 0:00:01\r\u001B[K     |██▍                             | 81 kB 3.3 MB/s eta 0:00:01\r\u001B[K     |██▊                             | 92 kB 3.7 MB/s eta 0:00:01\r\u001B[K     |███                             | 102 kB 4.1 MB/s eta 0:00:01\r\u001B[K     |███▎                            | 112 kB 4.1 MB/s eta 0:00:01\r\u001B[K     |███▋                            | 122 kB 4.1 MB/s eta 0:00:01\r\u001B[K     |███▉                            | 133 kB 4.1 MB/s eta 0:00:01\r\u001B[K     |████▏                           | 143 kB 4.1 MB/s eta 0:00:01\r\u001B[K     |████▌                           | 153 kB 4.1 MB/s eta 0:00:01\r\u001B[K     |████▊                           | 163 kB 4.1 MB/s eta 0:00:01\r\u001B[K     |█████                           | 174 kB 4.1 MB/s eta 0:00:01\r\u001B[K     |█████▍                          | 184 kB 4.1 MB/s eta 0:00:01\r\u001B[K     |█████▋                          | 194 kB 4.1 MB/s eta 0:00:01\r\u001B[K     |██████                          | 204 kB 4.1 MB/s eta 0:00:01\r\u001B[K     |██████▎                         | 215 kB 4.1 MB/s eta 0:00:01\r\u001B[K     |██████▌                         | 225 kB 4.1 MB/s eta 0:00:01\r\u001B[K     |██████▉                         | 235 kB 4.1 MB/s eta 0:00:01\r\u001B[K     |███████▏                        | 245 kB 4.1 MB/s eta 0:00:01\r\u001B[K     |███████▍                        | 256 kB 4.1 MB/s eta 0:00:01\r\u001B[K     |███████▊                        | 266 kB 4.1 MB/s eta 0:00:01\r\u001B[K     |████████                        | 276 kB 4.1 MB/s eta 0:00:01\r\u001B[K     |████████▎                       | 286 kB 4.1 MB/s eta 0:00:01\r\u001B[K     |████████▋                       | 296 kB 4.1 MB/s eta 0:00:01\r\u001B[K     |█████████                       | 307 kB 4.1 MB/s eta 0:00:01\r\u001B[K     |█████████▏                      | 317 kB 4.1 MB/s eta 0:00:01\r\u001B[K     |█████████▌                      | 327 kB 4.1 MB/s eta 0:00:01\r\u001B[K     |█████████▉                      | 337 kB 4.1 MB/s eta 0:00:01\r\u001B[K     |██████████                      | 348 kB 4.1 MB/s eta 0:00:01\r\u001B[K     |██████████▍                     | 358 kB 4.1 MB/s eta 0:00:01\r\u001B[K     |██████████▊                     | 368 kB 4.1 MB/s eta 0:00:01\r\u001B[K     |███████████                     | 378 kB 4.1 MB/s eta 0:00:01\r\u001B[K     |███████████▎                    | 389 kB 4.1 MB/s eta 0:00:01\r\u001B[K     |███████████▋                    | 399 kB 4.1 MB/s eta 0:00:01\r\u001B[K     |███████████▉                    | 409 kB 4.1 MB/s eta 0:00:01\r\u001B[K     |████████████▏                   | 419 kB 4.1 MB/s eta 0:00:01\r\u001B[K     |████████████▌                   | 430 kB 4.1 MB/s eta 0:00:01\r\u001B[K     |████████████▊                   | 440 kB 4.1 MB/s eta 0:00:01\r\u001B[K     |█████████████                   | 450 kB 4.1 MB/s eta 0:00:01\r\u001B[K     |█████████████▍                  | 460 kB 4.1 MB/s eta 0:00:01\r\u001B[K     |█████████████▋                  | 471 kB 4.1 MB/s eta 0:00:01\r\u001B[K     |██████████████                  | 481 kB 4.1 MB/s eta 0:00:01\r\u001B[K     |██████████████▎                 | 491 kB 4.1 MB/s eta 0:00:01\r\u001B[K     |██████████████▌                 | 501 kB 4.1 MB/s eta 0:00:01\r\u001B[K     |██████████████▉                 | 512 kB 4.1 MB/s eta 0:00:01\r\u001B[K     |███████████████▏                | 522 kB 4.1 MB/s eta 0:00:01\r\u001B[K     |███████████████▌                | 532 kB 4.1 MB/s eta 0:00:01\r\u001B[K     |███████████████▊                | 542 kB 4.1 MB/s eta 0:00:01\r\u001B[K     |████████████████                | 552 kB 4.1 MB/s eta 0:00:01\r\u001B[K     |████████████████▍               | 563 kB 4.1 MB/s eta 0:00:01\r\u001B[K     |████████████████▋               | 573 kB 4.1 MB/s eta 0:00:01\r\u001B[K     |█████████████████               | 583 kB 4.1 MB/s eta 0:00:01\r\u001B[K     |█████████████████▎              | 593 kB 4.1 MB/s eta 0:00:01\r\u001B[K     |█████████████████▌              | 604 kB 4.1 MB/s eta 0:00:01\r\u001B[K     |█████████████████▉              | 614 kB 4.1 MB/s eta 0:00:01\r\u001B[K     |██████████████████▏             | 624 kB 4.1 MB/s eta 0:00:01\r\u001B[K     |██████████████████▍             | 634 kB 4.1 MB/s eta 0:00:01\r\u001B[K     |██████████████████▊             | 645 kB 4.1 MB/s eta 0:00:01\r\u001B[K     |███████████████████             | 655 kB 4.1 MB/s eta 0:00:01\r\u001B[K     |███████████████████▎            | 665 kB 4.1 MB/s eta 0:00:01\r\u001B[K     |███████████████████▋            | 675 kB 4.1 MB/s eta 0:00:01\r\u001B[K     |████████████████████            | 686 kB 4.1 MB/s eta 0:00:01\r\u001B[K     |████████████████████▏           | 696 kB 4.1 MB/s eta 0:00:01\r\u001B[K     |████████████████████▌           | 706 kB 4.1 MB/s eta 0:00:01\r\u001B[K     |████████████████████▉           | 716 kB 4.1 MB/s eta 0:00:01\r\u001B[K     |█████████████████████           | 727 kB 4.1 MB/s eta 0:00:01\r\u001B[K     |█████████████████████▍          | 737 kB 4.1 MB/s eta 0:00:01\r\u001B[K     |█████████████████████▊          | 747 kB 4.1 MB/s eta 0:00:01\r\u001B[K     |██████████████████████          | 757 kB 4.1 MB/s eta 0:00:01\r\u001B[K     |██████████████████████▎         | 768 kB 4.1 MB/s eta 0:00:01\r\u001B[K     |██████████████████████▋         | 778 kB 4.1 MB/s eta 0:00:01\r\u001B[K     |██████████████████████▉         | 788 kB 4.1 MB/s eta 0:00:01\r\u001B[K     |███████████████████████▏        | 798 kB 4.1 MB/s eta 0:00:01\r\u001B[K     |███████████████████████▌        | 808 kB 4.1 MB/s eta 0:00:01\r\u001B[K     |███████████████████████▊        | 819 kB 4.1 MB/s eta 0:00:01\r\u001B[K     |████████████████████████        | 829 kB 4.1 MB/s eta 0:00:01\r\u001B[K     |████████████████████████▍       | 839 kB 4.1 MB/s eta 0:00:01\r\u001B[K     |████████████████████████▋       | 849 kB 4.1 MB/s eta 0:00:01\r\u001B[K     |█████████████████████████       | 860 kB 4.1 MB/s eta 0:00:01\r\u001B[K     |█████████████████████████▎      | 870 kB 4.1 MB/s eta 0:00:01\r\u001B[K     |█████████████████████████▌      | 880 kB 4.1 MB/s eta 0:00:01\r\u001B[K     |█████████████████████████▉      | 890 kB 4.1 MB/s eta 0:00:01\r\u001B[K     |██████████████████████████▏     | 901 kB 4.1 MB/s eta 0:00:01\r\u001B[K     |██████████████████████████▍     | 911 kB 4.1 MB/s eta 0:00:01\r\u001B[K     |██████████████████████████▊     | 921 kB 4.1 MB/s eta 0:00:01\r\u001B[K     |███████████████████████████     | 931 kB 4.1 MB/s eta 0:00:01\r\u001B[K     |███████████████████████████▎    | 942 kB 4.1 MB/s eta 0:00:01\r\u001B[K     |███████████████████████████▋    | 952 kB 4.1 MB/s eta 0:00:01\r\u001B[K     |████████████████████████████    | 962 kB 4.1 MB/s eta 0:00:01\r\u001B[K     |████████████████████████████▏   | 972 kB 4.1 MB/s eta 0:00:01\r\u001B[K     |████████████████████████████▌   | 983 kB 4.1 MB/s eta 0:00:01\r\u001B[K     |████████████████████████████▉   | 993 kB 4.1 MB/s eta 0:00:01\r\u001B[K     |█████████████████████████████   | 1.0 MB 4.1 MB/s eta 0:00:01\r\u001B[K     |█████████████████████████████▍  | 1.0 MB 4.1 MB/s eta 0:00:01\r\u001B[K     |█████████████████████████████▊  | 1.0 MB 4.1 MB/s eta 0:00:01\r\u001B[K     |██████████████████████████████  | 1.0 MB 4.1 MB/s eta 0:00:01\r\u001B[K     |██████████████████████████████▎ | 1.0 MB 4.1 MB/s eta 0:00:01\r\u001B[K     |██████████████████████████████▋ | 1.1 MB 4.1 MB/s eta 0:00:01\r\u001B[K     |███████████████████████████████ | 1.1 MB 4.1 MB/s eta 0:00:01\r\u001B[K     |███████████████████████████████▏| 1.1 MB 4.1 MB/s eta 0:00:01\r\u001B[K     |███████████████████████████████▌| 1.1 MB 4.1 MB/s eta 0:00:01\r\u001B[K     |███████████████████████████████▉| 1.1 MB 4.1 MB/s eta 0:00:01\r\u001B[K     |████████████████████████████████| 1.1 MB 4.1 MB/s \r\n\u001B[?25hRequirement already satisfied: pandas>=1.4.0 in /databricks/python3/lib/python3.9/site-packages (from geopandas) (1.4.2)\r\nCollecting fiona>=1.8.21\r\n  Downloading fiona-1.9.5-cp39-cp39-manylinux2014_x86_64.whl (15.7 MB)\r\n\u001B[?25l\r\u001B[K     |                                | 10 kB 25.5 MB/s eta 0:00:01\r\u001B[K     |                                | 20 kB 32.2 MB/s eta 0:00:01\r\u001B[K     |                                | 30 kB 38.8 MB/s eta 0:00:01\r\u001B[K     |                                | 40 kB 43.8 MB/s eta 0:00:01\r\u001B[K     |                                | 51 kB 48.0 MB/s eta 0:00:01\r\u001B[K     |▏                               | 61 kB 50.7 MB/s eta 0:00:01\r\u001B[K     |▏                               | 71 kB 52.6 MB/s eta 0:00:01\r\u001B[K     |▏                               | 81 kB 55.3 MB/s eta 0:00:01\r\u001B[K     |▏                               | 92 kB 57.6 MB/s eta 0:00:01\r\u001B[K     |▏                               | 102 kB 60.5 MB/s eta 0:00:01\r\u001B[K     |▎                               | 112 kB 60.5 MB/s eta 0:00:01\r\u001B[K     |▎                               | 122 kB 60.5 MB/s eta 0:00:01\r\u001B[K     |▎                               | 133 kB 60.5 MB/s eta 0:00:01\r\u001B[K     |▎                               | 143 kB 60.5 MB/s eta 0:00:01\r\u001B[K     |▎                               | 153 kB 60.5 MB/s eta 0:00:01\r\u001B[K     |▍                               | 163 kB 60.5 MB/s eta 0:00:01\r\u001B[K     |▍                               | 174 kB 60.5 MB/s eta 0:00:01\r\u001B[K     |▍                               | 184 kB 60.5 MB/s eta 0:00:01\r\u001B[K     |▍                               | 194 kB 60.5 MB/s eta 0:00:01\r\u001B[K     |▍                               | 204 kB 60.5 MB/s eta 0:00:01\r\u001B[K     |▍                               | 215 kB 60.5 MB/s eta 0:00:01\r\u001B[K     |▌                               | 225 kB 60.5 MB/s eta 0:00:01\r\u001B[K     |▌                               | 235 kB 60.5 MB/s eta 0:00:01\r\u001B[K     |▌                               | 245 kB 60.5 MB/s eta 0:00:01\r\u001B[K     |▌                               | 256 kB 60.5 MB/s eta 0:00:01\r\u001B[K     |▌                               | 266 kB 60.5 MB/s eta 0:00:01\r\u001B[K     |▋                               | 276 kB 60.5 MB/s eta 0:00:01\r\u001B[K     |▋                               | 286 kB 60.5 MB/s eta 0:00:01\r\u001B[K     |▋                               | 296 kB 60.5 MB/s eta 0:00:01\r\u001B[K     |▋                               | 307 kB 60.5 MB/s eta 0:00:01\r\u001B[K     |▋                               | 317 kB 60.5 MB/s eta 0:00:01\r\u001B[K     |▊                               | 327 kB 60.5 MB/s eta 0:00:01\r\u001B[K     |▊                               | 337 kB 60.5 MB/s eta 0:00:01\r\u001B[K     |▊                               | 348 kB 60.5 MB/s eta 0:00:01\r\u001B[K     |▊                               | 358 kB 60.5 MB/s eta 0:00:01\r\u001B[K     |▊                               | 368 kB 60.5 MB/s eta 0:00:01\r\u001B[K     |▊                               | 378 kB 60.5 MB/s eta 0:00:01\r\u001B[K     |▉                               | 389 kB 60.5 MB/s eta 0:00:01\r\u001B[K     |▉                               | 399 kB 60.5 MB/s eta 0:00:01\r\u001B[K     |▉                               | 409 kB 60.5 MB/s eta 0:00:01\r\u001B[K     |▉                               | 419 kB 60.5 MB/s eta 0:00:01\r\u001B[K     |▉                               | 430 kB 60.5 MB/s eta 0:00:01\r\u001B[K     |█                               | 440 kB 60.5 MB/s eta 0:00:01\r\u001B[K     |█                               | 450 kB 60.5 MB/s eta 0:00:01\r\u001B[K     |█                               | 460 kB 60.5 MB/s eta 0:00:01\r\u001B[K     |█                               | 471 kB 60.5 MB/s eta 0:00:01\r\u001B[K     |█                               | 481 kB 60.5 MB/s eta 0:00:01\r\u001B[K     |█                               | 491 kB 60.5 MB/s eta 0:00:01\r\u001B[K     |█                               | 501 kB 60.5 MB/s eta 0:00:01\r\u001B[K     |█                               | 512 kB 60.5 MB/s eta 0:00:01\r\u001B[K     |█                               | 522 kB 60.5 MB/s eta 0:00:01\r\u001B[K     |█                               | 532 kB 60.5 MB/s eta 0:00:01\r\u001B[K     |█                               | 542 kB 60.5 MB/s eta 0:00:01\r\u001B[K     |█▏                              | 552 kB 60.5 MB/s eta 0:00:01\r\u001B[K     |█▏                              | 563 kB 60.5 MB/s eta 0:00:01\r\u001B[K     |█▏                              | 573 kB 60.5 MB/s eta 0:00:01\r\u001B[K     |█▏                              | 583 kB 60.5 MB/s eta 0:00:01\r\u001B[K     |█▏                              | 593 kB 60.5 MB/s eta 0:00:01\r\u001B[K     |█▎                              | 604 kB 60.5 MB/s eta 0:00:01\r\u001B[K     |█▎                              | 614 kB 60.5 MB/s eta 0:00:01\r\u001B[K     |█▎                              | 624 kB 60.5 MB/s eta 0:00:01\r\u001B[K     |█▎                              | 634 kB 60.5 MB/s eta 0:00:01\r\u001B[K     |█▎                              | 645 kB 60.5 MB/s eta 0:00:01\r\u001B[K     |█▍                              | 655 kB 60.5 MB/s eta 0:00:01\r\u001B[K     |█▍                              | 665 kB 60.5 MB/s eta 0:00:01\r\u001B[K     |█▍                              | 675 kB 60.5 MB/s eta 0:00:01\r\u001B[K     |█▍                              | 686 kB 60.5 MB/s eta 0:00:01\r\u001B[K     |█▍                              | 696 kB 60.5 MB/s eta 0:00:01\r\u001B[K     |█▍                              | 706 kB 60.5 MB/s eta 0:00:01\r\u001B[K     |█▌                              | 716 kB 60.5 MB/s eta 0:00:01\r\u001B[K     |█▌                              | 727 kB 60.5 MB/s eta 0:00:01\r\u001B[K     |█▌                              | 737 kB 60.5 MB/s eta 0:00:01\r\u001B[K     |█▌                              | 747 kB 60.5 MB/s eta 0:00:01\r\u001B[K     |█▌                              | 757 kB 60.5 MB/s eta 0:00:01\r\u001B[K     |█▋                              | 768 kB 60.5 MB/s eta 0:00:01\r\u001B[K     |█▋                              | 778 kB 60.5 MB/s eta 0:00:01\r\u001B[K     |█▋                              | 788 kB 60.5 MB/s eta 0:00:01\r\u001B[K     |█▋                              | 798 kB 60.5 MB/s eta 0:00:01\r\u001B[K     |█▋                              | 808 kB 60.5 MB/s eta 0:00:01\r\u001B[K     |█▊                              | 819 kB 60.5 MB/s eta 0:00:01\r\u001B[K     |█▊                              | 829 kB 60.5 MB/s eta 0:00:01\r\u001B[K     |█▊                              | 839 kB 60.5 MB/s eta 0:00:01\r\u001B[K     |█▊                              | 849 kB 60.5 MB/s eta 0:00:01\r\u001B[K     |█▊                              | 860 kB 60.5 MB/s eta 0:00:01\r\u001B[K     |█▊                              | 870 kB 60.5 MB/s eta 0:00:01\r\u001B[K     |█▉                              | 880 kB 60.5 MB/s eta 0:00:01\r\u001B[K     |█▉                              | 890 kB 60.5 MB/s eta 0:00:01\r\u001B[K     |█▉                              | 901 kB 60.5 MB/s eta 0:00:01\r\u001B[K     |█▉                              | 911 kB 60.5 MB/s eta 0:00:01\r\u001B[K     |█▉                              | 921 kB 60.5 MB/s eta 0:00:01\r\u001B[K     |██                              | 931 kB 60.5 MB/s eta 0:00:01\r\u001B[K     |██                              | 942 kB 60.5 MB/s eta 0:00:01\r\u001B[K     |██                              | 952 kB 60.5 MB/s eta 0:00:01\r\u001B[K     |██                              | 962 kB 60.5 MB/s eta 0:00:01\r\u001B[K     |██                              | 972 kB 60.5 MB/s eta 0:00:01\r\u001B[K     |██                              | 983 kB 60.5 MB/s eta 0:00:01\r\u001B[K     |██                              | 993 kB 60.5 MB/s eta 0:00:01\r\u001B[K     |██                              | 1.0 MB 60.5 MB/s eta 0:00:01\r\u001B[K     |██                              | 1.0 MB 60.5 MB/s eta 0:00:01\r\u001B[K     |██                              | 1.0 MB 60.5 MB/s eta 0:00:01\r\u001B[K     |██▏                             | 1.0 MB 60.5 MB/s eta 0:00:01\r\u001B[K     |██▏                             | 1.0 MB 60.5 MB/s eta 0:00:01\r\u001B[K     |██▏                             | 1.1 MB 60.5 MB/s eta 0:00:01\r\u001B[K     |██▏                             | 1.1 MB 60.5 MB/s eta 0:00:01\r\u001B[K     |██▏                             | 1.1 MB 60.5 MB/s eta 0:00:01\r\u001B[K     |██▏                             | 1.1 MB 60.5 MB/s eta 0:00:01\r\u001B[K     |██▎                             | 1.1 MB 60.5 MB/s eta 0:00:01\r\u001B[K     |██▎                             | 1.1 MB 60.5 MB/s eta 0:00:01\r\u001B[K     |██▎                             | 1.1 MB 60.5 MB/s eta 0:00:01\r\u001B[K     |██▎                             | 1.1 MB 60.5 MB/s eta 0:00:01\r\u001B[K     |██▎                             | 1.1 MB 60.5 MB/s eta 0:00:01\r\u001B[K     |██▍                             | 1.1 MB 60.5 MB/s eta 0:00:01\r\u001B[K     |██▍                             | 1.2 MB 60.5 MB/s eta 0:00:01\r\u001B[K     |██▍                             | 1.2 MB 60.5 MB/s eta 0:00:01\r\u001B[K     |██▍                             | 1.2 MB 60.5 MB/s eta 0:00:01\r\u001B[K     |██▍                             | 1.2 MB 60.5 MB/s eta 0:00:01\r\u001B[K     |██▌                             | 1.2 MB 60.5 MB/s eta 0:00:01\r\u001B[K     |██▌                             | 1.2 MB 60.5 MB/s eta 0:00:01\r\u001B[K     |██▌                             | 1.2 MB 60.5 MB/s eta 0:00:01\r\u001B[K     |██▌                             | 1.2 MB 60.5 MB/s eta 0:00:01\r\u001B[K     |██▌                             | 1.2 MB 60.5 MB/s eta 0:00:01\r\u001B[K     |██▌                             | 1.2 MB 60.5 MB/s eta 0:00:01\r\u001B[K     |██▋                             | 1.3 MB 60.5 MB/s eta 0:00:01\r\u001B[K     |██▋                             | 1.3 MB 60.5 MB/s eta 0:00:01\r\u001B[K     |██▋                             | 1.3 MB 60.5 MB/s eta 0:00:01\r\u001B[K     |██▋                             | 1.3 MB 60.5 MB/s eta 0:00:01\r\u001B[K     |██▋                             | 1.3 MB 60.5 MB/s eta 0:00:01\r\u001B[K     |██▊                             | 1.3 MB 60.5 MB/s eta 0:00:01\r\u001B[K     |██▊                             | 1.3 MB 60.5 MB/s eta 0:00:01\r\u001B[K     |██▊                             | 1.3 MB 60.5 MB/s eta 0:00:01\r\u001B[K     |██▊                             | 1.3 MB 60.5 MB/s eta 0:00:01\r\u001B[K     |██▊                             | 1.4 MB 60.5 MB/s eta 0:00:01\r\u001B[K     |██▉                             | 1.4 MB 60.5 MB/s eta 0:00:01\r\u001B[K     |██▉                             | 1.4 MB 60.5 MB/s eta 0:00:01\r\u001B[K     |██▉                             | 1.4 MB 60.5 MB/s eta 0:00:01\r\u001B[K     |██▉                             | 1.4 MB 60.5 MB/s eta 0:00:01\r\u001B[K     |██▉                             | 1.4 MB 60.5 MB/s eta 0:00:01\r\u001B[K     |██▉                             | 1.4 MB 60.5 MB/s eta 0:00:01\r\u001B[K     |███                             | 1.4 MB 60.5 MB/s eta 0:00:01\r\u001B[K     |███                             | 1.4 MB 60.5 MB/s eta 0:00:01\r\u001B[K     |███                             | 1.4 MB 60.5 MB/s eta 0:00:01\r\u001B[K     |███                             | 1.5 MB 60.5 MB/s eta 0:00:01\r\u001B[K     |███                             | 1.5 MB 60.5 MB/s eta 0:00:01\r\u001B[K     |███                             | 1.5 MB 60.5 MB/s eta 0:00:01\r\u001B[K     |███                             | 1.5 MB 60.5 MB/s eta 0:00:01\r\u001B[K     |███                             | 1.5 MB 60.5 MB/s eta 0:00:01\r\u001B[K     |███                             | 1.5 MB 60.5 MB/s eta 0:00:01\r\u001B[K     |███                             | 1.5 MB 60.5 MB/s eta 0:00:01\r\u001B[K     |███▏                            | 1.5 MB 60.5 MB/s eta 0:00:01\r\u001B[K     |███▏                            | 1.5 MB 60.5 MB/s eta 0:00:01\r\u001B[K     |███▏                            | 1.5 MB 60.5 MB/s eta 0:00:01\r\u001B[K     |███▏                            | 1.6 MB 60.5 MB/s eta 0:00:01\r\u001B[K     |███▏                            | 1.6 MB 60.5 MB/s eta 0:00:01\r\u001B[K     |███▏                            | 1.6 MB 60.5 MB/s eta 0:00:01\r\u001B[K     |███▎                            | 1.6 MB 60.5 MB/s eta 0:00:01\r\u001B[K     |███▎                            | 1.6 MB 60.5 MB/s eta 0:00:01\r\u001B[K     |███▎                            | 1.6 MB 60.5 MB/s eta 0:00:01\r\u001B[K     |███▎                            | 1.6 MB 60.5 MB/s eta 0:00:01\r\u001B[K     |███▎                            | 1.6 MB 60.5 MB/s eta 0:00:01\r\u001B[K     |███▍                            | 1.6 MB 60.5 MB/s eta 0:00:01\r\u001B[K     |███▍                            | 1.6 MB 60.5 MB/s eta 0:00:01\r\u001B[K     |███▍                            | 1.7 MB 60.5 MB/s eta 0:00:01\r\u001B[K     |███▍                            | 1.7 MB 60.5 MB/s eta 0:00:01\r\u001B[K     |███▍                            | 1.7 MB 60.5 MB/s eta 0:00:01\r\u001B[K     |███▌                            | 1.7 MB 60.5 MB/s eta 0:00:01\r\u001B[K     |███▌                            | 1.7 MB 60.5 MB/s eta 0:00:01\r\u001B[K     |███▌                            | 1.7 MB 60.5 MB/s eta 0:00:01\r\u001B[K     |███▌                            | 1.7 MB 60.5 MB/s eta 0:00:01\r\u001B[K     |███▌                            | 1.7 MB 60.5 MB/s eta 0:00:01\r\u001B[K     |███▌                            | 1.7 MB 60.5 MB/s eta 0:00:01\r\u001B[K     |███▋                            | 1.8 MB 60.5 MB/s eta 0:00:01\r\u001B[K     |███▋                            | 1.8 MB 60.5 MB/s eta 0:00:01\r\u001B[K     |███▋                            | 1.8 MB 60.5 MB/s eta 0:00:01\r\u001B[K     |███▋                            | 1.8 MB 60.5 MB/s eta 0:00:01\r\u001B[K     |███▋                            | 1.8 MB 60.5 MB/s eta 0:00:01\r\u001B[K     |███▊                            | 1.8 MB 60.5 MB/s eta 0:00:01\r\u001B[K     |███▊                            | 1.8 MB 60.5 MB/s eta 0:00:01\r\u001B[K     |███▊                            | 1.8 MB 60.5 MB/s eta 0:00:01\r\u001B[K     |███▊                            | 1.8 MB 60.5 MB/s eta 0:00:01\r\u001B[K     |███▊                            | 1.8 MB 60.5 MB/s eta 0:00:01\r\u001B[K     |███▉                            | 1.9 MB 60.5 MB/s eta 0:00:01\r\u001B[K     |███▉                            | 1.9 MB 60.5 MB/s eta 0:00:01\r\u001B[K     |███▉                            | 1.9 MB 60.5 MB/s eta 0:00:01\r\u001B[K     |███▉                            | 1.9 MB 60.5 MB/s eta 0:00:01\r\u001B[K     |███▉                            | 1.9 MB 60.5 MB/s eta 0:00:01\r\u001B[K     |████                            | 1.9 MB 60.5 MB/s eta 0:00:01\r\u001B[K     |████                            | 1.9 MB 60.5 MB/s eta 0:00:01\r\u001B[K     |████                            | 1.9 MB 60.5 MB/s eta 0:00:01\r\u001B[K     |████                            | 1.9 MB 60.5 MB/s eta 0:00:01\r\u001B[K     |████                            | 1.9 MB 60.5 MB/s eta 0:00:01\r\u001B[K     |████                            | 2.0 MB 60.5 MB/s eta 0:00:01\r\u001B[K     |████                            | 2.0 MB 60.5 MB/s eta 0:00:01\r\u001B[K     |████                            | 2.0 MB 60.5 MB/s eta 0:00:01\r\u001B[K     |████                            | 2.0 MB 60.5 MB/s eta 0:00:01\r\u001B[K     |████                            | 2.0 MB 60.5 MB/s eta 0:00:01\r\u001B[K     |████                            | 2.0 MB 60.5 MB/s eta 0:00:01\r\u001B[K     |████▏                           | 2.0 MB 60.5 MB/s eta 0:00:01\r\u001B[K     |████▏                           | 2.0 MB 60.5 MB/s eta 0:00:01\r\u001B[K     |████▏                           | 2.0 MB 60.5 MB/s eta 0:00:01\r\u001B[K     |████▏                           | 2.0 MB 60.5 MB/s eta 0:00:01\r\u001B[K     |████▏                           | 2.1 MB 60.5 MB/s eta 0:00:01\r\u001B[K     |████▎                           | 2.1 MB 60.5 MB/s eta 0:00:01\r\u001B[K     |████▎                           | 2.1 MB 60.5 MB/s eta 0:00:01\r\u001B[K     |████▎                           | 2.1 MB 60.5 MB/s eta 0:00:01\r\u001B[K     |████▎                           | 2.1 MB 60.5 MB/s eta 0:00:01\r\u001B[K     |████▎                           | 2.1 MB 60.5 MB/s eta 0:00:01\r\u001B[K     |████▎                           | 2.1 MB 60.5 MB/s eta 0:00:01\r\u001B[K     |████▍                           | 2.1 MB 60.5 MB/s eta 0:00:01\r\u001B[K     |████▍                           | 2.1 MB 60.5 MB/s eta 0:00:01\r\u001B[K     |████▍                           | 2.2 MB 60.5 MB/s eta 0:00:01\r\u001B[K     |████▍                           | 2.2 MB 60.5 MB/s eta 0:00:01\r\u001B[K     |████▍                           | 2.2 MB 60.5 MB/s eta 0:00:01\r\u001B[K     |████▌                           | 2.2 MB 60.5 MB/s eta 0:00:01\r\u001B[K     |████▌                           | 2.2 MB 60.5 MB/s eta 0:00:01\r\u001B[K     |████▌                           | 2.2 MB 60.5 MB/s eta 0:00:01\r\u001B[K     |████▌                           | 2.2 MB 60.5 MB/s eta 0:00:01\r\u001B[K     |████▌                           | 2.2 MB 60.5 MB/s eta 0:00:01\r\u001B[K     |████▋                           | 2.2 MB 60.5 MB/s eta 0:00:01\r\u001B[K     |████▋                           | 2.2 MB 60.5 MB/s eta 0:00:01\r\u001B[K     |████▋                           | 2.3 MB 60.5 MB/s eta 0:00:01\r\u001B[K     |████▋                           | 2.3 MB 60.5 MB/s eta 0:00:01\r\u001B[K     |████▋                           | 2.3 MB 60.5 MB/s eta 0:00:01\r\u001B[K     |████▋                           | 2.3 MB 60.5 MB/s eta 0:00:01\r\u001B[K     |████▊                           | 2.3 MB 60.5 MB/s eta 0:00:01\r\u001B[K     |████▊                           | 2.3 MB 60.5 MB/s eta 0:00:01\r\u001B[K     |████▊                           | 2.3 MB 60.5 MB/s eta 0:00:01\r\u001B[K     |████▊                           | 2.3 MB 60.5 MB/s eta 0:00:01\r\u001B[K     |████▊                           | 2.3 MB 60.5 MB/s eta 0:00:01\r\u001B[K     |████▉                           | 2.3 MB 60.5 MB/s eta 0:00:01\r\u001B[K     |████▉                           | 2.4 MB 60.5 MB/s eta 0:00:01\r\u001B[K     |████▉                           | 2.4 MB 60.5 MB/s eta 0:00:01\r\u001B[K     |████▉                           | 2.4 MB 60.5 MB/s eta 0:00:01\r\u001B[K     |████▉                           | 2.4 MB 60.5 MB/s eta 0:00:01\r\u001B[K     |█████                           | 2.4 MB 60.5 MB/s eta 0:00:01\r\u001B[K     |█████                           | 2.4 MB 60.5 MB/s eta 0:00:01\r\u001B[K     |█████                           | 2.4 MB 60.5 MB/s eta 0:00:01\r\u001B[K     |█████                           | 2.4 \n\n*** WARNING: max output size exceeded, skipping output. ***\n\n00:01\r\u001B[K     |███████████████████▌            | 5.1 MB 67.0 MB/s eta 0:00:01\r\u001B[K     |███████████████████▋            | 5.1 MB 67.0 MB/s eta 0:00:01\r\u001B[K     |███████████████████▋            | 5.1 MB 67.0 MB/s eta 0:00:01\r\u001B[K     |███████████████████▋            | 5.1 MB 67.0 MB/s eta 0:00:01\r\u001B[K     |███████████████████▊            | 5.1 MB 67.0 MB/s eta 0:00:01\r\u001B[K     |███████████████████▊            | 5.1 MB 67.0 MB/s eta 0:00:01\r\u001B[K     |███████████████████▉            | 5.2 MB 67.0 MB/s eta 0:00:01\r\u001B[K     |███████████████████▉            | 5.2 MB 67.0 MB/s eta 0:00:01\r\u001B[K     |███████████████████▉            | 5.2 MB 67.0 MB/s eta 0:00:01\r\u001B[K     |████████████████████            | 5.2 MB 67.0 MB/s eta 0:00:01\r\u001B[K     |████████████████████            | 5.2 MB 67.0 MB/s eta 0:00:01\r\u001B[K     |████████████████████            | 5.2 MB 67.0 MB/s eta 0:00:01\r\u001B[K     |████████████████████            | 5.2 MB 67.0 MB/s eta 0:00:01\r\u001B[K     |████████████████████            | 5.2 MB 67.0 MB/s eta 0:00:01\r\u001B[K     |████████████████████            | 5.2 MB 67.0 MB/s eta 0:00:01\r\u001B[K     |████████████████████▏           | 5.2 MB 67.0 MB/s eta 0:00:01\r\u001B[K     |████████████████████▏           | 5.3 MB 67.0 MB/s eta 0:00:01\r\u001B[K     |████████████████████▏           | 5.3 MB 67.0 MB/s eta 0:00:01\r\u001B[K     |████████████████████▎           | 5.3 MB 67.0 MB/s eta 0:00:01\r\u001B[K     |████████████████████▎           | 5.3 MB 67.0 MB/s eta 0:00:01\r\u001B[K     |████████████████████▎           | 5.3 MB 67.0 MB/s eta 0:00:01\r\u001B[K     |████████████████████▍           | 5.3 MB 67.0 MB/s eta 0:00:01\r\u001B[K     |████████████████████▍           | 5.3 MB 67.0 MB/s eta 0:00:01\r\u001B[K     |████████████████████▌           | 5.3 MB 67.0 MB/s eta 0:00:01\r\u001B[K     |████████████████████▌           | 5.3 MB 67.0 MB/s eta 0:00:01\r\u001B[K     |████████████████████▌           | 5.3 MB 67.0 MB/s eta 0:00:01\r\u001B[K     |████████████████████▋           | 5.4 MB 67.0 MB/s eta 0:00:01\r\u001B[K     |████████████████████▋           | 5.4 MB 67.0 MB/s eta 0:00:01\r\u001B[K     |████████████████████▋           | 5.4 MB 67.0 MB/s eta 0:00:01\r\u001B[K     |████████████████████▊           | 5.4 MB 67.0 MB/s eta 0:00:01\r\u001B[K     |████████████████████▊           | 5.4 MB 67.0 MB/s eta 0:00:01\r\u001B[K     |████████████████████▊           | 5.4 MB 67.0 MB/s eta 0:00:01\r\u001B[K     |████████████████████▉           | 5.4 MB 67.0 MB/s eta 0:00:01\r\u001B[K     |████████████████████▉           | 5.4 MB 67.0 MB/s eta 0:00:01\r\u001B[K     |████████████████████▉           | 5.4 MB 67.0 MB/s eta 0:00:01\r\u001B[K     |█████████████████████           | 5.4 MB 67.0 MB/s eta 0:00:01\r\u001B[K     |█████████████████████           | 5.5 MB 67.0 MB/s eta 0:00:01\r\u001B[K     |█████████████████████           | 5.5 MB 67.0 MB/s eta 0:00:01\r\u001B[K     |█████████████████████           | 5.5 MB 67.0 MB/s eta 0:00:01\r\u001B[K     |█████████████████████           | 5.5 MB 67.0 MB/s eta 0:00:01\r\u001B[K     |█████████████████████▏          | 5.5 MB 67.0 MB/s eta 0:00:01\r\u001B[K     |█████████████████████▏          | 5.5 MB 67.0 MB/s eta 0:00:01\r\u001B[K     |█████████████████████▏          | 5.5 MB 67.0 MB/s eta 0:00:01\r\u001B[K     |█████████████████████▎          | 5.5 MB 67.0 MB/s eta 0:00:01\r\u001B[K     |█████████████████████▎          | 5.5 MB 67.0 MB/s eta 0:00:01\r\u001B[K     |█████████████████████▎          | 5.6 MB 67.0 MB/s eta 0:00:01\r\u001B[K     |█████████████████████▍          | 5.6 MB 67.0 MB/s eta 0:00:01\r\u001B[K     |█████████████████████▍          | 5.6 MB 67.0 MB/s eta 0:00:01\r\u001B[K     |█████████████████████▍          | 5.6 MB 67.0 MB/s eta 0:00:01\r\u001B[K     |█████████████████████▌          | 5.6 MB 67.0 MB/s eta 0:00:01\r\u001B[K     |█████████████████████▌          | 5.6 MB 67.0 MB/s eta 0:00:01\r\u001B[K     |█████████████████████▌          | 5.6 MB 67.0 MB/s eta 0:00:01\r\u001B[K     |█████████████████████▋          | 5.6 MB 67.0 MB/s eta 0:00:01\r\u001B[K     |█████████████████████▋          | 5.6 MB 67.0 MB/s eta 0:00:01\r\u001B[K     |█████████████████████▊          | 5.6 MB 67.0 MB/s eta 0:00:01\r\u001B[K     |█████████████████████▊          | 5.7 MB 67.0 MB/s eta 0:00:01\r\u001B[K     |█████████████████████▊          | 5.7 MB 67.0 MB/s eta 0:00:01\r\u001B[K     |█████████████████████▉          | 5.7 MB 67.0 MB/s eta 0:00:01\r\u001B[K     |█████████████████████▉          | 5.7 MB 67.0 MB/s eta 0:00:01\r\u001B[K     |█████████████████████▉          | 5.7 MB 67.0 MB/s eta 0:00:01\r\u001B[K     |██████████████████████          | 5.7 MB 67.0 MB/s eta 0:00:01\r\u001B[K     |██████████████████████          | 5.7 MB 67.0 MB/s eta 0:00:01\r\u001B[K     |██████████████████████          | 5.7 MB 67.0 MB/s eta 0:00:01\r\u001B[K     |██████████████████████          | 5.7 MB 67.0 MB/s eta 0:00:01\r\u001B[K     |██████████████████████          | 5.7 MB 67.0 MB/s eta 0:00:01\r\u001B[K     |██████████████████████          | 5.8 MB 67.0 MB/s eta 0:00:01\r\u001B[K     |██████████████████████▏         | 5.8 MB 67.0 MB/s eta 0:00:01\r\u001B[K     |██████████████████████▏         | 5.8 MB 67.0 MB/s eta 0:00:01\r\u001B[K     |██████████████████████▏         | 5.8 MB 67.0 MB/s eta 0:00:01\r\u001B[K     |██████████████████████▎         | 5.8 MB 67.0 MB/s eta 0:00:01\r\u001B[K     |██████████████████████▎         | 5.8 MB 67.0 MB/s eta 0:00:01\r\u001B[K     |██████████████████████▍         | 5.8 MB 67.0 MB/s eta 0:00:01\r\u001B[K     |██████████████████████▍         | 5.8 MB 67.0 MB/s eta 0:00:01\r\u001B[K     |██████████████████████▍         | 5.8 MB 67.0 MB/s eta 0:00:01\r\u001B[K     |██████████████████████▌         | 5.8 MB 67.0 MB/s eta 0:00:01\r\u001B[K     |██████████████████████▌         | 5.9 MB 67.0 MB/s eta 0:00:01\r\u001B[K     |██████████████████████▌         | 5.9 MB 67.0 MB/s eta 0:00:01\r\u001B[K     |██████████████████████▋         | 5.9 MB 67.0 MB/s eta 0:00:01\r\u001B[K     |██████████████████████▋         | 5.9 MB 67.0 MB/s eta 0:00:01\r\u001B[K     |██████████████████████▋         | 5.9 MB 67.0 MB/s eta 0:00:01\r\u001B[K     |██████████████████████▊         | 5.9 MB 67.0 MB/s eta 0:00:01\r\u001B[K     |██████████████████████▊         | 5.9 MB 67.0 MB/s eta 0:00:01\r\u001B[K     |██████████████████████▊         | 5.9 MB 67.0 MB/s eta 0:00:01\r\u001B[K     |██████████████████████▉         | 5.9 MB 67.0 MB/s eta 0:00:01\r\u001B[K     |██████████████████████▉         | 5.9 MB 67.0 MB/s eta 0:00:01\r\u001B[K     |██████████████████████▉         | 6.0 MB 67.0 MB/s eta 0:00:01\r\u001B[K     |███████████████████████         | 6.0 MB 67.0 MB/s eta 0:00:01\r\u001B[K     |███████████████████████         | 6.0 MB 67.0 MB/s eta 0:00:01\r\u001B[K     |███████████████████████         | 6.0 MB 67.0 MB/s eta 0:00:01\r\u001B[K     |███████████████████████         | 6.0 MB 67.0 MB/s eta 0:00:01\r\u001B[K     |███████████████████████         | 6.0 MB 67.0 MB/s eta 0:00:01\r\u001B[K     |███████████████████████▏        | 6.0 MB 67.0 MB/s eta 0:00:01\r\u001B[K     |███████████████████████▏        | 6.0 MB 67.0 MB/s eta 0:00:01\r\u001B[K     |███████████████████████▏        | 6.0 MB 67.0 MB/s eta 0:00:01\r\u001B[K     |███████████████████████▎        | 6.1 MB 67.0 MB/s eta 0:00:01\r\u001B[K     |███████████████████████▎        | 6.1 MB 67.0 MB/s eta 0:00:01\r\u001B[K     |███████████████████████▎        | 6.1 MB 67.0 MB/s eta 0:00:01\r\u001B[K     |███████████████████████▍        | 6.1 MB 67.0 MB/s eta 0:00:01\r\u001B[K     |███████████████████████▍        | 6.1 MB 67.0 MB/s eta 0:00:01\r\u001B[K     |███████████████████████▍        | 6.1 MB 67.0 MB/s eta 0:00:01\r\u001B[K     |███████████████████████▌        | 6.1 MB 67.0 MB/s eta 0:00:01\r\u001B[K     |███████████████████████▌        | 6.1 MB 67.0 MB/s eta 0:00:01\r\u001B[K     |███████████████████████▋        | 6.1 MB 67.0 MB/s eta 0:00:01\r\u001B[K     |███████████████████████▋        | 6.1 MB 67.0 MB/s eta 0:00:01\r\u001B[K     |███████████████████████▋        | 6.2 MB 67.0 MB/s eta 0:00:01\r\u001B[K     |███████████████████████▊        | 6.2 MB 67.0 MB/s eta 0:00:01\r\u001B[K     |███████████████████████▊        | 6.2 MB 67.0 MB/s eta 0:00:01\r\u001B[K     |███████████████████████▊        | 6.2 MB 67.0 MB/s eta 0:00:01\r\u001B[K     |███████████████████████▉        | 6.2 MB 67.0 MB/s eta 0:00:01\r\u001B[K     |███████████████████████▉        | 6.2 MB 67.0 MB/s eta 0:00:01\r\u001B[K     |███████████████████████▉        | 6.2 MB 67.0 MB/s eta 0:00:01\r\u001B[K     |████████████████████████        | 6.2 MB 67.0 MB/s eta 0:00:01\r\u001B[K     |████████████████████████        | 6.2 MB 67.0 MB/s eta 0:00:01\r\u001B[K     |████████████████████████        | 6.2 MB 67.0 MB/s eta 0:00:01\r\u001B[K     |████████████████████████        | 6.3 MB 67.0 MB/s eta 0:00:01\r\u001B[K     |████████████████████████        | 6.3 MB 67.0 MB/s eta 0:00:01\r\u001B[K     |████████████████████████        | 6.3 MB 67.0 MB/s eta 0:00:01\r\u001B[K     |████████████████████████▏       | 6.3 MB 67.0 MB/s eta 0:00:01\r\u001B[K     |████████████████████████▏       | 6.3 MB 67.0 MB/s eta 0:00:01\r\u001B[K     |████████████████████████▎       | 6.3 MB 67.0 MB/s eta 0:00:01\r\u001B[K     |████████████████████████▎       | 6.3 MB 67.0 MB/s eta 0:00:01\r\u001B[K     |████████████████████████▎       | 6.3 MB 67.0 MB/s eta 0:00:01\r\u001B[K     |████████████████████████▍       | 6.3 MB 67.0 MB/s eta 0:00:01\r\u001B[K     |████████████████████████▍       | 6.3 MB 67.0 MB/s eta 0:00:01\r\u001B[K     |████████████████████████▍       | 6.4 MB 67.0 MB/s eta 0:00:01\r\u001B[K     |████████████████████████▌       | 6.4 MB 67.0 MB/s eta 0:00:01\r\u001B[K     |████████████████████████▌       | 6.4 MB 67.0 MB/s eta 0:00:01\r\u001B[K     |████████████████████████▌       | 6.4 MB 67.0 MB/s eta 0:00:01\r\u001B[K     |████████████████████████▋       | 6.4 MB 67.0 MB/s eta 0:00:01\r\u001B[K     |████████████████████████▋       | 6.4 MB 67.0 MB/s eta 0:00:01\r\u001B[K     |████████████████████████▋       | 6.4 MB 67.0 MB/s eta 0:00:01\r\u001B[K     |████████████████████████▊       | 6.4 MB 67.0 MB/s eta 0:00:01\r\u001B[K     |████████████████████████▊       | 6.4 MB 67.0 MB/s eta 0:00:01\r\u001B[K     |████████████████████████▊       | 6.5 MB 67.0 MB/s eta 0:00:01\r\u001B[K     |████████████████████████▉       | 6.5 MB 67.0 MB/s eta 0:00:01\r\u001B[K     |████████████████████████▉       | 6.5 MB 67.0 MB/s eta 0:00:01\r\u001B[K     |█████████████████████████       | 6.5 MB 67.0 MB/s eta 0:00:01\r\u001B[K     |█████████████████████████       | 6.5 MB 67.0 MB/s eta 0:00:01\r\u001B[K     |█████████████████████████       | 6.5 MB 67.0 MB/s eta 0:00:01\r\u001B[K     |█████████████████████████       | 6.5 MB 67.0 MB/s eta 0:00:01\r\u001B[K     |█████████████████████████       | 6.5 MB 67.0 MB/s eta 0:00:01\r\u001B[K     |█████████████████████████       | 6.5 MB 67.0 MB/s eta 0:00:01\r\u001B[K     |█████████████████████████▏      | 6.5 MB 67.0 MB/s eta 0:00:01\r\u001B[K     |█████████████████████████▏      | 6.6 MB 67.0 MB/s eta 0:00:01\r\u001B[K     |█████████████████████████▏      | 6.6 MB 67.0 MB/s eta 0:00:01\r\u001B[K     |█████████████████████████▎      | 6.6 MB 67.0 MB/s eta 0:00:01\r\u001B[K     |█████████████████████████▎      | 6.6 MB 67.0 MB/s eta 0:00:01\r\u001B[K     |█████████████████████████▎      | 6.6 MB 67.0 MB/s eta 0:00:01\r\u001B[K     |█████████████████████████▍      | 6.6 MB 67.0 MB/s eta 0:00:01\r\u001B[K     |█████████████████████████▍      | 6.6 MB 67.0 MB/s eta 0:00:01\r\u001B[K     |█████████████████████████▍      | 6.6 MB 67.0 MB/s eta 0:00:01\r\u001B[K     |█████████████████████████▌      | 6.6 MB 67.0 MB/s eta 0:00:01\r\u001B[K     |█████████████████████████▌      | 6.6 MB 67.0 MB/s eta 0:00:01\r\u001B[K     |█████████████████████████▋      | 6.7 MB 67.0 MB/s eta 0:00:01\r\u001B[K     |█████████████████████████▋      | 6.7 MB 67.0 MB/s eta 0:00:01\r\u001B[K     |█████████████████████████▋      | 6.7 MB 67.0 MB/s eta 0:00:01\r\u001B[K     |█████████████████████████▊      | 6.7 MB 67.0 MB/s eta 0:00:01\r\u001B[K     |█████████████████████████▊      | 6.7 MB 67.0 MB/s eta 0:00:01\r\u001B[K     |█████████████████████████▊      | 6.7 MB 67.0 MB/s eta 0:00:01\r\u001B[K     |█████████████████████████▉      | 6.7 MB 67.0 MB/s eta 0:00:01\r\u001B[K     |█████████████████████████▉      | 6.7 MB 67.0 MB/s eta 0:00:01\r\u001B[K     |█████████████████████████▉      | 6.7 MB 67.0 MB/s eta 0:00:01\r\u001B[K     |██████████████████████████      | 6.7 MB 67.0 MB/s eta 0:00:01\r\u001B[K     |██████████████████████████      | 6.8 MB 67.0 MB/s eta 0:00:01\r\u001B[K     |██████████████████████████      | 6.8 MB 67.0 MB/s eta 0:00:01\r\u001B[K     |██████████████████████████      | 6.8 MB 67.0 MB/s eta 0:00:01\r\u001B[K     |██████████████████████████      | 6.8 MB 67.0 MB/s eta 0:00:01\r\u001B[K     |██████████████████████████▏     | 6.8 MB 67.0 MB/s eta 0:00:01\r\u001B[K     |██████████████████████████▏     | 6.8 MB 67.0 MB/s eta 0:00:01\r\u001B[K     |██████████████████████████▏     | 6.8 MB 67.0 MB/s eta 0:00:01\r\u001B[K     |██████████████████████████▎     | 6.8 MB 67.0 MB/s eta 0:00:01\r\u001B[K     |██████████████████████████▎     | 6.8 MB 67.0 MB/s eta 0:00:01\r\u001B[K     |██████████████████████████▎     | 6.9 MB 67.0 MB/s eta 0:00:01\r\u001B[K     |██████████████████████████▍     | 6.9 MB 67.0 MB/s eta 0:00:01\r\u001B[K     |██████████████████████████▍     | 6.9 MB 67.0 MB/s eta 0:00:01\r\u001B[K     |██████████████████████████▍     | 6.9 MB 67.0 MB/s eta 0:00:01\r\u001B[K     |██████████████████████████▌     | 6.9 MB 67.0 MB/s eta 0:00:01\r\u001B[K     |██████████████████████████▌     | 6.9 MB 67.0 MB/s eta 0:00:01\r\u001B[K     |██████████████████████████▌     | 6.9 MB 67.0 MB/s eta 0:00:01\r\u001B[K     |██████████████████████████▋     | 6.9 MB 67.0 MB/s eta 0:00:01\r\u001B[K     |██████████████████████████▋     | 6.9 MB 67.0 MB/s eta 0:00:01\r\u001B[K     |██████████████████████████▋     | 6.9 MB 67.0 MB/s eta 0:00:01\r\u001B[K     |██████████████████████████▊     | 7.0 MB 67.0 MB/s eta 0:00:01\r\u001B[K     |██████████████████████████▊     | 7.0 MB 67.0 MB/s eta 0:00:01\r\u001B[K     |██████████████████████████▉     | 7.0 MB 67.0 MB/s eta 0:00:01\r\u001B[K     |██████████████████████████▉     | 7.0 MB 67.0 MB/s eta 0:00:01\r\u001B[K     |██████████████████████████▉     | 7.0 MB 67.0 MB/s eta 0:00:01\r\u001B[K     |███████████████████████████     | 7.0 MB 67.0 MB/s eta 0:00:01\r\u001B[K     |███████████████████████████     | 7.0 MB 67.0 MB/s eta 0:00:01\r\u001B[K     |███████████████████████████     | 7.0 MB 67.0 MB/s eta 0:00:01\r\u001B[K     |███████████████████████████     | 7.0 MB 67.0 MB/s eta 0:00:01\r\u001B[K     |███████████████████████████     | 7.0 MB 67.0 MB/s eta 0:00:01\r\u001B[K     |███████████████████████████     | 7.1 MB 67.0 MB/s eta 0:00:01\r\u001B[K     |███████████████████████████▏    | 7.1 MB 67.0 MB/s eta 0:00:01\r\u001B[K     |███████████████████████████▏    | 7.1 MB 67.0 MB/s eta 0:00:01\r\u001B[K     |███████████████████████████▏    | 7.1 MB 67.0 MB/s eta 0:00:01\r\u001B[K     |███████████████████████████▎    | 7.1 MB 67.0 MB/s eta 0:00:01\r\u001B[K     |███████████████████████████▎    | 7.1 MB 67.0 MB/s eta 0:00:01\r\u001B[K     |███████████████████████████▎    | 7.1 MB 67.0 MB/s eta 0:00:01\r\u001B[K     |███████████████████████████▍    | 7.1 MB 67.0 MB/s eta 0:00:01\r\u001B[K     |███████████████████████████▍    | 7.1 MB 67.0 MB/s eta 0:00:01\r\u001B[K     |███████████████████████████▌    | 7.1 MB 67.0 MB/s eta 0:00:01\r\u001B[K     |███████████████████████████▌    | 7.2 MB 67.0 MB/s eta 0:00:01\r\u001B[K     |███████████████████████████▌    | 7.2 MB 67.0 MB/s eta 0:00:01\r\u001B[K     |███████████████████████████▋    | 7.2 MB 67.0 MB/s eta 0:00:01\r\u001B[K     |███████████████████████████▋    | 7.2 MB 67.0 MB/s eta 0:00:01\r\u001B[K     |███████████████████████████▋    | 7.2 MB 67.0 MB/s eta 0:00:01\r\u001B[K     |███████████████████████████▊    | 7.2 MB 67.0 MB/s eta 0:00:01\r\u001B[K     |███████████████████████████▊    | 7.2 MB 67.0 MB/s eta 0:00:01\r\u001B[K     |███████████████████████████▊    | 7.2 MB 67.0 MB/s eta 0:00:01\r\u001B[K     |███████████████████████████▉    | 7.2 MB 67.0 MB/s eta 0:00:01\r\u001B[K     |███████████████████████████▉    | 7.2 MB 67.0 MB/s eta 0:00:01\r\u001B[K     |███████████████████████████▉    | 7.3 MB 67.0 MB/s eta 0:00:01\r\u001B[K     |████████████████████████████    | 7.3 MB 67.0 MB/s eta 0:00:01\r\u001B[K     |████████████████████████████    | 7.3 MB 67.0 MB/s eta 0:00:01\r\u001B[K     |████████████████████████████    | 7.3 MB 67.0 MB/s eta 0:00:01\r\u001B[K     |████████████████████████████    | 7.3 MB 67.0 MB/s eta 0:00:01\r\u001B[K     |████████████████████████████    | 7.3 MB 67.0 MB/s eta 0:00:01\r\u001B[K     |████████████████████████████▏   | 7.3 MB 67.0 MB/s eta 0:00:01\r\u001B[K     |████████████████████████████▏   | 7.3 MB 67.0 MB/s eta 0:00:01\r\u001B[K     |████████████████████████████▏   | 7.3 MB 67.0 MB/s eta 0:00:01\r\u001B[K     |████████████████████████████▎   | 7.4 MB 67.0 MB/s eta 0:00:01\r\u001B[K     |████████████████████████████▎   | 7.4 MB 67.0 MB/s eta 0:00:01\r\u001B[K     |████████████████████████████▎   | 7.4 MB 67.0 MB/s eta 0:00:01\r\u001B[K     |████████████████████████████▍   | 7.4 MB 67.0 MB/s eta 0:00:01\r\u001B[K     |████████████████████████████▍   | 7.4 MB 67.0 MB/s eta 0:00:01\r\u001B[K     |████████████████████████████▍   | 7.4 MB 67.0 MB/s eta 0:00:01\r\u001B[K     |████████████████████████████▌   | 7.4 MB 67.0 MB/s eta 0:00:01\r\u001B[K     |████████████████████████████▌   | 7.4 MB 67.0 MB/s eta 0:00:01\r\u001B[K     |████████████████████████████▌   | 7.4 MB 67.0 MB/s eta 0:00:01\r\u001B[K     |████████████████████████████▋   | 7.4 MB 67.0 MB/s eta 0:00:01\r\u001B[K     |████████████████████████████▋   | 7.5 MB 67.0 MB/s eta 0:00:01\r\u001B[K     |████████████████████████████▊   | 7.5 MB 67.0 MB/s eta 0:00:01\r\u001B[K     |████████████████████████████▊   | 7.5 MB 67.0 MB/s eta 0:00:01\r\u001B[K     |████████████████████████████▊   | 7.5 MB 67.0 MB/s eta 0:00:01\r\u001B[K     |████████████████████████████▉   | 7.5 MB 67.0 MB/s eta 0:00:01\r\u001B[K     |████████████████████████████▉   | 7.5 MB 67.0 MB/s eta 0:00:01\r\u001B[K     |████████████████████████████▉   | 7.5 MB 67.0 MB/s eta 0:00:01\r\u001B[K     |█████████████████████████████   | 7.5 MB 67.0 MB/s eta 0:00:01\r\u001B[K     |█████████████████████████████   | 7.5 MB 67.0 MB/s eta 0:00:01\r\u001B[K     |█████████████████████████████   | 7.5 MB 67.0 MB/s eta 0:00:01\r\u001B[K     |█████████████████████████████   | 7.6 MB 67.0 MB/s eta 0:00:01\r\u001B[K     |█████████████████████████████   | 7.6 MB 67.0 MB/s eta 0:00:01\r\u001B[K     |█████████████████████████████   | 7.6 MB 67.0 MB/s eta 0:00:01\r\u001B[K     |█████████████████████████████▏  | 7.6 MB 67.0 MB/s eta 0:00:01\r\u001B[K     |█████████████████████████████▏  | 7.6 MB 67.0 MB/s eta 0:00:01\r\u001B[K     |█████████████████████████████▏  | 7.6 MB 67.0 MB/s eta 0:00:01\r\u001B[K     |█████████████████████████████▎  | 7.6 MB 67.0 MB/s eta 0:00:01\r\u001B[K     |█████████████████████████████▎  | 7.6 MB 67.0 MB/s eta 0:00:01\r\u001B[K     |█████████████████████████████▍  | 7.6 MB 67.0 MB/s eta 0:00:01\r\u001B[K     |█████████████████████████████▍  | 7.6 MB 67.0 MB/s eta 0:00:01\r\u001B[K     |█████████████████████████████▍  | 7.7 MB 67.0 MB/s eta 0:00:01\r\u001B[K     |█████████████████████████████▌  | 7.7 MB 67.0 MB/s eta 0:00:01\r\u001B[K     |█████████████████████████████▌  | 7.7 MB 67.0 MB/s eta 0:00:01\r\u001B[K     |█████████████████████████████▌  | 7.7 MB 67.0 MB/s eta 0:00:01\r\u001B[K     |█████████████████████████████▋  | 7.7 MB 67.0 MB/s eta 0:00:01\r\u001B[K     |█████████████████████████████▋  | 7.7 MB 67.0 MB/s eta 0:00:01\r\u001B[K     |█████████████████████████████▋  | 7.7 MB 67.0 MB/s eta 0:00:01\r\u001B[K     |█████████████████████████████▊  | 7.7 MB 67.0 MB/s eta 0:00:01\r\u001B[K     |█████████████████████████████▊  | 7.7 MB 67.0 MB/s eta 0:00:01\r\u001B[K     |█████████████████████████████▊  | 7.8 MB 67.0 MB/s eta 0:00:01\r\u001B[K     |█████████████████████████████▉  | 7.8 MB 67.0 MB/s eta 0:00:01\r\u001B[K     |█████████████████████████████▉  | 7.8 MB 67.0 MB/s eta 0:00:01\r\u001B[K     |█████████████████████████████▉  | 7.8 MB 67.0 MB/s eta 0:00:01\r\u001B[K     |██████████████████████████████  | 7.8 MB 67.0 MB/s eta 0:00:01\r\u001B[K     |██████████████████████████████  | 7.8 MB 67.0 MB/s eta 0:00:01\r\u001B[K     |██████████████████████████████  | 7.8 MB 67.0 MB/s eta 0:00:01\r\u001B[K     |██████████████████████████████  | 7.8 MB 67.0 MB/s eta 0:00:01\r\u001B[K     |██████████████████████████████  | 7.8 MB 67.0 MB/s eta 0:00:01\r\u001B[K     |██████████████████████████████▏ | 7.8 MB 67.0 MB/s eta 0:00:01\r\u001B[K     |██████████████████████████████▏ | 7.9 MB 67.0 MB/s eta 0:00:01\r\u001B[K     |██████████████████████████████▏ | 7.9 MB 67.0 MB/s eta 0:00:01\r\u001B[K     |██████████████████████████████▎ | 7.9 MB 67.0 MB/s eta 0:00:01\r\u001B[K     |██████████████████████████████▎ | 7.9 MB 67.0 MB/s eta 0:00:01\r\u001B[K     |██████████████████████████████▎ | 7.9 MB 67.0 MB/s eta 0:00:01\r\u001B[K     |██████████████████████████████▍ | 7.9 MB 67.0 MB/s eta 0:00:01\r\u001B[K     |██████████████████████████████▍ | 7.9 MB 67.0 MB/s eta 0:00:01\r\u001B[K     |██████████████████████████████▍ | 7.9 MB 67.0 MB/s eta 0:00:01\r\u001B[K     |██████████████████████████████▌ | 7.9 MB 67.0 MB/s eta 0:00:01\r\u001B[K     |██████████████████████████████▌ | 7.9 MB 67.0 MB/s eta 0:00:01\r\u001B[K     |██████████████████████████████▌ | 8.0 MB 67.0 MB/s eta 0:00:01\r\u001B[K     |██████████████████████████████▋ | 8.0 MB 67.0 MB/s eta 0:00:01\r\u001B[K     |██████████████████████████████▋ | 8.0 MB 67.0 MB/s eta 0:00:01\r\u001B[K     |██████████████████████████████▊ | 8.0 MB 67.0 MB/s eta 0:00:01\r\u001B[K     |██████████████████████████████▊ | 8.0 MB 67.0 MB/s eta 0:00:01\r\u001B[K     |██████████████████████████████▊ | 8.0 MB 67.0 MB/s eta 0:00:01\r\u001B[K     |██████████████████████████████▉ | 8.0 MB 67.0 MB/s eta 0:00:01\r\u001B[K     |██████████████████████████████▉ | 8.0 MB 67.0 MB/s eta 0:00:01\r\u001B[K     |██████████████████████████████▉ | 8.0 MB 67.0 MB/s eta 0:00:01\r\u001B[K     |███████████████████████████████ | 8.0 MB 67.0 MB/s eta 0:00:01\r\u001B[K     |███████████████████████████████ | 8.1 MB 67.0 MB/s eta 0:00:01\r\u001B[K     |███████████████████████████████ | 8.1 MB 67.0 MB/s eta 0:00:01\r\u001B[K     |███████████████████████████████ | 8.1 MB 67.0 MB/s eta 0:00:01\r\u001B[K     |███████████████████████████████ | 8.1 MB 67.0 MB/s eta 0:00:01\r\u001B[K     |███████████████████████████████ | 8.1 MB 67.0 MB/s eta 0:00:01\r\u001B[K     |███████████████████████████████▏| 8.1 MB 67.0 MB/s eta 0:00:01\r\u001B[K     |███████████████████████████████▏| 8.1 MB 67.0 MB/s eta 0:00:01\r\u001B[K     |███████████████████████████████▎| 8.1 MB 67.0 MB/s eta 0:00:01\r\u001B[K     |███████████████████████████████▎| 8.1 MB 67.0 MB/s eta 0:00:01\r\u001B[K     |███████████████████████████████▎| 8.2 MB 67.0 MB/s eta 0:00:01\r\u001B[K     |███████████████████████████████▍| 8.2 MB 67.0 MB/s eta 0:00:01\r\u001B[K     |███████████████████████████████▍| 8.2 MB 67.0 MB/s eta 0:00:01\r\u001B[K     |███████████████████████████████▍| 8.2 MB 67.0 MB/s eta 0:00:01\r\u001B[K     |███████████████████████████████▌| 8.2 MB 67.0 MB/s eta 0:00:01\r\u001B[K     |███████████████████████████████▌| 8.2 MB 67.0 MB/s eta 0:00:01\r\u001B[K     |███████████████████████████████▌| 8.2 MB 67.0 MB/s eta 0:00:01\r\u001B[K     |███████████████████████████████▋| 8.2 MB 67.0 MB/s eta 0:00:01\r\u001B[K     |███████████████████████████████▋| 8.2 MB 67.0 MB/s eta 0:00:01\r\u001B[K     |███████████████████████████████▋| 8.2 MB 67.0 MB/s eta 0:00:01\r\u001B[K     |███████████████████████████████▊| 8.3 MB 67.0 MB/s eta 0:00:01\r\u001B[K     |███████████████████████████████▊| 8.3 MB 67.0 MB/s eta 0:00:01\r\u001B[K     |███████████████████████████████▊| 8.3 MB 67.0 MB/s eta 0:00:01\r\u001B[K     |███████████████████████████████▉| 8.3 MB 67.0 MB/s eta 0:00:01\r\u001B[K     |███████████████████████████████▉| 8.3 MB 67.0 MB/s eta 0:00:01\r\u001B[K     |████████████████████████████████| 8.3 MB 67.0 MB/s eta 0:00:01\r\u001B[K     |████████████████████████████████| 8.3 MB 67.0 MB/s eta 0:00:01\r\u001B[K     |████████████████████████████████| 8.3 MB 67.0 MB/s eta 0:00:01\r\u001B[K     |████████████████████████████████| 8.3 MB 67.0 MB/s \r\n\u001B[?25hCollecting cligj>=0.5\r\n  Downloading cligj-0.7.2-py3-none-any.whl (7.1 kB)\r\nCollecting click-plugins>=1.0\r\n  Downloading click_plugins-1.1.1-py2.py3-none-any.whl (7.5 kB)\r\nRequirement already satisfied: attrs>=19.2.0 in /databricks/python3/lib/python3.9/site-packages (from fiona>=1.8.21->geopandas) (21.4.0)\r\nRequirement already satisfied: certifi in /databricks/python3/lib/python3.9/site-packages (from fiona>=1.8.21->geopandas) (2021.10.8)\r\nRequirement already satisfied: setuptools in /databricks/python3/lib/python3.9/site-packages (from fiona>=1.8.21->geopandas) (61.2.0)\r\nCollecting importlib-metadata\r\n  Downloading importlib_metadata-6.8.0-py3-none-any.whl (22 kB)\r\nRequirement already satisfied: click~=8.0 in /databricks/python3/lib/python3.9/site-packages (from fiona>=1.8.21->geopandas) (8.0.4)\r\nRequirement already satisfied: six in /databricks/python3/lib/python3.9/site-packages (from fiona>=1.8.21->geopandas) (1.16.0)\r\nRequirement already satisfied: python-dateutil>=2.8.1 in /databricks/python3/lib/python3.9/site-packages (from pandas>=1.4.0->geopandas) (2.8.2)\r\nRequirement already satisfied: pytz>=2020.1 in /databricks/python3/lib/python3.9/site-packages (from pandas>=1.4.0->geopandas) (2021.3)\r\nRequirement already satisfied: numpy>=1.18.5 in /databricks/python3/lib/python3.9/site-packages (from pandas>=1.4.0->geopandas) (1.21.5)\r\nCollecting zipp>=0.5\r\n  Downloading zipp-3.17.0-py3-none-any.whl (7.4 kB)\r\nRequirement already satisfied: pyparsing!=3.0.5,>=2.0.2 in /databricks/python3/lib/python3.9/site-packages (from packaging->geopandas) (3.0.4)\r\nInstalling collected packages: zipp, importlib-metadata, cligj, click-plugins, shapely, pyproj, fiona, geopandas\r\nSuccessfully installed click-plugins-1.1.1 cligj-0.7.2 fiona-1.9.5 geopandas-0.14.0 importlib-metadata-6.8.0 pyproj-3.6.1 shapely-2.0.2 zipp-3.17.0\r\n\u001B[33mWARNING: You are using pip version 21.2.4; however, version 23.3.1 is available.\r\nYou should consider upgrading via the '/local_disk0/.ephemeral_nfs/envs/pythonEnv-ac09262b-2d95-4c50-82a5-9f276b7b54fe/bin/python -m pip install --upgrade pip' command.\u001B[0m\r\n"
     ]
    }
   ],
   "source": [
    "!pip install geopandas"
   ]
  },
  {
   "cell_type": "code",
   "execution_count": 0,
   "metadata": {
    "application/vnd.databricks.v1+cell": {
     "cellMetadata": {
      "byteLimit": 2048000,
      "rowLimit": 10000
     },
     "inputWidgets": {},
     "nuid": "01a58770-b208-4506-99ee-dd0a50227bc4",
     "showTitle": false,
     "title": ""
    }
   },
   "outputs": [
    {
     "output_type": "display_data",
     "data": {
      "application/vnd.databricks.v1+h3_hint": "",
      "text/plain": []
     },
     "metadata": {},
     "output_type": "display_data"
    }
   ],
   "source": [
    "import geopandas as gpd\n",
    "# Read the shapefile using geopandas\n",
    "gdf = gpd.read_file(\"gs://nyc_trip_data_analysis/taxi_zones.shp\")"
   ]
  },
  {
   "cell_type": "code",
   "execution_count": 0,
   "metadata": {
    "application/vnd.databricks.v1+cell": {
     "cellMetadata": {
      "byteLimit": 2048000,
      "rowLimit": 10000
     },
     "inputWidgets": {},
     "nuid": "e0d7dc2a-e3f2-4a96-b50d-26058e64b8e7",
     "showTitle": false,
     "title": ""
    }
   },
   "outputs": [],
   "source": [
    "gdf['latitude'] = gdf['geometry'].apply(lambda geom: geom.centroid.y)\n",
    "gdf['longitude'] = gdf['geometry'].apply(lambda geom: geom.centroid.x)"
   ]
  },
  {
   "cell_type": "code",
   "execution_count": 0,
   "metadata": {
    "application/vnd.databricks.v1+cell": {
     "cellMetadata": {
      "byteLimit": 2048000,
      "rowLimit": 10000
     },
     "inputWidgets": {},
     "nuid": "7455c789-ebd5-47c6-b1c4-090a1459f4ae",
     "showTitle": false,
     "title": ""
    }
   },
   "outputs": [
    {
     "output_type": "display_data",
     "data": {
      "text/html": [
       "<div>\n",
       "<style scoped>\n",
       "    .dataframe tbody tr th:only-of-type {\n",
       "        vertical-align: middle;\n",
       "    }\n",
       "\n",
       "    .dataframe tbody tr th {\n",
       "        vertical-align: top;\n",
       "    }\n",
       "\n",
       "    .dataframe thead th {\n",
       "        text-align: right;\n",
       "    }\n",
       "</style>\n",
       "<table border=\"1\" class=\"dataframe\">\n",
       "  <thead>\n",
       "    <tr style=\"text-align: right;\">\n",
       "      <th></th>\n",
       "      <th>OBJECTID</th>\n",
       "      <th>Shape_Leng</th>\n",
       "      <th>Shape_Area</th>\n",
       "      <th>zone</th>\n",
       "      <th>LocationID</th>\n",
       "      <th>borough</th>\n",
       "      <th>geometry</th>\n",
       "      <th>latitude</th>\n",
       "      <th>longitude</th>\n",
       "    </tr>\n",
       "  </thead>\n",
       "  <tbody>\n",
       "    <tr>\n",
       "      <th>0</th>\n",
       "      <td>1</td>\n",
       "      <td>0.116357</td>\n",
       "      <td>0.000782</td>\n",
       "      <td>Newark Airport</td>\n",
       "      <td>1</td>\n",
       "      <td>EWR</td>\n",
       "      <td>POLYGON ((933100.918 192536.086, 933091.011 19...</td>\n",
       "      <td>191376.749531</td>\n",
       "      <td>9.359968e+05</td>\n",
       "    </tr>\n",
       "    <tr>\n",
       "      <th>1</th>\n",
       "      <td>2</td>\n",
       "      <td>0.433470</td>\n",
       "      <td>0.004866</td>\n",
       "      <td>Jamaica Bay</td>\n",
       "      <td>2</td>\n",
       "      <td>Queens</td>\n",
       "      <td>MULTIPOLYGON (((1033269.244 172126.008, 103343...</td>\n",
       "      <td>164018.754403</td>\n",
       "      <td>1.031086e+06</td>\n",
       "    </tr>\n",
       "    <tr>\n",
       "      <th>2</th>\n",
       "      <td>3</td>\n",
       "      <td>0.084341</td>\n",
       "      <td>0.000314</td>\n",
       "      <td>Allerton/Pelham Gardens</td>\n",
       "      <td>3</td>\n",
       "      <td>Bronx</td>\n",
       "      <td>POLYGON ((1026308.770 256767.698, 1026495.593 ...</td>\n",
       "      <td>254265.478659</td>\n",
       "      <td>1.026453e+06</td>\n",
       "    </tr>\n",
       "    <tr>\n",
       "      <th>3</th>\n",
       "      <td>4</td>\n",
       "      <td>0.043567</td>\n",
       "      <td>0.000112</td>\n",
       "      <td>Alphabet City</td>\n",
       "      <td>4</td>\n",
       "      <td>Manhattan</td>\n",
       "      <td>POLYGON ((992073.467 203714.076, 992068.667 20...</td>\n",
       "      <td>202959.782391</td>\n",
       "      <td>9.906340e+05</td>\n",
       "    </tr>\n",
       "    <tr>\n",
       "      <th>4</th>\n",
       "      <td>5</td>\n",
       "      <td>0.092146</td>\n",
       "      <td>0.000498</td>\n",
       "      <td>Arden Heights</td>\n",
       "      <td>5</td>\n",
       "      <td>Staten Island</td>\n",
       "      <td>POLYGON ((935843.310 144283.336, 936046.565 14...</td>\n",
       "      <td>140681.351376</td>\n",
       "      <td>9.318714e+05</td>\n",
       "    </tr>\n",
       "  </tbody>\n",
       "</table>\n",
       "</div>"
      ]
     },
     "metadata": {
      "application/vnd.databricks.v1+output": {
       "addedWidgets": {},
       "arguments": {},
       "data": "<div>\n<style scoped>\n    .dataframe tbody tr th:only-of-type {\n        vertical-align: middle;\n    }\n\n    .dataframe tbody tr th {\n        vertical-align: top;\n    }\n\n    .dataframe thead th {\n        text-align: right;\n    }\n</style>\n<table border=\"1\" class=\"dataframe\">\n  <thead>\n    <tr style=\"text-align: right;\">\n      <th></th>\n      <th>OBJECTID</th>\n      <th>Shape_Leng</th>\n      <th>Shape_Area</th>\n      <th>zone</th>\n      <th>LocationID</th>\n      <th>borough</th>\n      <th>geometry</th>\n      <th>latitude</th>\n      <th>longitude</th>\n    </tr>\n  </thead>\n  <tbody>\n    <tr>\n      <th>0</th>\n      <td>1</td>\n      <td>0.116357</td>\n      <td>0.000782</td>\n      <td>Newark Airport</td>\n      <td>1</td>\n      <td>EWR</td>\n      <td>POLYGON ((933100.918 192536.086, 933091.011 19...</td>\n      <td>191376.749531</td>\n      <td>9.359968e+05</td>\n    </tr>\n    <tr>\n      <th>1</th>\n      <td>2</td>\n      <td>0.433470</td>\n      <td>0.004866</td>\n      <td>Jamaica Bay</td>\n      <td>2</td>\n      <td>Queens</td>\n      <td>MULTIPOLYGON (((1033269.244 172126.008, 103343...</td>\n      <td>164018.754403</td>\n      <td>1.031086e+06</td>\n    </tr>\n    <tr>\n      <th>2</th>\n      <td>3</td>\n      <td>0.084341</td>\n      <td>0.000314</td>\n      <td>Allerton/Pelham Gardens</td>\n      <td>3</td>\n      <td>Bronx</td>\n      <td>POLYGON ((1026308.770 256767.698, 1026495.593 ...</td>\n      <td>254265.478659</td>\n      <td>1.026453e+06</td>\n    </tr>\n    <tr>\n      <th>3</th>\n      <td>4</td>\n      <td>0.043567</td>\n      <td>0.000112</td>\n      <td>Alphabet City</td>\n      <td>4</td>\n      <td>Manhattan</td>\n      <td>POLYGON ((992073.467 203714.076, 992068.667 20...</td>\n      <td>202959.782391</td>\n      <td>9.906340e+05</td>\n    </tr>\n    <tr>\n      <th>4</th>\n      <td>5</td>\n      <td>0.092146</td>\n      <td>0.000498</td>\n      <td>Arden Heights</td>\n      <td>5</td>\n      <td>Staten Island</td>\n      <td>POLYGON ((935843.310 144283.336, 936046.565 14...</td>\n      <td>140681.351376</td>\n      <td>9.318714e+05</td>\n    </tr>\n  </tbody>\n</table>\n</div>",
       "datasetInfos": [],
       "metadata": {},
       "removedWidgets": [],
       "textData": null,
       "type": "htmlSandbox"
      }
     },
     "output_type": "display_data"
    }
   ],
   "source": [
    "gdf.head()"
   ]
  },
  {
   "cell_type": "code",
   "execution_count": 0,
   "metadata": {
    "application/vnd.databricks.v1+cell": {
     "cellMetadata": {
      "byteLimit": 2048000,
      "rowLimit": 10000
     },
     "inputWidgets": {},
     "nuid": "f5048c3b-de42-4099-ac8e-73c019b22eda",
     "showTitle": false,
     "title": ""
    }
   },
   "outputs": [],
   "source": [
    "shape = gdf[[\"LocationID\",\"latitude\", \"longitude\"]]\n",
    "shape = spark.createDataFrame(shape)"
   ]
  },
  {
   "cell_type": "code",
   "execution_count": 0,
   "metadata": {
    "application/vnd.databricks.v1+cell": {
     "cellMetadata": {
      "byteLimit": 2048000,
      "rowLimit": 10000
     },
     "inputWidgets": {},
     "nuid": "b11f4ec3-2b27-448d-a780-04036103a8d0",
     "showTitle": false,
     "title": ""
    }
   },
   "outputs": [],
   "source": [
    "from pyspark.sql import SparkSession\n",
    "from pyspark.sql.functions import col\n",
    "\n",
    "# Initialize a Spark session\n",
    "spark = SparkSession.builder.appName(\"ShapefileReader\").getOrCreate()\n",
    "\n",
    "# Merge DataFrames based on 'PULocationID' and 'LocationID' columns\n",
    "fhvhv_data = fhvhv_data.join(shape.select('LocationID', 'latitude', 'longitude'), fhvhv_data['PULocationID'] == shape['LocationID'], how='left')\n",
    "\n",
    "# Drop the 'LocationID' column\n",
    "fhvhv_data = fhvhv_data.drop('LocationID')\n",
    "\n",
    "# Rename the columns\n",
    "fhvhv_data = fhvhv_data.withColumnRenamed('latitude', 'PUlatitude')\n",
    "fhvhv_data = fhvhv_data.withColumnRenamed('longitude', 'PUlongitude')\n"
   ]
  },
  {
   "cell_type": "code",
   "execution_count": 0,
   "metadata": {
    "application/vnd.databricks.v1+cell": {
     "cellMetadata": {
      "byteLimit": 2048000,
      "rowLimit": 10000
     },
     "inputWidgets": {},
     "nuid": "d481565f-311b-435e-ba3a-f0379d628eb6",
     "showTitle": false,
     "title": ""
    }
   },
   "outputs": [],
   "source": [
    "from pyspark.sql.functions import col\n",
    "\n",
    "# Assuming 'fhvhv_tripdata_2023Jan' is your DataFrame and 'shape_file' is another DataFrame\n",
    "\n",
    "# Merge DataFrames based on 'DOLocationID' and 'LocationID' columns\n",
    "fhvhv_data = fhvhv_data.join(shape.select('LocationID', 'latitude', 'longitude'), fhvhv_data['DOLocationID'] == shape['LocationID'], how='left')\n",
    "\n",
    "# Drop the 'LocationID' column\n",
    "fhvhv_data = fhvhv_data.drop('LocationID')\n",
    "\n",
    "# Rename the columns\n",
    "fhvhv_data = fhvhv_data.withColumnRenamed('latitude', 'DOlatitude')\n",
    "fhvhv_data = fhvhv_data.withColumnRenamed('longitude', 'DOlongitude')\n"
   ]
  },
  {
   "cell_type": "code",
   "execution_count": 0,
   "metadata": {
    "application/vnd.databricks.v1+cell": {
     "cellMetadata": {
      "byteLimit": 2048000,
      "rowLimit": 10000
     },
     "inputWidgets": {},
     "nuid": "93abbb99-524c-4d5f-a05c-78b8fcb2b98a",
     "showTitle": false,
     "title": ""
    }
   },
   "outputs": [],
   "source": [
    "from pyspark.sql import SparkSession\n",
    "from pyspark.sql.functions import col\n",
    "\n",
    "# Initialize a Spark session\n",
    "spark = SparkSession.builder.appName(\"ShapefileReader\").getOrCreate()\n",
    "\n",
    "# Merge DataFrames based on 'PULocationID' and 'LocationID' columns\n",
    "yellow_data = yellow_data.join(shape.select('LocationID', 'latitude', 'longitude'), yellow_data['PULocationID'] == shape['LocationID'], how='left')\n",
    "\n",
    "# Drop the 'LocationID' column\n",
    "yellow_data = yellow_data.drop('LocationID')\n",
    "\n",
    "# Rename the columns\n",
    "yellow_data = yellow_data.withColumnRenamed('latitude', 'PUlatitude')\n",
    "yellow_data = yellow_data.withColumnRenamed('longitude', 'PUlongitude')\n"
   ]
  },
  {
   "cell_type": "code",
   "execution_count": 0,
   "metadata": {
    "application/vnd.databricks.v1+cell": {
     "cellMetadata": {
      "byteLimit": 2048000,
      "rowLimit": 10000
     },
     "inputWidgets": {},
     "nuid": "9f7db939-8bc9-49bd-a6bf-9ba48bb10f04",
     "showTitle": false,
     "title": ""
    }
   },
   "outputs": [],
   "source": [
    "from pyspark.sql import SparkSession\n",
    "from pyspark.sql.functions import col\n",
    "\n",
    "# Initialize a Spark session\n",
    "spark = SparkSession.builder.appName(\"ShapefileReader\").getOrCreate()\n",
    "\n",
    "# Merge DataFrames based on 'PULocationID' and 'LocationID' columns\n",
    "yellow_data = yellow_data.join(shape.select('LocationID', 'latitude', 'longitude'), yellow_data['DOLocationID'] == shape['LocationID'], how='left')\n",
    "\n",
    "# Drop the 'LocationID' column\n",
    "yellow_data = yellow_data.drop('LocationID')\n",
    "\n",
    "# Rename the columns\n",
    "yellow_data = yellow_data.withColumnRenamed('latitude', 'DOlatitude')\n",
    "yellow_data = yellow_data.withColumnRenamed('longitude', 'DOlongitude')\n"
   ]
  },
  {
   "cell_type": "code",
   "execution_count": 0,
   "metadata": {
    "application/vnd.databricks.v1+cell": {
     "cellMetadata": {
      "byteLimit": 2048000,
      "rowLimit": 10000
     },
     "inputWidgets": {},
     "nuid": "7afbe19d-4cab-4a52-8e71-f4194fc45c57",
     "showTitle": false,
     "title": ""
    }
   },
   "outputs": [],
   "source": [
    "from pyspark.sql import SparkSession\n",
    "from pyspark.sql.functions import col\n",
    "\n",
    "# Initialize a Spark session\n",
    "spark = SparkSession.builder.appName(\"ShapefileReader\").getOrCreate()\n",
    "\n",
    "# Merge DataFrames based on 'PULocationID' and 'LocationID' columns\n",
    "green_data = green_data.join(shape.select('LocationID', 'latitude', 'longitude'), green_data['PULocationID'] == shape['LocationID'], how='left')\n",
    "\n",
    "# Drop the 'LocationID' column\n",
    "green_data = green_data.drop('LocationID')\n",
    "\n",
    "# Rename the columns\n",
    "green_data = green_data.withColumnRenamed('latitude', 'PUlatitude')\n",
    "green_data = green_data.withColumnRenamed('longitude', 'PUlongitude')"
   ]
  },
  {
   "cell_type": "code",
   "execution_count": 0,
   "metadata": {
    "application/vnd.databricks.v1+cell": {
     "cellMetadata": {
      "byteLimit": 2048000,
      "rowLimit": 10000
     },
     "inputWidgets": {},
     "nuid": "36d39b5d-4fa4-43f8-adee-1fe3ea163e5b",
     "showTitle": false,
     "title": ""
    }
   },
   "outputs": [],
   "source": [
    "from pyspark.sql import SparkSession\n",
    "from pyspark.sql.functions import col\n",
    "\n",
    "# Initialize a Spark session\n",
    "spark = SparkSession.builder.appName(\"ShapefileReader\").getOrCreate()\n",
    "\n",
    "# Merge DataFrames based on 'PULocationID' and 'LocationID' columns\n",
    "green_data = green_data.join(shape.select('LocationID', 'latitude', 'longitude'), green_data['DOLocationID'] == shape['LocationID'], how='left')\n",
    "\n",
    "# Drop the 'LocationID' column\n",
    "green_data = green_data.drop('LocationID')\n",
    "\n",
    "# Rename the columns\n",
    "green_data = green_data.withColumnRenamed('latitude', 'DOlatitude')\n",
    "green_data = green_data.withColumnRenamed('longitude', 'DOlongitude')"
   ]
  },
  {
   "cell_type": "code",
   "execution_count": 0,
   "metadata": {
    "application/vnd.databricks.v1+cell": {
     "cellMetadata": {
      "byteLimit": 2048000,
      "rowLimit": 10000
     },
     "inputWidgets": {},
     "nuid": "f51cca5f-7880-404f-ac67-54c4aa4ba593",
     "showTitle": false,
     "title": ""
    }
   },
   "outputs": [],
   "source": [
    "from pyspark.sql import SparkSession\n",
    "from pyspark.sql.functions import monotonically_increasing_id\n",
    "\n",
    "# Initialize a Spark session\n",
    "spark = SparkSession.builder.appName(\"DataframeManipulation\").getOrCreate()\n",
    "\n",
    "# Assuming 'yellow_2023Jan_trips', 'green_2023Jan_trips', and 'fhvhv_tripdata_2023Jan' are your DataFrames\n",
    "dataframes = [yellow_data, green_data, fhvhv_data]\n",
    "\n",
    "# Define a common column list\n",
    "common_columns = ['pickup_datetime', 'dropoff_datetime', 'trip_distance', 'Taxi_Type', 'PULocationID', 'DOLocationID', 'PUlatitude', 'PUlongitude', 'DOlatitude', 'DOlongitude', 'PUBorough', 'PUZone', 'PUservice_zone', 'DOBorough', 'DOZone', 'DOservice_zone']\n",
    "\n",
    "# Initialize an empty list to store modified DataFrames\n",
    "modified_dataframes = []\n",
    "\n",
    "# Initialize a trip_id counter\n",
    "trip_id_counter = 1\n",
    "\n",
    "# Iterate through each DataFrame\n",
    "for df in dataframes:\n",
    "    # Extract the common columns\n",
    "    common_df = df.select(common_columns)\n",
    "    \n",
    "    # Add a 'trip_id' column with unique values for each DataFrame\n",
    "    common_df = common_df.withColumn('trip_id', monotonically_increasing_id() + trip_id_counter)\n",
    "    \n",
    "    # Append the modified DataFrame to the list\n",
    "    modified_dataframes.append(common_df)\n",
    "    \n",
    "    # Update the trip_id counter\n",
    "    trip_id_counter += common_df.count()\n",
    "\n",
    "# Union all the modified DataFrames into a single DataFrame\n",
    "from functools import reduce\n",
    "from pyspark.sql import DataFrame\n",
    "\n",
    "combined_df = reduce(DataFrame.unionAll, modified_dataframes)\n"
   ]
  },
  {
   "cell_type": "code",
   "execution_count": 0,
   "metadata": {
    "application/vnd.databricks.v1+cell": {
     "cellMetadata": {
      "byteLimit": 2048000,
      "rowLimit": 10000
     },
     "inputWidgets": {},
     "nuid": "c52524e0-2bcd-4d5a-b991-812a5320fe4b",
     "showTitle": false,
     "title": ""
    }
   },
   "outputs": [],
   "source": [
    "# Move 'trip_id' to the first position in the DataFrame\n",
    "combined_df = combined_df.select('trip_id', *common_columns)"
   ]
  },
  {
   "cell_type": "code",
   "execution_count": 0,
   "metadata": {
    "application/vnd.databricks.v1+cell": {
     "cellMetadata": {
      "byteLimit": 2048000,
      "rowLimit": 10000
     },
     "inputWidgets": {},
     "nuid": "76d68162-9aae-4401-b2c9-49e146ba73b9",
     "showTitle": false,
     "title": ""
    }
   },
   "outputs": [
    {
     "output_type": "stream",
     "name": "stdout",
     "output_type": "stream",
     "text": [
      "+-------+-------------------+-------------------+-------------+---------+------------+------------+------------------+-----------------+------------------+-----------------+---------+--------------------+--------------+---------+---------------+--------------+\n|trip_id|    pickup_datetime|   dropoff_datetime|trip_distance|Taxi_Type|PULocationID|DOLocationID|        PUlatitude|      PUlongitude|        DOlatitude|      DOlongitude|PUBorough|              PUZone|PUservice_zone|DOBorough|         DOZone|DOservice_zone|\n+-------+-------------------+-------------------+-------------+---------+------------+------------+------------------+-----------------+------------------+-----------------+---------+--------------------+--------------+---------+---------------+--------------+\n|      1|2016-01-01 00:12:22|2016-01-01 00:29:14|          3.2|   Yellow|          48|         262|216986.07003374878|987063.1857021254|  221974.400787808|999064.7250824339|Manhattan|        Clinton East|   Yellow Zone|Manhattan| Yorkville East|   Yellow Zone|\n|      2|2016-01-01 00:41:31|2016-01-01 00:55:10|          1.0|   Yellow|         162|          48|214959.58164229896|991908.5895678961|216986.07003374878|987063.1857021254|Manhattan|        Midtown East|   Yellow Zone|Manhattan|   Clinton East|   Yellow Zone|\n|      3|2016-01-01 00:53:37|2016-01-01 00:59:57|          0.9|   Yellow|         246|          90| 213727.4000817298| 983137.466109154|209708.74184834195|985089.2186553577|Manhattan|West Chelsea/Huds...|   Yellow Zone|Manhattan|       Flatiron|   Yellow Zone|\n|      4|2016-01-01 00:13:28|2016-01-01 00:18:07|          0.8|   Yellow|         170|         162|211701.31597992923|990209.6000586881|214959.58164229896|991908.5895678961|Manhattan|         Murray Hill|   Yellow Zone|Manhattan|   Midtown East|   Yellow Zone|\n|      5|2016-01-01 00:33:04|2016-01-01 00:47:14|          1.8|   Yellow|         161|         140| 215447.5272239114| 990428.525989642| 218166.4343533099|996787.6630546569|Manhattan|      Midtown Center|   Yellow Zone|Manhattan|Lenox Hill East|   Yellow Zone|\n+-------+-------------------+-------------------+-------------+---------+------------+------------+------------------+-----------------+------------------+-----------------+---------+--------------------+--------------+---------+---------------+--------------+\nonly showing top 5 rows\n\n"
     ]
    }
   ],
   "source": [
    "combined_df.show(5)"
   ]
  },
  {
   "cell_type": "code",
   "execution_count": 0,
   "metadata": {
    "application/vnd.databricks.v1+cell": {
     "cellMetadata": {
      "byteLimit": 2048000,
      "rowLimit": 10000
     },
     "inputWidgets": {},
     "nuid": "d724f622-ee94-4453-85f9-9adbc52fdc3d",
     "showTitle": false,
     "title": ""
    }
   },
   "outputs": [],
   "source": [
    "from pyspark.sql import SparkSession\n",
    "from pyspark.sql.functions import when, col\n",
    "\n",
    "# Initialize a Spark session\n",
    "spark = SparkSession.builder.appName(\"FilterDataFrame\").getOrCreate()\n",
    "\n",
    "# Assuming you have a DataFrame named 'yellow_data'\n",
    "\n",
    "# Define the conditions for RateCodeID and Payment_type\n",
    "RateCodeName = [\n",
    "    (col(\"RateCodeID\") == 1, \"Standard rate\"),\n",
    "    (col(\"RateCodeID\") == 2, \"JFK\"),\n",
    "    (col(\"RateCodeID\") == 3, \"Newark\"),\n",
    "    (col(\"RateCodeID\") == 4, \"Nassau or Westchester\"),\n",
    "    (col(\"RateCodeID\") == 5, \"Negotiated fare\"),\n",
    "    (col(\"RateCodeID\") == 6, \"Group ride\")\n",
    "]\n",
    "\n",
    "PaymentTypeName = [\n",
    "    (col(\"Payment_type\") == 1, \"Credit card\"),\n",
    "    (col(\"Payment_type\") == 2, \"Cash\"),\n",
    "    (col(\"Payment_type\") == 3, \"No charge\"),\n",
    "    (col(\"Payment_type\") == 4, \"Dispute\"),\n",
    "    (col(\"Payment_type\") == 5, \"Unknown\"),\n",
    "    (col(\"Payment_type\") == 6, \"Voided trip\")\n",
    "]\n",
    "\n",
    "# Apply the conditions using 'when' and 'otherwise' functions\n",
    "yellow_data = yellow_data.withColumn(\"RateCodeName\", when(RateCodeName[0][0], RateCodeName[0][1])\n",
    "                            .when(RateCodeName[1][0], RateCodeName[1][1])\n",
    "                            .when(RateCodeName[2][0], RateCodeName[2][1])\n",
    "                            .when(RateCodeName[3][0], RateCodeName[3][1])\n",
    "                            .when(RateCodeName[4][0], RateCodeName[4][1])\n",
    "                            .when(RateCodeName[5][0], RateCodeName[5][1])\n",
    "                            .otherwise(\"Other\"))\n",
    "\n",
    "yellow_data = yellow_data.withColumn(\"PaymentTypeName\", when(PaymentTypeName[0][0], PaymentTypeName[0][1])\n",
    "                            .when(PaymentTypeName[1][0], PaymentTypeName[1][1])\n",
    "                            .when(PaymentTypeName[2][0], PaymentTypeName[2][1])\n",
    "                            .when(PaymentTypeName[3][0], PaymentTypeName[3][1])\n",
    "                            .when(PaymentTypeName[4][0], PaymentTypeName[4][1])\n",
    "                            .when(PaymentTypeName[5][0], PaymentTypeName[5][1])\n",
    "                            .otherwise(\"Other\"))\n"
   ]
  },
  {
   "cell_type": "code",
   "execution_count": 0,
   "metadata": {
    "application/vnd.databricks.v1+cell": {
     "cellMetadata": {
      "byteLimit": 2048000,
      "rowLimit": 10000
     },
     "inputWidgets": {},
     "nuid": "ea575602-f1f7-4c4f-86eb-bebf0d1a6427",
     "showTitle": false,
     "title": ""
    }
   },
   "outputs": [],
   "source": [
    "from pyspark.sql import SparkSession\n",
    "from pyspark.sql.functions import when, col\n",
    "\n",
    "# Initialize a Spark session\n",
    "spark = SparkSession.builder.appName(\"FilterDataFrame\").getOrCreate()\n",
    "\n",
    "# Assuming you have a DataFrame named 'yellow_data'\n",
    "\n",
    "# Define the conditions for RateCodeID and Payment_type\n",
    "RateCodeName = [\n",
    "    (col(\"RateCodeID\") == 1, \"Standard rate\"),\n",
    "    (col(\"RateCodeID\") == 2, \"JFK\"),\n",
    "    (col(\"RateCodeID\") == 3, \"Newark\"),\n",
    "    (col(\"RateCodeID\") == 4, \"Nassau or Westchester\"),\n",
    "    (col(\"RateCodeID\") == 5, \"Negotiated fare\"),\n",
    "    (col(\"RateCodeID\") == 6, \"Group ride\")\n",
    "]\n",
    "\n",
    "PaymentTypeName = [\n",
    "    (col(\"Payment_type\") == 1, \"Credit card\"),\n",
    "    (col(\"Payment_type\") == 2, \"Cash\"),\n",
    "    (col(\"Payment_type\") == 3, \"No charge\"),\n",
    "    (col(\"Payment_type\") == 4, \"Dispute\"),\n",
    "    (col(\"Payment_type\") == 5, \"Unknown\"),\n",
    "    (col(\"Payment_type\") == 6, \"Voided trip\")\n",
    "]\n",
    "\n",
    "# Apply the conditions using 'when' and 'otherwise' functions\n",
    "yellow_data = yellow_data.withColumn(\"RateCodeName\", when(RateCodeName[0][0], RateCodeName[0][1])\n",
    "                            .when(RateCodeName[1][0], RateCodeName[1][1])\n",
    "                            .when(RateCodeName[2][0], RateCodeName[2][1])\n",
    "                            .when(RateCodeName[3][0], RateCodeName[3][1])\n",
    "                            .when(RateCodeName[4][0], RateCodeName[4][1])\n",
    "                            .when(RateCodeName[5][0], RateCodeName[5][1])\n",
    "                            .otherwise(\"Other\"))\n",
    "\n",
    "yellow_data = yellow_data.withColumn(\"PaymentTypeName\", when(PaymentTypeName[0][0], PaymentTypeName[0][1])\n",
    "                            .when(PaymentTypeName[1][0], PaymentTypeName[1][1])\n",
    "                            .when(PaymentTypeName[2][0], PaymentTypeName[2][1])\n",
    "                            .when(PaymentTypeName[3][0], PaymentTypeName[3][1])\n",
    "                            .when(PaymentTypeName[4][0], PaymentTypeName[4][1])\n",
    "                            .when(PaymentTypeName[5][0], PaymentTypeName[5][1])\n",
    "                            .otherwise(\"Other\"))\n"
   ]
  },
  {
   "cell_type": "code",
   "execution_count": 0,
   "metadata": {
    "application/vnd.databricks.v1+cell": {
     "cellMetadata": {
      "byteLimit": 2048000,
      "rowLimit": 10000
     },
     "inputWidgets": {},
     "nuid": "5f5d45dc-0dff-4c49-93c1-823137ff1207",
     "showTitle": false,
     "title": ""
    }
   },
   "outputs": [],
   "source": [
    "from pyspark.sql import SparkSession\n",
    "from pyspark.sql.functions import when, col\n",
    "\n",
    "# Initialize a Spark session\n",
    "spark = SparkSession.builder.appName(\"FilterDataFrame\").getOrCreate()\n",
    "\n",
    "# Assuming you have a DataFrame named 'yellow_data'\n",
    "\n",
    "# Define the conditions for RateCodeID and Payment_type\n",
    "VendorName = [\n",
    "    (col(\"VendorID\") == 1, \" Creative Mobile Technologies, LLC\"),\n",
    "    (col(\"VendorID\") == 2, \" VeriFone Inc.\")\n",
    "]\n",
    "\n",
    "# Apply the conditions using 'when' and 'otherwise' functions\n",
    "yellow_data = yellow_data.withColumn(\"VendorName\", when(VendorName[0][0], VendorName[0][1])\n",
    "                            .when(VendorName[1][0], VendorName[1][1])\n",
    "                            .otherwise(\"Other\"))"
   ]
  },
  {
   "cell_type": "code",
   "execution_count": 0,
   "metadata": {
    "application/vnd.databricks.v1+cell": {
     "cellMetadata": {
      "byteLimit": 2048000,
      "rowLimit": 10000
     },
     "inputWidgets": {},
     "nuid": "d591eed8-23c3-4bdb-b7d4-920bff612478",
     "showTitle": false,
     "title": ""
    }
   },
   "outputs": [],
   "source": [
    "from pyspark.sql import SparkSession\n",
    "from pyspark.sql.functions import when, col\n",
    "\n",
    "# Initialize a Spark session\n",
    "spark = SparkSession.builder.appName(\"FilterDataFrame\").getOrCreate()\n",
    "\n",
    "# Define the conditions for RateCodeID and Payment_type\n",
    "RateCodeName = [\n",
    "    (col(\"RateCodeID\") == 1, \"Standard rate\"),\n",
    "    (col(\"RateCodeID\") == 2, \"JFK\"),\n",
    "    (col(\"RateCodeID\") == 3, \"Newark\"),\n",
    "    (col(\"RateCodeID\") == 4, \"Nassau or Westchester\"),\n",
    "    (col(\"RateCodeID\") == 5, \"Negotiated fare\"),\n",
    "    (col(\"RateCodeID\") == 6, \"Group ride\")\n",
    "]\n",
    "\n",
    "PaymentTypeName = [\n",
    "    (col(\"Payment_type\") == 1, \"Credit card\"),\n",
    "    (col(\"Payment_type\") == 2, \"Cash\"),\n",
    "    (col(\"Payment_type\") == 3, \"No charge\"),\n",
    "    (col(\"Payment_type\") == 4, \"Dispute\"),\n",
    "    (col(\"Payment_type\") == 5, \"Unknown\"),\n",
    "    (col(\"Payment_type\") == 6, \"Voided trip\")\n",
    "]\n",
    "\n",
    "VendorName = [\n",
    "    (col(\"VendorID\") == 1, \" Creative Mobile Technologies, LLC\"),\n",
    "    (col(\"VendorID\") == 2, \" VeriFone Inc.\")\n",
    "]\n",
    "\n",
    "# Apply the conditions using 'when' and 'otherwise' functions\n",
    "green_data = green_data.withColumn(\"RateCodeName\", when(RateCodeName[0][0], RateCodeName[0][1])\n",
    "                            .when(RateCodeName[1][0], RateCodeName[1][1])\n",
    "                            .when(RateCodeName[2][0], RateCodeName[2][1])\n",
    "                            .when(RateCodeName[3][0], RateCodeName[3][1])\n",
    "                            .when(RateCodeName[4][0], RateCodeName[4][1])\n",
    "                            .when(RateCodeName[5][0], RateCodeName[5][1])\n",
    "                            .otherwise(\"Other\"))\n",
    "\n",
    "green_data = green_data.withColumn(\"PaymentTypeName\", when(PaymentTypeName[0][0], PaymentTypeName[0][1])\n",
    "                            .when(PaymentTypeName[1][0], PaymentTypeName[1][1])\n",
    "                            .when(PaymentTypeName[2][0], PaymentTypeName[2][1])\n",
    "                            .when(PaymentTypeName[3][0], PaymentTypeName[3][1])\n",
    "                            .when(PaymentTypeName[4][0], PaymentTypeName[4][1])\n",
    "                            .when(PaymentTypeName[5][0], PaymentTypeName[5][1])\n",
    "                            .otherwise(\"Other\"))\n",
    "\n",
    "green_data = green_data.withColumn(\"VendorName\", when(VendorName[0][0], VendorName[0][1])\n",
    "                            .when(VendorName[1][0], VendorName[1][1])\n",
    "                            .otherwise(\"Other\"))\n"
   ]
  },
  {
   "cell_type": "code",
   "execution_count": 0,
   "metadata": {
    "application/vnd.databricks.v1+cell": {
     "cellMetadata": {
      "byteLimit": 2048000,
      "rowLimit": 10000
     },
     "inputWidgets": {},
     "nuid": "eb4b9847-a681-4e7e-bae7-bd1b0b01a5ac",
     "showTitle": false,
     "title": ""
    }
   },
   "outputs": [
    {
     "output_type": "stream",
     "name": "stdout",
     "output_type": "stream",
     "text": [
      "Out[38]: 547011375"
     ]
    }
   ],
   "source": [
    "yellow_data.count()"
   ]
  },
  {
   "cell_type": "code",
   "execution_count": 0,
   "metadata": {
    "application/vnd.databricks.v1+cell": {
     "cellMetadata": {
      "byteLimit": 2048000,
      "rowLimit": 10000
     },
     "inputWidgets": {},
     "nuid": "995b70b3-9d00-4fe7-aa18-e0d8cbec6170",
     "showTitle": false,
     "title": ""
    }
   },
   "outputs": [],
   "source": [
    "table = \"bigquery-public-data.samples.shakespeare\"\n",
    "df = spark.read.format(\"bigquery\").option(\"table\",table).load()\n",
    "df.createOrReplaceTempView(\"shakespeare\")"
   ]
  },
  {
   "cell_type": "code",
   "execution_count": 0,
   "metadata": {
    "application/vnd.databricks.v1+cell": {
     "cellMetadata": {
      "byteLimit": 2048000,
      "rowLimit": 10000
     },
     "inputWidgets": {},
     "nuid": "574d2972-a91e-4101-a12d-245f87ad918f",
     "showTitle": false,
     "title": ""
    }
   },
   "outputs": [],
   "source": [
    "bucket = \"databricksbigquery\"\n",
    "table = \"nyctripdataset.yellowtaxi\"\n",
    "\n",
    "yellow_data.write.format(\"bigquery\").option(\"temporaryGcsBucket\", bucket).option(\"table\", table).mode(\"overwrite\").save()"
   ]
  },
  {
   "cell_type": "code",
   "execution_count": 0,
   "metadata": {
    "application/vnd.databricks.v1+cell": {
     "cellMetadata": {
      "byteLimit": 2048000,
      "rowLimit": 10000
     },
     "inputWidgets": {},
     "nuid": "21c508b1-e455-4a75-917b-6ebd7b928fbe",
     "showTitle": false,
     "title": ""
    }
   },
   "outputs": [],
   "source": [
    "bucket = \"databricksbigquery\"\n",
    "table = \"nyctripdataset.greentaxi\"\n",
    "\n",
    "green_data.write.format(\"bigquery\").option(\"temporaryGcsBucket\", bucket).option(\"table\", table).mode(\"overwrite\").save()"
   ]
  },
  {
   "cell_type": "code",
   "execution_count": 0,
   "metadata": {
    "application/vnd.databricks.v1+cell": {
     "cellMetadata": {
      "byteLimit": 2048000,
      "rowLimit": 10000
     },
     "inputWidgets": {},
     "nuid": "4b1aecbd-f73f-4fba-b5d9-0e999c3c7ccb",
     "showTitle": false,
     "title": ""
    }
   },
   "outputs": [
    {
     "output_type": "display_data",
     "data": {
      "text/html": [
       "<style scoped>\n",
       "  .ansiout {\n",
       "    display: block;\n",
       "    unicode-bidi: embed;\n",
       "    white-space: pre-wrap;\n",
       "    word-wrap: break-word;\n",
       "    word-break: break-all;\n",
       "    font-family: \"Menlo\", \"Monaco\", \"Consolas\", \"Ubuntu Mono\", \"Source Code Pro\", monospace;\n",
       "    font-size: 13px;\n",
       "    color: #555;\n",
       "    margin-left: 4px;\n",
       "    line-height: 19px;\n",
       "  }\n",
       "</style>"
      ]
     },
     "metadata": {
      "application/vnd.databricks.v1+output": {
       "arguments": {},
       "data": "",
       "errorSummary": "Cancelled",
       "errorTraceType": "html",
       "metadata": {},
       "type": "ipynbError"
      }
     },
     "output_type": "display_data"
    }
   ],
   "source": [
    "bucket = \"databricksbigquery\"\n",
    "table = \"nyctripdataset.fhvhvtaxi\"\n",
    "\n",
    "fhvhv_data.write.format(\"bigquery\").option(\"temporaryGcsBucket\", bucket).option(\"table\", table).mode(\"overwrite\").save()"
   ]
  },
  {
   "cell_type": "code",
   "execution_count": 0,
   "metadata": {
    "application/vnd.databricks.v1+cell": {
     "cellMetadata": {
      "byteLimit": 2048000,
      "rowLimit": 10000
     },
     "inputWidgets": {},
     "nuid": "c7d345dd-a99a-4902-9374-37cfc4690207",
     "showTitle": false,
     "title": ""
    }
   },
   "outputs": [],
   "source": [
    "bucket = \"databricksbigquery\"\n",
    "table = \"nyctripdataset.combinedtaxi\"\n",
    "\n",
    "combined_df.write.format(\"bigquery\").option(\"temporaryGcsBucket\", bucket).option(\"table\", table).mode(\"overwrite\").save()"
   ]
  }
 ],
 "metadata": {
  "application/vnd.databricks.v1+notebook": {
   "dashboards": [],
   "language": "python",
   "notebookMetadata": {
    "mostRecentlyExecutedCommandWithImplicitDF": {
     "commandId": -1,
     "dataframes": [
      "_sqldf"
     ]
    },
    "pythonIndentUnit": 4
   },
   "notebookName": "nyctaxidataanalysis_notebook",
   "widgets": {}
  }
 },
 "nbformat": 4,
 "nbformat_minor": 0
}
